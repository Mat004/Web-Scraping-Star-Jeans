{
 "cells": [
  {
   "cell_type": "markdown",
   "id": "24258b78",
   "metadata": {},
   "source": [
    "# 7 - Business case"
   ]
  },
  {
   "cell_type": "markdown",
   "id": "a8536ea8",
   "metadata": {},
   "source": [
    "O grande objetivo do projeto é responder as perguntas dos sócios da Star Jeans:\n",
    "- Qual o melhor preço de venda para as calças?\n",
    "- Quantos tipos de calças e suas cores para o produto inicial?\n",
    "- Quais as matérias-primas necessárias para confeccionar as calças?\n",
    "\n",
    "Além da resposta para esses questionamentos, qual seria o investimento inicial no negócio?\n",
    "Para entender melhor qual o investimento que será feito, a matéria-prima e os custos que há na confecção das roupas, é preciso analisar os processos de fabricação. Na confecção de roupas, é possível observar que há os seguintes custos:\n",
    "\n",
    "- Custos com matéria-prima:\n",
    "    - Tecido;\n",
    "    - Entretela;\n",
    "    - Botão;\n",
    "    - Zíper;\n",
    "    - Linha;\n",
    "    - Etiqueta;\n",
    "    - Tag;\n",
    "    - Embalagem.\n",
    "- Custos com mão de obra;\n",
    "- Custos com energia; e\n",
    "- Custos com impostos.\n",
    "\n",
    "Em cada um dos items acima, há uma forma de estimar os custos e serão descritos abaixo."
   ]
  },
  {
   "cell_type": "markdown",
   "id": "6fc23998",
   "metadata": {
    "heading_collapsed": true
   },
   "source": [
    "## 7.1 Custos com matéria-prima"
   ]
  },
  {
   "cell_type": "markdown",
   "id": "53b6e729",
   "metadata": {
    "hidden": true
   },
   "source": [
    "Todos os preços que serão mencionados aqui, foram retirados de lojas online especializadas em vendas de produtos para confecção. O que isso significa? Que o valor final será uma estimativa, na realidade as matérias-primas são compradas em atacado, com preços bem menores, fazendo assim com que haja um custo inferior nessa etapa."
   ]
  },
  {
   "cell_type": "markdown",
   "id": "be98bb7a",
   "metadata": {
    "hidden": true
   },
   "source": [
    "Medidas de uma calça jeans masculina:\n",
    "\n",
    "<img src = \"https://static.homemecia.com.br/public/homemecia/imagens/produtos/tabela_tamanho/dac739c505a832fe637926c2498e3127.jpg\">"
   ]
  },
  {
   "cell_type": "markdown",
   "id": "2018b0f3",
   "metadata": {
    "heading_collapsed": true,
    "hidden": true
   },
   "source": [
    "### 7.1.1 Custo do tecido"
   ]
  },
  {
   "cell_type": "markdown",
   "id": "9e02fc28",
   "metadata": {
    "hidden": true
   },
   "source": [
    "Nessa etapa, será considerado uma calça jeans do tamanho 42 como exemplo de estimativa para os custos. O cálculo para o tecido que será utilizado, é baseado na área de uma calça, para isso é preciso pegar a altura e o tamanho do quadril (maior que a cintura).\n",
    "\n",
    "Alguns sites indicam que para haver uma quantidade extra de tecido para costuras e bainhas, é necessário adicionar cerca de 20 centímetros de tecido na altura da calça. A fórmula que será utilizada é básica: \n",
    "\n",
    "<b> Área = (altura + 20cm) * quadril</b>\n",
    "\n",
    "Substituindo os valores para uma calça de tamanho 42:\n",
    "\n",
    "<b> Área = (105 + 20cm) * 52</b>\n",
    "\n",
    "Dessa forma tem-se um valor de <b>6500cm²</b>, transformando em metros quadrados <b>0,65m²</b>."
   ]
  },
  {
   "cell_type": "markdown",
   "id": "e1b3cfda",
   "metadata": {
    "hidden": true
   },
   "source": [
    "Pesquisando em algumas lojas virtuais, foi possível obter um valor de tecido por volta de <b> R&#36; 21,76 por m²</b>. Isso sendo um tecido feito totalmente de algodão. Efetuando uma simples \"regra de 3\" pode-se obter o valor de 0,65m². O valor para cada calça seria de <b> R&#36; 14,14 </b>."
   ]
  },
  {
   "cell_type": "markdown",
   "id": "8125e443",
   "metadata": {
    "heading_collapsed": true,
    "hidden": true
   },
   "source": [
    "### 7.1.2 Entretela"
   ]
  },
  {
   "cell_type": "markdown",
   "id": "055c6b21",
   "metadata": {
    "hidden": true
   },
   "source": [
    "Entretela é usado para estabilizar, encorporar e estabilizar o tecido que será bordado. Em lojas virtuais, o valor da entretela é de R&#36; 13,33 por m². A recomendação é utilizar 0,07cm desse material, dessa forma precisamos determinar o valor do metro desse componente:\n",
    "\n",
    "m² = 40/3 --> <b> m = 3,65 </b>\n"
   ]
  },
  {
   "cell_type": "markdown",
   "id": "29db3cb7",
   "metadata": {
    "hidden": true
   },
   "source": [
    "Como é preciso cerca de 0,07cm de entretela, aplicando uma proporção obtemos um valor de <b> R&#36; 2,65.10⁻³</b>."
   ]
  },
  {
   "cell_type": "markdown",
   "id": "e7be49a4",
   "metadata": {
    "heading_collapsed": true,
    "hidden": true
   },
   "source": [
    "### 7.1.3 Custo do botão"
   ]
  },
  {
   "cell_type": "markdown",
   "id": "724e769e",
   "metadata": {
    "hidden": true
   },
   "source": [
    "Um pacote contendo 100 unidades de botão custa <b> R&#36; 52,00</b>, portanto um botão custa <b> R&#36; 0,52</b>."
   ]
  },
  {
   "cell_type": "markdown",
   "id": "c66028e3",
   "metadata": {
    "heading_collapsed": true,
    "hidden": true
   },
   "source": [
    "### 7.1.4 Custo do zíper"
   ]
  },
  {
   "cell_type": "markdown",
   "id": "b6a981a4",
   "metadata": {
    "hidden": true
   },
   "source": [
    "Dez unidades de zíper com tamanho padrão para calças jeans, custam <b> R&#36; 16,00</b>, portanto um zíper custa <b> R&#36; 1,60</b>."
   ]
  },
  {
   "cell_type": "markdown",
   "id": "fd817ec9",
   "metadata": {
    "heading_collapsed": true,
    "hidden": true
   },
   "source": [
    "### 7.1.5 Custo da linha"
   ]
  },
  {
   "cell_type": "markdown",
   "id": "b366b507",
   "metadata": {
    "ExecuteTime": {
     "end_time": "2022-08-29T23:46:56.615983Z",
     "start_time": "2022-08-29T23:46:56.608006Z"
    },
    "hidden": true
   },
   "source": [
    "Com um tubo com 1000 metros, é possível produzir cerca de 9 calças, e cada tubo custa <b> R&#36; 13,21</b>, portanto uma calça terá o valor de <b> R&#36; 1,46</b>."
   ]
  },
  {
   "cell_type": "markdown",
   "id": "8be66140",
   "metadata": {
    "heading_collapsed": true,
    "hidden": true
   },
   "source": [
    "### 7.1.6 Custo da etiqueta"
   ]
  },
  {
   "cell_type": "markdown",
   "id": "41375984",
   "metadata": {
    "hidden": true
   },
   "source": [
    "Cerca de 2000 unidades de etiqueta custam <b> R&#36; 1000,00</b>, dessa forma uma etiqueta tem o valor de <b> R&#36; 2,00</b>."
   ]
  },
  {
   "cell_type": "markdown",
   "id": "37a4556c",
   "metadata": {
    "heading_collapsed": true,
    "hidden": true
   },
   "source": [
    "### 7.1.7 Custo da etiqueta de composição"
   ]
  },
  {
   "cell_type": "markdown",
   "id": "25d24331",
   "metadata": {
    "hidden": true
   },
   "source": [
    "Um pacote com <b>100 unidades</b> de etiqueta específica para informações de composição da peça, custa em média <b>R&#36; 57,95</b>, ou seja, uma unidade tem o valor de <b>R&#36; 0,58</b>."
   ]
  },
  {
   "cell_type": "markdown",
   "id": "adf08d3c",
   "metadata": {
    "heading_collapsed": true,
    "hidden": true
   },
   "source": [
    "### 7.1.8 Custo da embalagem"
   ]
  },
  {
   "cell_type": "markdown",
   "id": "f28fe35d",
   "metadata": {
    "hidden": true
   },
   "source": [
    "As embalagens encontradas na pesquisa, foram contendo 100 unidades no pacote, tendo um valor de <b>R&#36; 57,55</b>, dessa forma uma embalagem terá o valor de <b>R&#36; 0,58</b>."
   ]
  },
  {
   "cell_type": "markdown",
   "id": "754908d6",
   "metadata": {
    "heading_collapsed": true,
    "hidden": true
   },
   "source": [
    "### 7.1.9 Total"
   ]
  },
  {
   "cell_type": "markdown",
   "id": "d09d8046",
   "metadata": {
    "hidden": true
   },
   "source": [
    "Desse modo, temos um custo com matéria-prima de aproximadamente <b>R$ 20,89</b> por calça."
   ]
  },
  {
   "cell_type": "markdown",
   "id": "ec20959e",
   "metadata": {
    "heading_collapsed": true
   },
   "source": [
    "## 7.2 Custo da mão-de-obra"
   ]
  },
  {
   "cell_type": "markdown",
   "id": "f5a388d6",
   "metadata": {
    "hidden": true
   },
   "source": [
    "Os custos com mão-de-obra, começa no mapeamento da peça até a embalagem. Os processos e o tempo estimado são:\n",
    "\n",
    "- Mapear e cortar: 5min;\n",
    "- Costurar: 30min;\n",
    "- Passar e embalar: 5min.\n",
    "\n",
    "Dessa forma temos que o tempo estimado para a confeção de uma calça e o tempo de embalo, é de aproximadamente <b>40 minutos</b>. Considerando o salário mínimo atual (ano de 2022), um colaborador recebe <b>R$ 1.212,00</b>. A partir desse valor teremos a estimativa de quanto será aplicado na mão-de-obra de uma calça."
   ]
  },
  {
   "cell_type": "markdown",
   "id": "71a9073a",
   "metadata": {
    "hidden": true
   },
   "source": [
    "Abaixo temos uma tabela contendo os dias úteis de cada mês para o ano de 2022 no Brasil. Totalizando ao todo 253 dias úteis. Efetuando um cálculo simples para termos uma quantidade de dias úteis média, basta dividir o total por 12, obtendo assim: <b>21 dias úteis</b>."
   ]
  },
  {
   "cell_type": "code",
   "execution_count": 11,
   "id": "d337eac1",
   "metadata": {
    "ExecuteTime": {
     "end_time": "2022-08-31T13:10:55.164086Z",
     "start_time": "2022-08-31T13:10:55.151083Z"
    },
    "code_folding": [
     0
    ],
    "hidden": true
   },
   "outputs": [
    {
     "name": "stdout",
     "output_type": "stream",
     "text": [
      "  Jan    Fev    Mar    Abr    Mai    Jun    Jul    Ago    Set    Out    Nov    Dez    All\n",
      "-----  -----  -----  -----  -----  -----  -----  -----  -----  -----  -----  -----  -----\n",
      "   21     20     22     19     22     22     21     23     21     20     20     22    253\n"
     ]
    }
   ],
   "source": [
    "table = [\n",
    "         ['Jan', 'Fev', 'Mar', 'Abr', 'Mai', 'Jun', 'Jul', 'Ago', 'Set', 'Out', 'Nov', 'Dez', 'All'],\n",
    "         [21, 20, 22, 19, 22, 22, 21, 23, 21, 20, 20, 22, 253]        \n",
    "        ]\n",
    "\n",
    "print(tabulate(table, headers='firstrow'))"
   ]
  },
  {
   "cell_type": "markdown",
   "id": "7a7de5c9",
   "metadata": {
    "hidden": true
   },
   "source": [
    "Como o nosso objetivo é estimar o valor gasto para confecção de uma calça, transformaremos os 21 dias em minutos. Considerando uma jornada de trabalho de 8h por dia, temos que ao final de 21 dias a pessoa trabalhou <b>168h</b>. \n",
    "\n",
    "Dentro de 1h temos 60min, então dentro de 168h temos <b>10.080 minutos</b>. Considerando nosso salário de <b>R&#36; 1.212,00</b>, o funcionário ganha aproximadamente <b>R&#36; 0,12</b> por minuto trabalhado.\n",
    "\n",
    "Como há aproximadamente 40min para fazer uma peça e embalar, o valor final com mão-de-obra fica <b>R&#36; 4,80</b>."
   ]
  },
  {
   "cell_type": "markdown",
   "id": "b29b679d",
   "metadata": {
    "heading_collapsed": true
   },
   "source": [
    "## 7.3 Custo com energia"
   ]
  },
  {
   "cell_type": "markdown",
   "id": "49100793",
   "metadata": {
    "hidden": true
   },
   "source": [
    "No custo com energia elétrica, temos que ter os valores para 1 kwh (kilo-watt hora). O valor utilizado, será baseado nos valores aplicados na cidade de Fortaleza/CE. A última atualização mostra que são <b>R&#36; 73,00</b> para cada 100kwh, o que nos leva a <b>R&#36; 0,73 / kwh</b>.\n",
    "\n",
    "Alguns equipamentos são necessários para a confecção das roupas, como lâmpadas, máquinas de costura e ferros de passar. Cada um possui uma determinada potência. Abaixo há uma breve descrição de cada um:\n",
    "\n",
    "- Lâmpada LED: 8W\n",
    "- Máquina de costura industrial: 550W\n",
    "- Ferro de passar: 1200W\n",
    "\n",
    "Para estimarmos o valor de kwh gasto durante um mês de cada um, iremos utilzar uma fórmula básica:\n",
    "\n",
    "\\begin{equation*}\n",
    "kwh = (W * H * D) / 1000\n",
    "\\end{equation*}\n",
    "\n",
    "Onde:\n",
    "\n",
    "- W: Potência do equipamento em Watts\n",
    "- H: Número de horas utilizadas em um dia\n",
    "- D: Número de dias de uso no mês\n",
    "\n",
    "Será considerado nesse caso um ambiente contendo 10 lâmpadas e para cada lâmpada uma máquina de costura, totalizando dessa forma 10 máquinas. Como há a etapa de passar a roupa, cada máquina terá seu ferro de passar, ficando dessa forma 10 ferros."
   ]
  },
  {
   "cell_type": "markdown",
   "id": "fc36f7fa",
   "metadata": {
    "heading_collapsed": true,
    "hidden": true
   },
   "source": [
    "### 7.3.1 Custo lâmpada"
   ]
  },
  {
   "cell_type": "markdown",
   "id": "ee103702",
   "metadata": {
    "hidden": true
   },
   "source": [
    "Considerando o ambiente acima, temos que para uma lâmpada que será utilizada o dia inteiro de trabalho (no caso serão 8h/dia):\n",
    "\n",
    "\\begin{equation*}\n",
    "kwh = (8 * 8 * 21) / 1000\n",
    "\\end{equation*}\n",
    "\n",
    "Totalizando cerca de <b>1,34 kwh</b> no mês. Como temos 10 lâmpadas, o consumo total será de <b> 13,40 kwh </b>."
   ]
  },
  {
   "cell_type": "markdown",
   "id": "6265b32d",
   "metadata": {
    "heading_collapsed": true,
    "hidden": true
   },
   "source": [
    "### 7.3.2 Custo das máquinas de costura"
   ]
  },
  {
   "cell_type": "markdown",
   "id": "12793816",
   "metadata": {
    "hidden": true
   },
   "source": [
    "Nessa etapa da estimativa de consumo de energia das máquinas de costura, precisamos calcular o tempo que elas serão realmente utilizadas durante as 8h de trabalho. O tempo de confecção de uma calça leva em média 40 min. Considerando as 8h trabalhadas totalmente (sem pausas), há cerca de 12 calças sendo feitas por máquina de costura.\n",
    "\n",
    "Como o tempo de costura leva em média 30 min, aplicando esse tempo em 12 calças temos que o tempo real de trabalho da máquina de costura é de: <b>360 min</b>, o que nos leva a <b>6h</b>.\n",
    "\n",
    "Aplicando a equação para o kwh, obtemos <b>69,3 kwh</b> por máquina de costura, totalizando para as 10 máquinas <b>693 kwh</b>."
   ]
  },
  {
   "cell_type": "markdown",
   "id": "78797504",
   "metadata": {
    "heading_collapsed": true,
    "hidden": true
   },
   "source": [
    "### 7.3.3 Custo do ferro de passar"
   ]
  },
  {
   "cell_type": "markdown",
   "id": "f0f2fd04",
   "metadata": {
    "hidden": true
   },
   "source": [
    "O processo será similar ao aplicado nas máquinas de costura. Como o ferro de passar é usado durante 5 min por calça, considerando que haja 12 calças sendo feitas, o tempo total é de <b>1h</b>. Dessa forma, em um ferro de passar temos <b>25,2 kwh</b> e para 10 ferros <b>252 kwh</b>."
   ]
  },
  {
   "cell_type": "markdown",
   "id": "56cf3900",
   "metadata": {
    "heading_collapsed": true,
    "hidden": true
   },
   "source": [
    "### 7.3.4 Custo total"
   ]
  },
  {
   "cell_type": "markdown",
   "id": "5886e3bc",
   "metadata": {
    "hidden": true
   },
   "source": [
    "Com o somatório dos 3 principais custos com energia, temos o valor total de <b>958,4 kwh</b>. Aplicando o valor de 1 kwh adotado para esse problema, tem-se o custo de energia aproximadamente de <b>R&#36; 699,63</b>.\n",
    "\n",
    "Esse valor é uma estimativa, considerando que as <b>lâmpadas</b> trabalharam 8h/dia, as <b>máquinas de costura</b> funcionaram somente 30 min por calça e os <b>ferros de passar</b> sendo utilizados durante 5 min por calça. \n",
    "\n",
    "Em alguns locais há taxas extras de consumo, podendo variar o valor da energia em determinados períodos do ano. NO entanto, para efeitos didáticos, esse valor final será considerado."
   ]
  },
  {
   "cell_type": "markdown",
   "id": "df37dab3",
   "metadata": {
    "heading_collapsed": true
   },
   "source": [
    "## 7.4 Custo com impostos"
   ]
  },
  {
   "cell_type": "markdown",
   "id": "1184c4cc",
   "metadata": {
    "hidden": true
   },
   "source": [
    "Os impostos de uma empresa de roupas, é baseado no faturamento bruto dela anualmente. Dessa forma, não há um padrão a ser seguido, somente a tabela de referência abaixo:\n",
    "\n",
    "<img src = \"https://conube.com.br/blog/wp-content/uploads/2021/06/anexo-I.jpg\">"
   ]
  },
  {
   "cell_type": "markdown",
   "id": "4ea90004",
   "metadata": {
    "heading_collapsed": true
   },
   "source": [
    "## 7.5 Total do investimento inicial"
   ]
  },
  {
   "cell_type": "markdown",
   "id": "89e4f9de",
   "metadata": {
    "hidden": true
   },
   "source": [
    "Nessa última etapa faremos a estimativa de investimento inicial para a entrada no mercado de calças jeans masculinas e o preço que deverá ser praticado."
   ]
  },
  {
   "cell_type": "markdown",
   "id": "477e2464",
   "metadata": {
    "heading_collapsed": true,
    "hidden": true
   },
   "source": [
    "### 7.5.1 Investimento"
   ]
  },
  {
   "cell_type": "markdown",
   "id": "2406b7ba",
   "metadata": {
    "hidden": true
   },
   "source": [
    "Será considerado uma situação em que há somente um turno de trabalho, ou seja, há somente <b>8h</b> sendo trabalhadas por dia. A quantidade de <b>funcionários</b> é de 10 e os <b>dias úteis</b> serão 21.\n",
    "\n",
    "Primeiro faremos o cálculo do salário do colaborador. O salário mínimo em 2022 é de <b>R&#36; 1.212,00</b> para os 10 colaboradores, há um investimento mensal de <b>R&#36; 12.120,00</b>.\n",
    "\n",
    "Segundo, os custo com energia elétrica ficou aproximadamente <b>R&#36; 699,63</b>.\n",
    "\n",
    "Terceiro, considerando que em um dia haja a confecção de 120 calças, no final de 21 dias serão <b>2520</b> calças no total. Como o custo com matéria-prima para uma calça é de <b>R&#36; 20,89</b>, o investimento final será de <b>R&#36; 52.642,80</b>.\n",
    "\n",
    "Dessa forma temos que em um mês, o valor mínimo a ser investido é de <b>R&#36; 65.642,43</b> para que haja o pagamento dos custos básicos com matéria-prime, colaboradores e energia elétrica."
   ]
  },
  {
   "cell_type": "markdown",
   "id": "19b55c01",
   "metadata": {
    "heading_collapsed": true,
    "hidden": true
   },
   "source": [
    "### 7.5.2 Preço praticado"
   ]
  },
  {
   "cell_type": "markdown",
   "id": "20cda6bd",
   "metadata": {
    "hidden": true
   },
   "source": [
    "Considerando o valor acima, para o pagamentos dos custos básicos, qual seria o preço de uma calça capaz de suprir ao menos esses custos?\n",
    "\n",
    "Para isso faremos o valor total inicial, dividido pela estimativa de calças no mês que é de 2520. O valor de uma calça ficaria de <b>R&#36; 26,04</b>. Esse é o valor que deve ser vendido uma calça caso haja apenas a pretensão de pagar os custos básicos.\n",
    "\n",
    "Como esse não é o objetivo, mas sim lucrar e dessa forma crescer mais o patrimônio, o valor praticado será maior e correspondente ao mercado. Esse valor de <b>R&#36; 26,04</b> acrescentado de 10% é de <b>R&#36; 28,64</b> e ficará como o limite inferior para o preço, ou seja, caso haja desconto esse deve ser o valor mínimo para o produto. Permitindo assim que haja uma pequena margem de lucro.\n",
    "\n",
    "Pegando como referência os dados coletados da H&M, temos que para uma calça 100% de algodão, o preço praticado é de <b>US&#36; 39,99</b>, convertendo para reais usando a cotação de <b>R&#36; 5,15</b>, o preço final é de <b>R&#36; 205,94</b>."
   ]
  },
  {
   "cell_type": "code",
   "execution_count": 13,
   "id": "b0d94899",
   "metadata": {
    "ExecuteTime": {
     "end_time": "2022-09-07T23:19:11.136078Z",
     "start_time": "2022-09-07T23:19:11.126295Z"
    },
    "hidden": true
   },
   "outputs": [
    {
     "data": {
      "text/plain": [
       "39.99"
      ]
     },
     "execution_count": 13,
     "metadata": {},
     "output_type": "execute_result"
    }
   ],
   "source": [
    "################################################\n",
    "# Preço mediano de calças com 100% de algodão\n",
    "################################################\n",
    "\n",
    "data_med = data_hm.loc[data_hm['cotton']==1, :]\n",
    "np.median(data_med['product_price'])"
   ]
  },
  {
   "cell_type": "markdown",
   "id": "fd9b3c3c",
   "metadata": {
    "hidden": true
   },
   "source": [
    "Com o objetivo de seguir o mercado americano, com os preços dos players, o valor inicial será de <b>R&#36; 189,99</b>, o que em dólar seria de <b>US&#36; 36,89</b>."
   ]
  },
  {
   "cell_type": "markdown",
   "id": "02a982a1",
   "metadata": {
    "heading_collapsed": true,
    "hidden": true
   },
   "source": [
    "### 7.5.3 Faturamento bruto"
   ]
  },
  {
   "cell_type": "markdown",
   "id": "81e844d6",
   "metadata": {
    "hidden": true
   },
   "source": [
    "Considerando a situação de produção mensal de 2520 calças, sendo vendidas cada uma por <b>R&#36; 189,99</b>, o faturamento da empresa será de <b>R&#36; 478.774,80</b> no mês, considerando o ano o valor acumulado seria de <b>R&#36; 5.745.297,60</b>. A quantidade de impostos que iria incidir seria de <b>19%</b>."
   ]
  },
  {
   "cell_type": "markdown",
   "id": "34e8f241",
   "metadata": {},
   "source": [
    "# 8 - Conclusion and Next Steps"
   ]
  },
  {
   "cell_type": "markdown",
   "id": "070009be",
   "metadata": {},
   "source": [
    "Dessa forma o preço praticado será de <b>US&#36; 36,89</b>. Com um investimento inicial de <b>US&#36; 12.746,10</b>.\n",
    "\n",
    "<b>OBS.:</b> É válido ressaltar que todos os valores aqui abordados, além de terem sido considerados como preços de varejo, os valores analisados refletem a realidade do mercado brasileiro, enquanto toda a extração de dados foi realizada com um player americano. Tendo em vista isso, é proposto alguns passos para que haja uma melhor acurácia nas estimativas de preços:\n",
    "\n",
    "- Analisar períodos maiores para identificar sazonalidades e comportamentos do mercado de calças;\n",
    "- Buscas outros players para extração de dados;\n",
    "- Construção de um mapa com a localização dos players;\n",
    "- Extrair dados de composição das roupas para avaliar a venda de produtos mais variados;\n",
    "- A partir dos dados \"históricos\", criar um algoritmo de previsão de preços;\n",
    "- Analisar os preços praticados no mercado americano para energia, mão-de-obra e matéria-prima, para que haja uma estimativa de preço mais condizente com a realidade."
   ]
  }
 ],
 "metadata": {
  "kernelspec": {
   "display_name": "Python 3 (ipykernel)",
   "language": "python",
   "name": "python3"
  },
  "language_info": {
   "codemirror_mode": {
    "name": "ipython",
    "version": 3
   },
   "file_extension": ".py",
   "mimetype": "text/x-python",
   "name": "python",
   "nbconvert_exporter": "python",
   "pygments_lexer": "ipython3",
   "version": "3.9.12"
  },
  "latex_envs": {
   "LaTeX_envs_menu_present": true,
   "autoclose": false,
   "autocomplete": true,
   "bibliofile": "biblio.bib",
   "cite_by": "apalike",
   "current_citInitial": 1,
   "eqLabelWithNumbers": true,
   "eqNumInitial": 1,
   "hotkeys": {
    "equation": "Ctrl-E",
    "itemize": "Ctrl-I"
   },
   "labels_anchors": false,
   "latex_user_defs": false,
   "report_style_numbering": false,
   "user_envs_cfg": false
  }
 },
 "nbformat": 4,
 "nbformat_minor": 5
}
