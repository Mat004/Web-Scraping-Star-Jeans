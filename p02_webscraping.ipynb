{
 "cells": [
  {
   "cell_type": "markdown",
   "id": "4f4ee630",
   "metadata": {
    "heading_collapsed": true
   },
   "source": [
    "# 1 - Imports"
   ]
  },
  {
   "cell_type": "code",
   "execution_count": 2,
   "id": "e3c58d71",
   "metadata": {
    "ExecuteTime": {
     "end_time": "2022-09-07T23:09:03.156337Z",
     "start_time": "2022-09-07T23:09:00.740157Z"
    },
    "hidden": true
   },
   "outputs": [],
   "source": [
    "from bs4 import BeautifulSoup as bts\n",
    "from datetime import datetime\n",
    "from tabulate import tabulate\n",
    "\n",
    "import requests\n",
    "import pandas as pd\n",
    "import numpy as np\n",
    "import re\n",
    "import seaborn as sns\n",
    "import sweetviz as sv\n",
    "import matplotlib.pyplot as plt\n",
    "\n",
    "pd.set_option('display.float_format', '{:.2f}'.format)"
   ]
  },
  {
   "cell_type": "markdown",
   "id": "1cd5457e",
   "metadata": {
    "heading_collapsed": true
   },
   "source": [
    "# 2 - Helper Functions"
   ]
  },
  {
   "cell_type": "markdown",
   "id": "e46ba658",
   "metadata": {
    "heading_collapsed": true,
    "hidden": true
   },
   "source": [
    "## 2.1 - Data processing"
   ]
  },
  {
   "cell_type": "code",
   "execution_count": 3,
   "id": "edf6a8ec",
   "metadata": {
    "ExecuteTime": {
     "end_time": "2022-09-07T23:09:11.251464Z",
     "start_time": "2022-09-07T23:09:11.234834Z"
    },
    "code_folding": [],
    "hidden": true
   },
   "outputs": [],
   "source": [
    "def describe(data):\n",
    "    \n",
    "    num_attributes = data.select_dtypes( include=['int64', 'float64'] )\n",
    "    media = pd.DataFrame( num_attributes.apply( np.mean ) )\n",
    "    mediana = pd.DataFrame( num_attributes.apply( np.median ) )\n",
    "    std = pd.DataFrame( num_attributes.apply( np.std ) )\n",
    "\n",
    "    max_ = pd.DataFrame( num_attributes.apply( np.max ) ) \n",
    "    min_ = pd.DataFrame( num_attributes.apply( np.min ) ) \n",
    "\n",
    "    df_sc = pd.concat([max_, min_, media, mediana, std], axis=1 ).reset_index()\n",
    "    df_sc.columns = ['attributes', 'max', 'min', 'mean', 'median', 'std']\n",
    "    \n",
    "    return df_sc\n",
    "\n",
    "\n",
    "\n",
    "\n",
    "\n",
    "###################################################################\n",
    "#                     Data Processing H&M\n",
    "###################################################################\n",
    "\n",
    "def dp_hm (path):\n",
    "    \n",
    "    data = pd.read_csv(path, sep=';')\n",
    "    \n",
    "    \n",
    "    # Removendo dados duplicados\n",
    "    \n",
    "    data = data.drop_duplicates()\n",
    "    \n",
    "    \n",
    "    # Removendo dados nulos/faltantes das principais colunas\n",
    "    \n",
    "    data = data.dropna(subset=['product_id', 'product_name', 'product_price', 'product_composition', 'product_fit'])\n",
    "        \n",
    "    \n",
    "    # Removendo dados fora de contexto das principais colunas\n",
    "    \n",
    "    data = data.loc[~((data['product_fit'] == \"\"\"The model is 189cm/6'2\" and wears a size 31/32\"\"\") |\n",
    "                     (data['product_fit'] == \"\"\"The model is 187cm/6'2\" and wears a size 31/32\"\"\")),:]\n",
    "    \n",
    "    data = data.reset_index(drop=True)\n",
    "    \n",
    "    return data\n",
    "\n",
    "\n",
    "\n",
    "def column_hm(data):\n",
    "\n",
    "    data['product_id'] = data['product_id'].astype('int64').astype('str')\n",
    "    \n",
    "    data['data_scrapy'] = data['data_scrapy'].apply(lambda x: datetime.strptime(x, \"%d/%m/%Y %H:%M\"))\n",
    "    data['data_year'] = data['data_scrapy'].apply(lambda x: x.year)\n",
    "    data['data_month'] = data['data_scrapy'].apply(lambda x: datetime.strptime(str(x.month), '%m').strftime('%b'))\n",
    "    data['data_day_name'] = data['data_scrapy'].apply(lambda x: datetime.strptime(str(x.day), '%d').strftime('%A'))\n",
    "    data['data_day_number'] = data['data_scrapy'].apply(lambda x: x.day)\n",
    "    \n",
    "    data['product_price'] = data['product_price'].astype('float64')\n",
    "    data['product_price_new'] = data['product_price_new'].astype('float64')\n",
    "    \n",
    "    return data\n",
    "\n",
    "\n",
    "###################################################################\n",
    "#                     Data Processing Macy's\n",
    "###################################################################\n",
    "\n",
    "def dp_macys (path2):\n",
    "    \n",
    "    data = pd.read_csv(path2)\n",
    "    \n",
    "    # Removendo dados duplicados\n",
    "    \n",
    "    data = data.drop_duplicates()\n",
    "    \n",
    "        \n",
    "    # Extraindo o estilo da calça de 'product_ref'\n",
    "    \n",
    "    data['product_fit'] = data['product_ref'].apply(lambda x: 'Straight Jeans' if 'Straight' in x  else\n",
    "                                                              'Straight Jeans' if 'Regular'  in x  else\n",
    "                                                              'Bootcut Jeans'  if 'Bootcut'  in x  else\n",
    "                                                              'Relaxed Jeans'  if 'Relaxed'  in x  else\n",
    "                                                              'Skinny Jeans'   if 'Skinny'   in x  else\n",
    "                                                              'Slim Jeans'     if 'Slim'     in x  else\n",
    "                                                              'Baggy Jeans'    if 'Baggy'    in x  else\n",
    "                                                              'Athletic Jeans' if 'Athletic' in x  else \n",
    "                                                              'Modern Jeans')\n",
    "    \n",
    "    return data\n",
    "\n",
    "\n",
    "\n",
    "def column_macys(data):\n",
    "\n",
    "    data['product_id'] = data['product_id'].astype('str')\n",
    "    \n",
    "    data['data_scrapy'] = data['data_scrapy'].apply(lambda x: datetime.strptime(x, \"%Y-%m-%d %H:%M:%S\"))\n",
    "    data['data_year'] = data['data_scrapy'].apply(lambda x: x.year)\n",
    "    data['data_month'] = data['data_scrapy'].apply(lambda x: datetime.strptime(str(x.month), '%m').strftime('%b'))\n",
    "    data['data_day_name'] = data['data_scrapy'].apply(lambda x: datetime.strptime(str(x.day), '%d').strftime('%A'))\n",
    "    data['data_day_number'] = data['data_scrapy'].apply(lambda x: x.day)\n",
    "    \n",
    "    data['product_price'] = data['product_price'].astype('float64')\n",
    "    data['product_sale'] = data['product_sale'].astype('float64')\n",
    "    \n",
    "    return data"
   ]
  },
  {
   "cell_type": "markdown",
   "id": "adad356d",
   "metadata": {
    "heading_collapsed": true,
    "hidden": true
   },
   "source": [
    "## 2.2 - Regular expression"
   ]
  },
  {
   "cell_type": "code",
   "execution_count": 4,
   "id": "b45ddf81",
   "metadata": {
    "ExecuteTime": {
     "end_time": "2022-09-07T23:09:12.911080Z",
     "start_time": "2022-09-07T23:09:12.884239Z"
    },
    "code_folding": [],
    "hidden": true
   },
   "outputs": [],
   "source": [
    "###################################################################\n",
    "#                         Regex H&M\n",
    "###################################################################\n",
    "\n",
    "def regex_hm(data):\n",
    "    \n",
    "    # Extraindo informações da coluna 'product_composition'\n",
    "    \n",
    "    y = []\n",
    "    \n",
    "    regex = 'Shell:\\s(.+%)[A-Z]|Shell:\\s(.+%)'\n",
    "    regex2 = 'Composition([Cotton].+%)[A-Z]|%([Cotton].+%)'\n",
    "    regex3 = 'Composition([Cotton].+%)|%([Cotton].+%)'\n",
    "        \n",
    "    for i in range(len(data)):\n",
    "        \n",
    "        if \"Shell\" in data.loc[i, 'product_composition']:\n",
    "            if re.search(regex, data.loc[i, 'product_composition']).group(2) == None:\n",
    "                y.append(re.search(regex, data.loc[i, 'product_composition']).group(1))\n",
    "\n",
    "            else:\n",
    "                y.append(re.search(regex, data.loc[i, 'product_composition']).group(2))\n",
    "\n",
    "        elif \"Pocket\" in data.loc[i, 'product_composition']:\n",
    "            if re.search(regex2, data.loc[i, 'product_composition']).group(2) == None:\n",
    "                y.append(re.search(regex2, data.loc[i, 'product_composition']).group(1))\n",
    "\n",
    "            else:\n",
    "                y.append(re.search(regex2, data.loc[i, 'product_composition']).group(2))\n",
    "        \n",
    "        elif \"Lining\" in data.loc[i, 'product_composition']:\n",
    "            if re.search(regex2, data.loc[i, 'product_composition']).group(2) == None:\n",
    "                y.append(re.search(regex2, data.loc[i, 'product_composition']).group(1))\n",
    "\n",
    "            else:\n",
    "                y.append(re.search(regex2, data.loc[i, 'product_composition']).group(2))\n",
    "                \n",
    "        else:\n",
    "            if re.search(regex3, data.loc[i, 'product_composition']).group(2) == None:\n",
    "                y.append(re.search(regex3, data.loc[i, 'product_composition']).group(1))\n",
    "\n",
    "            else:\n",
    "                y.append(re.search(regex3, data.loc[i, 'product_composition']).group(2))\n",
    "        \n",
    "    data1 = pd.DataFrame([y]).T\n",
    "    data1.columns = ['product_composition']\n",
    "    data1 = data1['product_composition'].str.split(',', expand=True)\n",
    "    \n",
    "    data_ref = pd.DataFrame(index=np.arange(len(data)) ,columns=['cotton', 'spandex', 'polyester', 'elastomultiester'])\n",
    "    \n",
    "    df_cotton = data1[0]\n",
    "    df_cotton.name = 'cotton'\n",
    "    data_ref = pd.concat([data_ref, df_cotton], axis=1)\n",
    "    data_ref = data_ref.iloc[:, ~data_ref.columns.duplicated(keep='last')]\n",
    "    \n",
    "    \n",
    "    df_spandex = data1.loc[data1[1].str.contains('Spandex', na=True),1]\n",
    "    df_spandex.name = 'spandex'\n",
    "    df_spandex = df_spandex.combine_first(data1[2])\n",
    "    data_ref = pd.concat([data_ref, df_spandex], axis=1)\n",
    "    data_ref = data_ref.iloc[:, ~data_ref.columns.duplicated(keep='last')] \n",
    "    data_ref['spandex'] = data_ref['spandex'].fillna('Spandex 0%')\n",
    "\n",
    "    \n",
    "    df_polyester = data1.loc[data1[1].str.contains('Polyester', na=True),1]\n",
    "    df_polyester.name = 'polyester'\n",
    "    data_ref = pd.concat([data_ref, df_polyester], axis=1)\n",
    "    data_ref = data_ref.iloc[:, ~data_ref.columns.duplicated(keep='last')] \n",
    "    data_ref['polyester'] = data_ref['polyester'].fillna('Polyester 0%')\n",
    "\n",
    "    \n",
    "    df_elasto = data1.loc[data1[1].str.contains('Elastomultiester', na=True), 1]\n",
    "    df_elasto.name = 'elastomultiester'\n",
    "\n",
    "    data_ref = pd.concat([data_ref, df_elasto], axis=1)\n",
    "    data_ref = data_ref.iloc[:, ~data_ref.columns.duplicated(keep='last')] \n",
    "    data_ref['elastomultiester'] = data_ref['elastomultiester'].fillna('Elastomultiester 0%')\n",
    "    \n",
    "    \n",
    "    data = pd.concat([data, data_ref], axis=1)\n",
    "\n",
    "    data['cotton'] = data['cotton'].apply(lambda x: int(re.search('\\d+', x).group(0))/100)\n",
    "    data['spandex'] = data['spandex'].apply(lambda x: int(re.search('\\d+', x).group(0))/100)\n",
    "    data['polyester'] = data['polyester'].apply(lambda x: int(re.search('\\d+', x).group(0))/100)\n",
    "    data['elastomultiester'] = data['elastomultiester'].apply(lambda x: int(re.search('\\d+', x).group(0))/100)\n",
    "\n",
    "    \n",
    "    # Extraindo o preço das colunas 'product_price' e 'product_price_new'\n",
    "    \n",
    "    data['product_price'] = data['product_price'].apply(lambda x: re.search('\\w.+', x).group(0))\n",
    "    data['product_price_new'] = data['product_price_new'].apply(lambda x: re.search('\\w.+', x).group(0) if pd.notnull(x) else x)\n",
    "    data['product_price_new'] = data['product_price_new'].fillna(0)\n",
    "    \n",
    "    return data\n",
    "\n",
    "\n",
    "\n",
    "\n",
    "###################################################################\n",
    "#                         Regex Macy's\n",
    "###################################################################\n",
    "\n",
    "def regex_macys(data):\n",
    "    \n",
    "    # Extraindo os preços de venda e de promoção de 'product_price'\n",
    "    \n",
    "    regex = '.(\\d+\\.\\d+)'\n",
    "    regex2 = 'Sale..(\\d+\\.\\d+)'\n",
    "    \n",
    "    \n",
    "    data['product_sale'] = data['product_price'].apply(lambda x: re.search(regex2, x).group(1) if \"Sale\" in x else 0)\n",
    "    data['product_price'] = data['product_price'].apply(lambda x: re.search(regex, x).group(1))\n",
    "    \n",
    "    data['product_sale'] = data['product_sale'].fillna(0)\n",
    "    \n",
    "    \n",
    "    return data\n"
   ]
  },
  {
   "cell_type": "markdown",
   "id": "f658b030",
   "metadata": {
    "heading_collapsed": true,
    "hidden": true
   },
   "source": [
    "## 2.3 - Plotting"
   ]
  },
  {
   "cell_type": "code",
   "execution_count": 5,
   "id": "8e88b0b7",
   "metadata": {
    "ExecuteTime": {
     "end_time": "2022-09-07T23:09:14.039031Z",
     "start_time": "2022-09-07T23:09:14.032668Z"
    },
    "hidden": true
   },
   "outputs": [],
   "source": [
    "def data_hist(data, x):\n",
    "    \n",
    "    sns.set_theme()\n",
    "    fig, ax = plt.subplots(figsize=(8,6))\n",
    "    sns.histplot(data=data, x=x, ax=ax)\n",
    "    \n",
    "    return None\n"
   ]
  },
  {
   "cell_type": "markdown",
   "id": "a0db0e1f",
   "metadata": {
    "heading_collapsed": true
   },
   "source": [
    "# 3 - Web Scraping"
   ]
  },
  {
   "cell_type": "markdown",
   "id": "5c85db99",
   "metadata": {
    "hidden": true
   },
   "source": [
    "Todas as extrações foram realizadas durante o mesmo período de doze dias."
   ]
  },
  {
   "cell_type": "markdown",
   "id": "53ace2c0",
   "metadata": {
    "heading_collapsed": true,
    "hidden": true
   },
   "source": [
    "## 3.1 - Web scraping H&M"
   ]
  },
  {
   "cell_type": "markdown",
   "id": "2fb7304e",
   "metadata": {
    "code_folding": [],
    "hidden": true
   },
   "source": [
    "A extração dos dados do site da H&M foi realizado com a biblioteca Selenium, sendo executado na IDE PyCharm. O arquivo \".py\" pode ser encontrado no repositório."
   ]
  },
  {
   "cell_type": "markdown",
   "id": "57c748aa",
   "metadata": {
    "heading_collapsed": true,
    "hidden": true
   },
   "source": [
    "## 3.2 - Web scraping Macy's"
   ]
  },
  {
   "cell_type": "code",
   "execution_count": null,
   "id": "c3fb46d3",
   "metadata": {
    "hidden": true
   },
   "outputs": [],
   "source": [
    "url = 'https://www.macys.com/shop/mens-clothing/mens-jeans/Productsperpage/120?id=11221'\n",
    "\n",
    "headers = {'User-Agent':'Mozilla/5.0 (X11; Linux x86_64) AppleWebKit/537.36 (KHTML, like Gecko) Chrome/97.0.4692.99 Safari/537.36'}\n",
    "\n",
    "page = requests.get(url, headers=headers)\n",
    "\n",
    "soup = bts(page.text, 'html.parser')\n",
    "\n",
    "# Passo 1: Items da primeira página\n",
    "\n",
    "    ##################################\n",
    "    # Product id\n",
    "    ##################################\n",
    "\n",
    "    vitrine = soup.find('ul', class_='items grid-x small-up-2 medium-up-3 large-up-3')\n",
    "    vitrine_items = vitrine.find_all('div', class_='productThumbnail redesignEnabled')\n",
    "    product_id = [i.get('id') for i in vitrine_items]\n",
    "\n",
    "\n",
    "    ##################################\n",
    "    # Product name\n",
    "    ##################################\n",
    "\n",
    "    vitrine_name = vitrine.find_all('div', class_='productBrand')\n",
    "    product_name = [i.get_text().strip() for i in vitrine_name]\n",
    "\n",
    "\n",
    "    ##################################\n",
    "    # Product reference\n",
    "    ##################################\n",
    "\n",
    "    vitrine_ref = vitrine.find_all('a', class_='productDescLink')\n",
    "    product_ref = []\n",
    "\n",
    "    for i in range(0, len(vitrine_ref), 2):\n",
    "\n",
    "        product_ref.append(vitrine_ref[i].get('title'))\n",
    "\n",
    "\n",
    "    ##################################\n",
    "    # Product price\n",
    "    ##################################\n",
    "\n",
    "    vitrine_price = vitrine.find_all('div', class_='prices')\n",
    "    product_price = [i.get_text().strip() for i in vitrine_price]\n",
    "\n",
    "\n",
    "    \n",
    "# Passo 2: Extraindo os dados de todas as páginas\n",
    "\n",
    "    ##################################\n",
    "    # Pagination\n",
    "    ##################################\n",
    "\n",
    "    j = soup.find('div', class_='cell small-12')\n",
    "    k = j.find_all('option')\n",
    "\n",
    "\n",
    "    for i in range(2, (len(k)+1)):\n",
    "\n",
    "        url2 = 'https://www.macys.com/shop/mens-clothing/mens-jeans/Pageindex,Productsperpage/' + str(i) + ',120?id=11221'\n",
    "\n",
    "        page2 = requests.get(url2, headers=headers)\n",
    "\n",
    "        soup2 = bts(page2.text, 'html.parser')\n",
    "\n",
    "        ##################################\n",
    "        # Product id\n",
    "        ##################################\n",
    "\n",
    "        vitrine2 = soup2.find('ul', class_='items grid-x small-up-2 medium-up-3 large-up-3')\n",
    "        vitrine_items2 = vitrine2.find_all('div', class_='productThumbnail redesignEnabled')\n",
    "        product_id2 = [i.get('id') for i in vitrine_items2]\n",
    "\n",
    "        product_id = [*product_id, *product_id2]\n",
    "\n",
    "\n",
    "        ##################################\n",
    "        # Product name\n",
    "        ##################################\n",
    "\n",
    "        vitrine_name2 = vitrine2.find_all('div', class_='productBrand')\n",
    "        product_name2 = [i.get_text().strip() for i in vitrine_name2]\n",
    "\n",
    "        product_name = [*product_name, *product_name2]\n",
    "\n",
    "\n",
    "        ##################################\n",
    "        # Product reference\n",
    "        ##################################\n",
    "\n",
    "        vitrine_ref2 = vitrine2.find_all('a', class_='productDescLink')\n",
    "        product_ref2 = []\n",
    "\n",
    "        for j in range(0, len(vitrine_ref2), 2):\n",
    "\n",
    "            product_ref2.append(vitrine_ref2[j].get('title'))\n",
    "\n",
    "        product_ref = [*product_ref, *product_ref2]\n",
    "\n",
    "        ##################################\n",
    "        # Product price\n",
    "        ##################################\n",
    "\n",
    "        vitrine_price2 = vitrine2.find_all('div', class_='prices')\n",
    "        product_price2 = [i.get_text().strip() for i in vitrine_price2]\n",
    "\n",
    "        product_price = [*product_price, *product_price2]\n",
    "\n",
    "    \n",
    "\n",
    "# Passo 3: Salvando os dados\n",
    "\n",
    "data1 = pd.DataFrame([product_id, product_name, product_ref, product_price]).T\n",
    "data1.columns = ['product_id', 'product_name', 'product_ref', 'product_price']\n",
    "data1['data_scrapy'] = datetime.now().strftime('%Y-%m-%d %H:%M:%S')\n",
    "\n",
    "data = pd.read_csv('data.csv')\n",
    "\n",
    "data_macys = pd.concat([data1, data], axis=0, ignore_index=True)\n",
    "\n",
    "data_macys.to_csv('data.csv', index=False)"
   ]
  },
  {
   "cell_type": "markdown",
   "id": "4394789d",
   "metadata": {
    "heading_collapsed": true
   },
   "source": [
    "# 4 - Data Processing"
   ]
  },
  {
   "cell_type": "markdown",
   "id": "b88ee2db",
   "metadata": {
    "heading_collapsed": true,
    "hidden": true
   },
   "source": [
    "## 4.1 - Processing H&M"
   ]
  },
  {
   "cell_type": "markdown",
   "id": "32ac8618",
   "metadata": {
    "heading_collapsed": true,
    "hidden": true
   },
   "source": [
    "### 4.1.1 - Dataframe"
   ]
  },
  {
   "cell_type": "code",
   "execution_count": 6,
   "id": "084b2498",
   "metadata": {
    "ExecuteTime": {
     "end_time": "2022-09-07T23:09:26.878287Z",
     "start_time": "2022-09-07T23:09:26.610973Z"
    },
    "hidden": true
   },
   "outputs": [
    {
     "data": {
      "text/html": [
       "<div>\n",
       "<style scoped>\n",
       "    .dataframe tbody tr th:only-of-type {\n",
       "        vertical-align: middle;\n",
       "    }\n",
       "\n",
       "    .dataframe tbody tr th {\n",
       "        vertical-align: top;\n",
       "    }\n",
       "\n",
       "    .dataframe thead th {\n",
       "        text-align: right;\n",
       "    }\n",
       "</style>\n",
       "<table border=\"1\" class=\"dataframe\">\n",
       "  <thead>\n",
       "    <tr style=\"text-align: right;\">\n",
       "      <th></th>\n",
       "      <th>product_id</th>\n",
       "      <th>product_name</th>\n",
       "      <th>product_price</th>\n",
       "      <th>product_price_new</th>\n",
       "      <th>product_color</th>\n",
       "      <th>product_fit</th>\n",
       "      <th>product_size</th>\n",
       "      <th>product_materials</th>\n",
       "      <th>product_composition</th>\n",
       "      <th>data_scrapy</th>\n",
       "      <th>cotton</th>\n",
       "      <th>spandex</th>\n",
       "      <th>polyester</th>\n",
       "      <th>elastomultiester</th>\n",
       "      <th>data_year</th>\n",
       "      <th>data_month</th>\n",
       "      <th>data_day_name</th>\n",
       "      <th>data_day_number</th>\n",
       "    </tr>\n",
       "  </thead>\n",
       "  <tbody>\n",
       "    <tr>\n",
       "      <th>0</th>\n",
       "      <td>1024256001</td>\n",
       "      <td>Slim Jeans</td>\n",
       "      <td>29.99</td>\n",
       "      <td>0.00</td>\n",
       "      <td>Black</td>\n",
       "      <td>Slim fit</td>\n",
       "      <td>The model is 185cm/6'1\" and wears a size 31/32</td>\n",
       "      <td>Lining: Recycled cotton 20%</td>\n",
       "      <td>CompositionPocket lining: Polyester 65%, Cotto...</td>\n",
       "      <td>2022-04-12 13:40:00</td>\n",
       "      <td>0.99</td>\n",
       "      <td>0.01</td>\n",
       "      <td>0.00</td>\n",
       "      <td>0.00</td>\n",
       "      <td>2022</td>\n",
       "      <td>Apr</td>\n",
       "      <td>Friday</td>\n",
       "      <td>12</td>\n",
       "    </tr>\n",
       "    <tr>\n",
       "      <th>1</th>\n",
       "      <td>1024256002</td>\n",
       "      <td>Slim Jeans</td>\n",
       "      <td>29.99</td>\n",
       "      <td>0.00</td>\n",
       "      <td>Light denim blue</td>\n",
       "      <td>Slim fit</td>\n",
       "      <td>The model is 189cm/6'2\" and wears a size 31/32</td>\n",
       "      <td>Lining: Recycled polyester 65%, Recycled cotto...</td>\n",
       "      <td>CompositionShell: Cotton 99%, Spandex 1%Pocket...</td>\n",
       "      <td>2022-04-12 13:40:00</td>\n",
       "      <td>0.99</td>\n",
       "      <td>0.01</td>\n",
       "      <td>0.00</td>\n",
       "      <td>0.00</td>\n",
       "      <td>2022</td>\n",
       "      <td>Apr</td>\n",
       "      <td>Friday</td>\n",
       "      <td>12</td>\n",
       "    </tr>\n",
       "    <tr>\n",
       "      <th>2</th>\n",
       "      <td>1024256003</td>\n",
       "      <td>Slim Jeans</td>\n",
       "      <td>29.99</td>\n",
       "      <td>0.00</td>\n",
       "      <td>Light denim blue</td>\n",
       "      <td>Slim fit</td>\n",
       "      <td>The model is 189cm/6'2\" and wears a size 31/32</td>\n",
       "      <td>Shell: Recycled cotton 20%</td>\n",
       "      <td>CompositionShell: Cotton 99%, Spandex 1%Pocket...</td>\n",
       "      <td>2022-04-12 13:40:00</td>\n",
       "      <td>0.99</td>\n",
       "      <td>0.01</td>\n",
       "      <td>0.00</td>\n",
       "      <td>0.00</td>\n",
       "      <td>2022</td>\n",
       "      <td>Apr</td>\n",
       "      <td>Friday</td>\n",
       "      <td>12</td>\n",
       "    </tr>\n",
       "    <tr>\n",
       "      <th>3</th>\n",
       "      <td>1024256004</td>\n",
       "      <td>Slim Jeans</td>\n",
       "      <td>29.99</td>\n",
       "      <td>0.00</td>\n",
       "      <td>Denim blue</td>\n",
       "      <td>Slim fit</td>\n",
       "      <td>NaN</td>\n",
       "      <td>Lining: Recycled polyester 65%, Recycled cotto...</td>\n",
       "      <td>CompositionShell: Cotton 99%, Spandex 1%Pocket...</td>\n",
       "      <td>2022-04-12 13:40:00</td>\n",
       "      <td>0.99</td>\n",
       "      <td>0.01</td>\n",
       "      <td>0.00</td>\n",
       "      <td>0.00</td>\n",
       "      <td>2022</td>\n",
       "      <td>Apr</td>\n",
       "      <td>Friday</td>\n",
       "      <td>12</td>\n",
       "    </tr>\n",
       "    <tr>\n",
       "      <th>4</th>\n",
       "      <td>1024256005</td>\n",
       "      <td>Slim Jeans</td>\n",
       "      <td>29.99</td>\n",
       "      <td>0.00</td>\n",
       "      <td>Dark blue</td>\n",
       "      <td>Slim fit</td>\n",
       "      <td>The model is 180cm/5'11\" and wears a size 31/32</td>\n",
       "      <td>Shell: Recycled cotton 20%</td>\n",
       "      <td>CompositionPocket lining: Polyester 65%, Cotto...</td>\n",
       "      <td>2022-04-12 13:40:00</td>\n",
       "      <td>0.99</td>\n",
       "      <td>0.01</td>\n",
       "      <td>0.00</td>\n",
       "      <td>0.00</td>\n",
       "      <td>2022</td>\n",
       "      <td>Apr</td>\n",
       "      <td>Friday</td>\n",
       "      <td>12</td>\n",
       "    </tr>\n",
       "  </tbody>\n",
       "</table>\n",
       "</div>"
      ],
      "text/plain": [
       "   product_id product_name  product_price  product_price_new  \\\n",
       "0  1024256001   Slim Jeans          29.99               0.00   \n",
       "1  1024256002   Slim Jeans          29.99               0.00   \n",
       "2  1024256003   Slim Jeans          29.99               0.00   \n",
       "3  1024256004   Slim Jeans          29.99               0.00   \n",
       "4  1024256005   Slim Jeans          29.99               0.00   \n",
       "\n",
       "      product_color product_fit  \\\n",
       "0             Black    Slim fit   \n",
       "1  Light denim blue    Slim fit   \n",
       "2  Light denim blue    Slim fit   \n",
       "3        Denim blue    Slim fit   \n",
       "4         Dark blue    Slim fit   \n",
       "\n",
       "                                      product_size  \\\n",
       "0   The model is 185cm/6'1\" and wears a size 31/32   \n",
       "1   The model is 189cm/6'2\" and wears a size 31/32   \n",
       "2   The model is 189cm/6'2\" and wears a size 31/32   \n",
       "3                                              NaN   \n",
       "4  The model is 180cm/5'11\" and wears a size 31/32   \n",
       "\n",
       "                                   product_materials  \\\n",
       "0                        Lining: Recycled cotton 20%   \n",
       "1  Lining: Recycled polyester 65%, Recycled cotto...   \n",
       "2                         Shell: Recycled cotton 20%   \n",
       "3  Lining: Recycled polyester 65%, Recycled cotto...   \n",
       "4                         Shell: Recycled cotton 20%   \n",
       "\n",
       "                                 product_composition         data_scrapy  \\\n",
       "0  CompositionPocket lining: Polyester 65%, Cotto... 2022-04-12 13:40:00   \n",
       "1  CompositionShell: Cotton 99%, Spandex 1%Pocket... 2022-04-12 13:40:00   \n",
       "2  CompositionShell: Cotton 99%, Spandex 1%Pocket... 2022-04-12 13:40:00   \n",
       "3  CompositionShell: Cotton 99%, Spandex 1%Pocket... 2022-04-12 13:40:00   \n",
       "4  CompositionPocket lining: Polyester 65%, Cotto... 2022-04-12 13:40:00   \n",
       "\n",
       "   cotton  spandex  polyester  elastomultiester  data_year data_month  \\\n",
       "0    0.99     0.01       0.00              0.00       2022        Apr   \n",
       "1    0.99     0.01       0.00              0.00       2022        Apr   \n",
       "2    0.99     0.01       0.00              0.00       2022        Apr   \n",
       "3    0.99     0.01       0.00              0.00       2022        Apr   \n",
       "4    0.99     0.01       0.00              0.00       2022        Apr   \n",
       "\n",
       "  data_day_name  data_day_number  \n",
       "0        Friday               12  \n",
       "1        Friday               12  \n",
       "2        Friday               12  \n",
       "3        Friday               12  \n",
       "4        Friday               12  "
      ]
     },
     "execution_count": 6,
     "metadata": {},
     "output_type": "execute_result"
    }
   ],
   "source": [
    "# Passo 1: Carregando os dados\n",
    "data_hm = dp_hm('data_h&m.csv')\n",
    "\n",
    "\n",
    "# Passo 2: Aplicando regex para tratar os dados\n",
    "data_hm = regex_hm(data_hm)\n",
    "\n",
    "\n",
    "# Passo 3: Modificando o tipo dos dados\n",
    "data_hm = column_hm(data_hm)\n",
    "\n",
    "data_hm.head()"
   ]
  },
  {
   "cell_type": "markdown",
   "id": "a266650d",
   "metadata": {
    "heading_collapsed": true,
    "hidden": true
   },
   "source": [
    "### 4.1.2 - Columns"
   ]
  },
  {
   "cell_type": "code",
   "execution_count": 8,
   "id": "ddaed0b6",
   "metadata": {
    "ExecuteTime": {
     "end_time": "2022-08-01T22:08:03.495001Z",
     "start_time": "2022-08-01T22:08:03.485903Z"
    },
    "hidden": true
   },
   "outputs": [
    {
     "data": {
      "text/plain": [
       "Index(['product_id', 'product_name', 'product_price', 'product_price_new',\n",
       "       'product_color', 'product_fit', 'product_size', 'product_materials',\n",
       "       'product_composition', 'data_scrapy', 'cotton', 'spandex', 'polyester',\n",
       "       'elastomultiester', 'data_year', 'data_month', 'data_day_name',\n",
       "       'data_day_number'],\n",
       "      dtype='object')"
      ]
     },
     "execution_count": 8,
     "metadata": {},
     "output_type": "execute_result"
    }
   ],
   "source": [
    "data_hm.columns"
   ]
  },
  {
   "cell_type": "markdown",
   "id": "961a4cc9",
   "metadata": {
    "hidden": true
   },
   "source": [
    "Descrição:\n",
    "\n",
    "- product_id: Código de cada item para venda\n",
    "- product_name: Nome do produto\n",
    "- product_price: Preço do produto\n",
    "- product_price_new: Preço de promoção do produto \n",
    "- product_color: Cor da calça\n",
    "- product_fit: Estilo da calça jeans\n",
    "- product_size: Tamanho do produto\n",
    "- product_materials: Tipo de material que compõe o produto\n",
    "- product_composition: Composição do produto\n",
    "- data_scrapy: Data da extração de dados\n",
    "- cotton: Porcentagem de algodão no produto\n",
    "- spandex: Porcentagem de spandex no produto\n",
    "- polyester: Porcentagem de polyester no produto\n",
    "- elastomultiester: Porcentagem de elastomultiester no produto\n",
    "- data_year: Ano da extração de dados\n",
    "- data_month: Mês da extração de dados\n",
    "- data_day_name: Dia da semana em que foi extraido os dados\n",
    "- data_day_number: Dia da extração extração de dados"
   ]
  },
  {
   "cell_type": "markdown",
   "id": "ce6d6b66",
   "metadata": {
    "heading_collapsed": true,
    "hidden": true
   },
   "source": [
    "### 4.1.3 - Data dimension"
   ]
  },
  {
   "cell_type": "code",
   "execution_count": 9,
   "id": "11d80e81",
   "metadata": {
    "ExecuteTime": {
     "end_time": "2022-08-01T22:08:09.025796Z",
     "start_time": "2022-08-01T22:08:09.018302Z"
    },
    "hidden": true
   },
   "outputs": [
    {
     "name": "stdout",
     "output_type": "stream",
     "text": [
      "A quantidade de linhas do dataframe é: 2380\n",
      "A quantidade de colunas do dataframe é: 18\n"
     ]
    }
   ],
   "source": [
    "print(f'A quantidade de linhas do dataframe é: {data_hm.shape[0]}')\n",
    "print(f'A quantidade de colunas do dataframe é: {data_hm.shape[1]}')"
   ]
  },
  {
   "cell_type": "markdown",
   "id": "9afaa787",
   "metadata": {
    "heading_collapsed": true,
    "hidden": true
   },
   "source": [
    "### 4.1.4 - Data types"
   ]
  },
  {
   "cell_type": "code",
   "execution_count": 10,
   "id": "bb89d0eb",
   "metadata": {
    "ExecuteTime": {
     "end_time": "2022-08-01T22:08:11.575514Z",
     "start_time": "2022-08-01T22:08:11.566797Z"
    },
    "hidden": true
   },
   "outputs": [
    {
     "data": {
      "text/plain": [
       "product_id                     object\n",
       "product_name                   object\n",
       "product_price                 float64\n",
       "product_price_new             float64\n",
       "product_color                  object\n",
       "product_fit                    object\n",
       "product_size                   object\n",
       "product_materials              object\n",
       "product_composition            object\n",
       "data_scrapy            datetime64[ns]\n",
       "cotton                        float64\n",
       "spandex                       float64\n",
       "polyester                     float64\n",
       "elastomultiester              float64\n",
       "data_year                       int64\n",
       "data_month                     object\n",
       "data_day_name                  object\n",
       "data_day_number                 int64\n",
       "dtype: object"
      ]
     },
     "execution_count": 10,
     "metadata": {},
     "output_type": "execute_result"
    }
   ],
   "source": [
    "data_hm.dtypes"
   ]
  },
  {
   "cell_type": "markdown",
   "id": "690a9643",
   "metadata": {
    "heading_collapsed": true,
    "hidden": true
   },
   "source": [
    "## 4.2 - Processing Macy's"
   ]
  },
  {
   "cell_type": "markdown",
   "id": "54a2ea51",
   "metadata": {
    "heading_collapsed": true,
    "hidden": true
   },
   "source": [
    "### 4.2.1 - Dataframe"
   ]
  },
  {
   "cell_type": "code",
   "execution_count": 7,
   "id": "5a85769f",
   "metadata": {
    "ExecuteTime": {
     "end_time": "2022-09-07T23:09:32.135595Z",
     "start_time": "2022-09-07T23:09:31.890437Z"
    },
    "hidden": true
   },
   "outputs": [
    {
     "data": {
      "text/html": [
       "<div>\n",
       "<style scoped>\n",
       "    .dataframe tbody tr th:only-of-type {\n",
       "        vertical-align: middle;\n",
       "    }\n",
       "\n",
       "    .dataframe tbody tr th {\n",
       "        vertical-align: top;\n",
       "    }\n",
       "\n",
       "    .dataframe thead th {\n",
       "        text-align: right;\n",
       "    }\n",
       "</style>\n",
       "<table border=\"1\" class=\"dataframe\">\n",
       "  <thead>\n",
       "    <tr style=\"text-align: right;\">\n",
       "      <th></th>\n",
       "      <th>product_id</th>\n",
       "      <th>product_name</th>\n",
       "      <th>product_ref</th>\n",
       "      <th>product_price</th>\n",
       "      <th>data_scrapy</th>\n",
       "      <th>product_fit</th>\n",
       "      <th>product_sale</th>\n",
       "      <th>data_year</th>\n",
       "      <th>data_month</th>\n",
       "      <th>data_day_name</th>\n",
       "      <th>data_day_number</th>\n",
       "    </tr>\n",
       "  </thead>\n",
       "  <tbody>\n",
       "    <tr>\n",
       "      <th>0</th>\n",
       "      <td>1654744</td>\n",
       "      <td>Polo Ralph Lauren</td>\n",
       "      <td>Men's Hampton Relaxed Straight Jeans</td>\n",
       "      <td>98.50</td>\n",
       "      <td>2022-04-16 18:13:16</td>\n",
       "      <td>Straight Jeans</td>\n",
       "      <td>0.00</td>\n",
       "      <td>2022</td>\n",
       "      <td>Apr</td>\n",
       "      <td>Tuesday</td>\n",
       "      <td>16</td>\n",
       "    </tr>\n",
       "    <tr>\n",
       "      <th>1</th>\n",
       "      <td>1103208</td>\n",
       "      <td>Levi's</td>\n",
       "      <td>Men's 511™ Slim Fit Jeans</td>\n",
       "      <td>69.50</td>\n",
       "      <td>2022-04-16 18:13:16</td>\n",
       "      <td>Slim Jeans</td>\n",
       "      <td>59.99</td>\n",
       "      <td>2022</td>\n",
       "      <td>Apr</td>\n",
       "      <td>Tuesday</td>\n",
       "      <td>16</td>\n",
       "    </tr>\n",
       "    <tr>\n",
       "      <th>2</th>\n",
       "      <td>9617175</td>\n",
       "      <td>Levi's</td>\n",
       "      <td>Levi’s® Flex Men's 514™ Straight-Fit Jeans</td>\n",
       "      <td>69.50</td>\n",
       "      <td>2022-04-16 18:13:16</td>\n",
       "      <td>Straight Jeans</td>\n",
       "      <td>59.99</td>\n",
       "      <td>2022</td>\n",
       "      <td>Apr</td>\n",
       "      <td>Tuesday</td>\n",
       "      <td>16</td>\n",
       "    </tr>\n",
       "    <tr>\n",
       "      <th>3</th>\n",
       "      <td>6545489</td>\n",
       "      <td>Calvin Klein</td>\n",
       "      <td>Men's Slim-Fit Jeans</td>\n",
       "      <td>79.50</td>\n",
       "      <td>2022-04-16 18:13:16</td>\n",
       "      <td>Slim Jeans</td>\n",
       "      <td>0.00</td>\n",
       "      <td>2022</td>\n",
       "      <td>Apr</td>\n",
       "      <td>Tuesday</td>\n",
       "      <td>16</td>\n",
       "    </tr>\n",
       "    <tr>\n",
       "      <th>4</th>\n",
       "      <td>2834394</td>\n",
       "      <td>Levi's</td>\n",
       "      <td>Men's 502™ Taper Jeans</td>\n",
       "      <td>69.50</td>\n",
       "      <td>2022-04-16 18:13:16</td>\n",
       "      <td>Modern Jeans</td>\n",
       "      <td>59.99</td>\n",
       "      <td>2022</td>\n",
       "      <td>Apr</td>\n",
       "      <td>Tuesday</td>\n",
       "      <td>16</td>\n",
       "    </tr>\n",
       "  </tbody>\n",
       "</table>\n",
       "</div>"
      ],
      "text/plain": [
       "  product_id       product_name                                  product_ref  \\\n",
       "0    1654744  Polo Ralph Lauren         Men's Hampton Relaxed Straight Jeans   \n",
       "1    1103208             Levi's                    Men's 511™ Slim Fit Jeans   \n",
       "2    9617175             Levi's   Levi’s® Flex Men's 514™ Straight-Fit Jeans   \n",
       "3    6545489       Calvin Klein                         Men's Slim-Fit Jeans   \n",
       "4    2834394             Levi's                       Men's 502™ Taper Jeans   \n",
       "\n",
       "   product_price         data_scrapy     product_fit  product_sale  data_year  \\\n",
       "0          98.50 2022-04-16 18:13:16  Straight Jeans          0.00       2022   \n",
       "1          69.50 2022-04-16 18:13:16      Slim Jeans         59.99       2022   \n",
       "2          69.50 2022-04-16 18:13:16  Straight Jeans         59.99       2022   \n",
       "3          79.50 2022-04-16 18:13:16      Slim Jeans          0.00       2022   \n",
       "4          69.50 2022-04-16 18:13:16    Modern Jeans         59.99       2022   \n",
       "\n",
       "  data_month data_day_name  data_day_number  \n",
       "0        Apr       Tuesday               16  \n",
       "1        Apr       Tuesday               16  \n",
       "2        Apr       Tuesday               16  \n",
       "3        Apr       Tuesday               16  \n",
       "4        Apr       Tuesday               16  "
      ]
     },
     "execution_count": 7,
     "metadata": {},
     "output_type": "execute_result"
    }
   ],
   "source": [
    "# Passo 1: Carregando os dados\n",
    "\n",
    "data_macys = dp_macys('data_macys.csv')\n",
    "\n",
    "\n",
    "# Passo 2: Aplicando regex para tratar os dados\n",
    "data_macys = regex_macys(data_macys)\n",
    "\n",
    "\n",
    "# Passo 3: Modificando o tipo dos dados\n",
    "data_macys = column_macys(data_macys)\n",
    "\n",
    "data_macys.head()"
   ]
  },
  {
   "cell_type": "markdown",
   "id": "12d129d4",
   "metadata": {
    "heading_collapsed": true,
    "hidden": true
   },
   "source": [
    "### 4.2.2 - Columns"
   ]
  },
  {
   "cell_type": "code",
   "execution_count": 12,
   "id": "37e137fd",
   "metadata": {
    "ExecuteTime": {
     "end_time": "2022-08-01T22:08:28.821887Z",
     "start_time": "2022-08-01T22:08:28.813298Z"
    },
    "hidden": true
   },
   "outputs": [
    {
     "data": {
      "text/plain": [
       "Index(['product_id', 'product_name', 'product_ref', 'product_price',\n",
       "       'data_scrapy', 'product_fit', 'product_sale', 'data_year', 'data_month',\n",
       "       'data_day_name', 'data_day_number'],\n",
       "      dtype='object')"
      ]
     },
     "execution_count": 12,
     "metadata": {},
     "output_type": "execute_result"
    }
   ],
   "source": [
    "data_macys.columns"
   ]
  },
  {
   "cell_type": "markdown",
   "id": "7cc0ea20",
   "metadata": {
    "hidden": true
   },
   "source": [
    "Descrição:\n",
    "\n",
    "- product_id: Código de cada item para venda\n",
    "- product_name: Nome do produto/marca\n",
    "- product_ref: Referência do produto\n",
    "- product_price: Preço do produto\n",
    "- data_scrapy: Data da extração de dados\n",
    "- product_fit: Estilo da calça jeans\n",
    "- product_sale: Preço de promoção do produto\n",
    "- data_year: Ano da extração de dados\n",
    "- data_month: Mês da extração de dados\n",
    "- data_day_name: Dia da semana em que foi extraido os dados\n",
    "- data_day_number: Dia da extração extração de dados"
   ]
  },
  {
   "cell_type": "markdown",
   "id": "2b5b1829",
   "metadata": {
    "heading_collapsed": true,
    "hidden": true
   },
   "source": [
    "### 4.2.3 - Data dimension"
   ]
  },
  {
   "cell_type": "code",
   "execution_count": 13,
   "id": "1acdc153",
   "metadata": {
    "ExecuteTime": {
     "end_time": "2022-08-01T22:08:31.423967Z",
     "start_time": "2022-08-01T22:08:31.417733Z"
    },
    "hidden": true
   },
   "outputs": [
    {
     "name": "stdout",
     "output_type": "stream",
     "text": [
      "A quantidade de linhas do dataframe é: 8942\n",
      "A quantidade de colunas do dataframe é: 11\n"
     ]
    }
   ],
   "source": [
    "print(f'A quantidade de linhas do dataframe é: {data_macys.shape[0]}')\n",
    "print(f'A quantidade de colunas do dataframe é: {data_macys.shape[1]}')"
   ]
  },
  {
   "cell_type": "markdown",
   "id": "ac6f8678",
   "metadata": {
    "heading_collapsed": true,
    "hidden": true
   },
   "source": [
    "### 4.2.4 - Data types"
   ]
  },
  {
   "cell_type": "code",
   "execution_count": 14,
   "id": "13be8a09",
   "metadata": {
    "ExecuteTime": {
     "end_time": "2022-08-01T22:08:34.282275Z",
     "start_time": "2022-08-01T22:08:34.272261Z"
    },
    "hidden": true
   },
   "outputs": [
    {
     "data": {
      "text/plain": [
       "product_id                 object\n",
       "product_name               object\n",
       "product_ref                object\n",
       "product_price             float64\n",
       "data_scrapy        datetime64[ns]\n",
       "product_fit                object\n",
       "product_sale              float64\n",
       "data_year                   int64\n",
       "data_month                 object\n",
       "data_day_name              object\n",
       "data_day_number             int64\n",
       "dtype: object"
      ]
     },
     "execution_count": 14,
     "metadata": {},
     "output_type": "execute_result"
    }
   ],
   "source": [
    "data_macys.dtypes"
   ]
  },
  {
   "cell_type": "markdown",
   "id": "08838a28",
   "metadata": {},
   "source": [
    "# 5 - Hypotheses"
   ]
  },
  {
   "cell_type": "markdown",
   "id": "7c3ca7dc",
   "metadata": {},
   "source": [
    "- H1: O dia com mais promoções é na sexta-feira\n",
    "- H2: O máximo de desconto que pode ser encontrado é de 60%\n",
    "- H3: Os 5 modelos com maiores quantidades de calças, são as que possuem o valor em torno da mediana total\n",
    "- H4: Calças com composição de algodão acima de 90%, custam acima do preço mediano\n",
    "- H5: Items em promoção possuem cor clara"
   ]
  },
  {
   "cell_type": "markdown",
   "id": "d93ac2c1",
   "metadata": {
    "heading_collapsed": true
   },
   "source": [
    "# 6 - EDA"
   ]
  },
  {
   "cell_type": "markdown",
   "id": "232df359",
   "metadata": {
    "heading_collapsed": true,
    "hidden": true
   },
   "source": [
    "## 6.1 - Describe"
   ]
  },
  {
   "cell_type": "markdown",
   "id": "da0f6a51",
   "metadata": {
    "heading_collapsed": true,
    "hidden": true
   },
   "source": [
    "### 6.1.1 - Describe H&M"
   ]
  },
  {
   "cell_type": "code",
   "execution_count": 15,
   "id": "0da60057",
   "metadata": {
    "ExecuteTime": {
     "end_time": "2022-08-01T22:08:43.856679Z",
     "start_time": "2022-08-01T22:08:43.819437Z"
    },
    "hidden": true
   },
   "outputs": [
    {
     "data": {
      "text/html": [
       "<div>\n",
       "<style scoped>\n",
       "    .dataframe tbody tr th:only-of-type {\n",
       "        vertical-align: middle;\n",
       "    }\n",
       "\n",
       "    .dataframe tbody tr th {\n",
       "        vertical-align: top;\n",
       "    }\n",
       "\n",
       "    .dataframe thead th {\n",
       "        text-align: right;\n",
       "    }\n",
       "</style>\n",
       "<table border=\"1\" class=\"dataframe\">\n",
       "  <thead>\n",
       "    <tr style=\"text-align: right;\">\n",
       "      <th></th>\n",
       "      <th>attributes</th>\n",
       "      <th>max</th>\n",
       "      <th>min</th>\n",
       "      <th>mean</th>\n",
       "      <th>median</th>\n",
       "      <th>std</th>\n",
       "    </tr>\n",
       "  </thead>\n",
       "  <tbody>\n",
       "    <tr>\n",
       "      <th>0</th>\n",
       "      <td>product_price</td>\n",
       "      <td>119.99</td>\n",
       "      <td>11.99</td>\n",
       "      <td>44.62</td>\n",
       "      <td>39.99</td>\n",
       "      <td>25.62</td>\n",
       "    </tr>\n",
       "    <tr>\n",
       "      <th>1</th>\n",
       "      <td>product_price_new</td>\n",
       "      <td>39.99</td>\n",
       "      <td>0.00</td>\n",
       "      <td>2.82</td>\n",
       "      <td>0.00</td>\n",
       "      <td>7.96</td>\n",
       "    </tr>\n",
       "    <tr>\n",
       "      <th>2</th>\n",
       "      <td>cotton</td>\n",
       "      <td>1.00</td>\n",
       "      <td>0.77</td>\n",
       "      <td>0.97</td>\n",
       "      <td>0.99</td>\n",
       "      <td>0.06</td>\n",
       "    </tr>\n",
       "    <tr>\n",
       "      <th>3</th>\n",
       "      <td>spandex</td>\n",
       "      <td>0.02</td>\n",
       "      <td>0.00</td>\n",
       "      <td>0.01</td>\n",
       "      <td>0.01</td>\n",
       "      <td>0.01</td>\n",
       "    </tr>\n",
       "    <tr>\n",
       "      <th>4</th>\n",
       "      <td>polyester</td>\n",
       "      <td>0.21</td>\n",
       "      <td>0.00</td>\n",
       "      <td>0.02</td>\n",
       "      <td>0.00</td>\n",
       "      <td>0.06</td>\n",
       "    </tr>\n",
       "    <tr>\n",
       "      <th>5</th>\n",
       "      <td>elastomultiester</td>\n",
       "      <td>0.09</td>\n",
       "      <td>0.00</td>\n",
       "      <td>0.00</td>\n",
       "      <td>0.00</td>\n",
       "      <td>0.02</td>\n",
       "    </tr>\n",
       "    <tr>\n",
       "      <th>6</th>\n",
       "      <td>data_year</td>\n",
       "      <td>2022.00</td>\n",
       "      <td>2022.00</td>\n",
       "      <td>2022.00</td>\n",
       "      <td>2022.00</td>\n",
       "      <td>0.00</td>\n",
       "    </tr>\n",
       "    <tr>\n",
       "      <th>7</th>\n",
       "      <td>data_day_number</td>\n",
       "      <td>13.00</td>\n",
       "      <td>2.00</td>\n",
       "      <td>8.38</td>\n",
       "      <td>9.00</td>\n",
       "      <td>3.07</td>\n",
       "    </tr>\n",
       "  </tbody>\n",
       "</table>\n",
       "</div>"
      ],
      "text/plain": [
       "          attributes     max     min    mean  median   std\n",
       "0      product_price  119.99   11.99   44.62   39.99 25.62\n",
       "1  product_price_new   39.99    0.00    2.82    0.00  7.96\n",
       "2             cotton    1.00    0.77    0.97    0.99  0.06\n",
       "3            spandex    0.02    0.00    0.01    0.01  0.01\n",
       "4          polyester    0.21    0.00    0.02    0.00  0.06\n",
       "5   elastomultiester    0.09    0.00    0.00    0.00  0.02\n",
       "6          data_year 2022.00 2022.00 2022.00 2022.00  0.00\n",
       "7    data_day_number   13.00    2.00    8.38    9.00  3.07"
      ]
     },
     "execution_count": 15,
     "metadata": {},
     "output_type": "execute_result"
    }
   ],
   "source": [
    "describe(data_hm)"
   ]
  },
  {
   "cell_type": "code",
   "execution_count": 16,
   "id": "4db5f87d",
   "metadata": {
    "ExecuteTime": {
     "end_time": "2022-08-01T22:08:46.208167Z",
     "start_time": "2022-08-01T22:08:45.909838Z"
    },
    "hidden": true
   },
   "outputs": [
    {
     "data": {
      "image/png": "[encoded data removed]",
      "text/plain": [
       "<Figure size 576x432 with 1 Axes>"
      ]
     },
     "metadata": {
      "needs_background": "light"
     },
     "output_type": "display_data"
    }
   ],
   "source": [
    "data_hist(data_hm, 'product_price')"
   ]
  },
  {
   "cell_type": "markdown",
   "id": "587272f4",
   "metadata": {
    "hidden": true
   },
   "source": [
    "Algumas considerações:\n",
    "\n",
    "- O atributo 'product_price' representa o preço de venda normal dos items; é possível observar que o maior preço encontrado é de 119,99 dólares e o menor valor sendo 11,99 dólares;\n",
    "- A média dos preços está em torno de 44,62 dólares, fazendo inferir que grande parte dos produtos possuem valores menores que o valor máximo;\n",
    "- A mediana é a forma mais fiel para expressar a distribuição dos preços nessa situação em que não há uma distribuição normal, como observado no histograma acima. O valor mediano dos preços é de 39,99 dólares;\n",
    "- No atributo 'product_price_new' representa os preços de promoção das calças. Os produtos com valor zero nesse atributo, significa que não teve preço de promoção. O maior valor encontrado foi de 39,99 dólares;\n",
    "- As composições das calças estão representadas desde 'cotton' até 'elastomultiester'."
   ]
  },
  {
   "cell_type": "markdown",
   "id": "4405c532",
   "metadata": {
    "heading_collapsed": true,
    "hidden": true
   },
   "source": [
    "### 6.1.2 - Describe Macy's"
   ]
  },
  {
   "cell_type": "code",
   "execution_count": 17,
   "id": "195577b6",
   "metadata": {
    "ExecuteTime": {
     "end_time": "2022-08-01T22:08:51.986817Z",
     "start_time": "2022-08-01T22:08:51.967493Z"
    },
    "hidden": true,
    "scrolled": false
   },
   "outputs": [
    {
     "data": {
      "text/html": [
       "<div>\n",
       "<style scoped>\n",
       "    .dataframe tbody tr th:only-of-type {\n",
       "        vertical-align: middle;\n",
       "    }\n",
       "\n",
       "    .dataframe tbody tr th {\n",
       "        vertical-align: top;\n",
       "    }\n",
       "\n",
       "    .dataframe thead th {\n",
       "        text-align: right;\n",
       "    }\n",
       "</style>\n",
       "<table border=\"1\" class=\"dataframe\">\n",
       "  <thead>\n",
       "    <tr style=\"text-align: right;\">\n",
       "      <th></th>\n",
       "      <th>attributes</th>\n",
       "      <th>max</th>\n",
       "      <th>min</th>\n",
       "      <th>mean</th>\n",
       "      <th>median</th>\n",
       "      <th>std</th>\n",
       "    </tr>\n",
       "  </thead>\n",
       "  <tbody>\n",
       "    <tr>\n",
       "      <th>0</th>\n",
       "      <td>product_price</td>\n",
       "      <td>348.00</td>\n",
       "      <td>29.50</td>\n",
       "      <td>102.63</td>\n",
       "      <td>89.00</td>\n",
       "      <td>49.31</td>\n",
       "    </tr>\n",
       "    <tr>\n",
       "      <th>1</th>\n",
       "      <td>product_sale</td>\n",
       "      <td>167.30</td>\n",
       "      <td>0.00</td>\n",
       "      <td>15.84</td>\n",
       "      <td>0.00</td>\n",
       "      <td>29.28</td>\n",
       "    </tr>\n",
       "    <tr>\n",
       "      <th>2</th>\n",
       "      <td>data_year</td>\n",
       "      <td>2022.00</td>\n",
       "      <td>2022.00</td>\n",
       "      <td>2022.00</td>\n",
       "      <td>2022.00</td>\n",
       "      <td>0.00</td>\n",
       "    </tr>\n",
       "    <tr>\n",
       "      <th>3</th>\n",
       "      <td>data_day_number</td>\n",
       "      <td>16.00</td>\n",
       "      <td>2.00</td>\n",
       "      <td>8.92</td>\n",
       "      <td>9.00</td>\n",
       "      <td>4.34</td>\n",
       "    </tr>\n",
       "  </tbody>\n",
       "</table>\n",
       "</div>"
      ],
      "text/plain": [
       "        attributes     max     min    mean  median   std\n",
       "0    product_price  348.00   29.50  102.63   89.00 49.31\n",
       "1     product_sale  167.30    0.00   15.84    0.00 29.28\n",
       "2        data_year 2022.00 2022.00 2022.00 2022.00  0.00\n",
       "3  data_day_number   16.00    2.00    8.92    9.00  4.34"
      ]
     },
     "execution_count": 17,
     "metadata": {},
     "output_type": "execute_result"
    }
   ],
   "source": [
    "describe(data_macys)"
   ]
  },
  {
   "cell_type": "code",
   "execution_count": 18,
   "id": "acbd7c48",
   "metadata": {
    "ExecuteTime": {
     "end_time": "2022-08-01T22:08:52.641042Z",
     "start_time": "2022-08-01T22:08:52.470013Z"
    },
    "hidden": true
   },
   "outputs": [
    {
     "data": {
      "image/png": "[encoded data removed]",
      "text/plain": [
       "<Figure size 576x432 with 1 Axes>"
      ]
     },
     "metadata": {},
     "output_type": "display_data"
    }
   ],
   "source": [
    "data_hist(data_macys, 'product_price')"
   ]
  },
  {
   "cell_type": "markdown",
   "id": "e7d0b206",
   "metadata": {
    "hidden": true
   },
   "source": [
    "Algumas considerações:\n",
    "\n",
    "- O atributo 'product_price' representa o preço de venda normal dos items; é possível observar que o maior preço encontrado é de 119,99 dólares e o menor valor sendo 11,99 dólares;\n",
    "- A média dos preços está em torno de 44,62 dólares, fazendo inferir que grande parte dos produtos possuem valores menores que o valor máximo;\n",
    "- A mediana é a forma mais fiel para expressar a distribuição dos preços nessa situação em que não há uma distribuição normal, como observado no histograma acima. O valor mediano dos preços é de 39,99 dólares;\n",
    "- No atributo 'product_price_new' representa os preços de promoção das calças. Os produtos com valor zero nesse atributo, significa que não teve preço de promoção. O maior valor encontrado foi de 39,99 dólares;\n",
    "- As composições das calças estão representadas desde 'cotton' até 'elastomultiester'."
   ]
  },
  {
   "cell_type": "markdown",
   "id": "2c5ce4f5",
   "metadata": {
    "heading_collapsed": true,
    "hidden": true
   },
   "source": [
    "### 6.1.3 - Comparation"
   ]
  },
  {
   "cell_type": "markdown",
   "id": "528f15b2",
   "metadata": {
    "ExecuteTime": {
     "end_time": "2022-05-16T23:54:51.893155Z",
     "start_time": "2022-05-16T23:54:51.747984Z"
    },
    "hidden": true
   },
   "source": [
    "A principal diferença entre os dados das duas concorrentes é na informação de composição do que compõe as calças. Na H&M há os valores das porcentagens de cada componente, enquanto na Macy's as informações que são fornecidas sobre composição são somente quais componentes estão presentes. Porém, a informação mais crucial está nos preços de vendas. É notório a grande diferença entre os valores dos produtos vendidos entre as duas empresas, na H&M temos produtos mais baratos enquanto na Macy's mais caros, o que nos leva a inferir que a segunda fornece produtos de grife e consequentemente a primeira com produtos mais acessíveis.\n",
    "\n",
    "Esse fator não descredibiliza e descarta o que foi extraído da Macy's. Podendo ser usado para melhor compreensão do comportamento dos preços e dessa forma analisar, de forma adequada, o mercado de calças e seus fenômenos."
   ]
  },
  {
   "cell_type": "markdown",
   "id": "c24866d8",
   "metadata": {
    "heading_collapsed": true,
    "hidden": true
   },
   "source": [
    "## 6.2 - Answering the hypothesis"
   ]
  },
  {
   "cell_type": "markdown",
   "id": "99d769d5",
   "metadata": {
    "heading_collapsed": true,
    "hidden": true
   },
   "source": [
    "### 6.2.1 - H1: O dia com mais promoções é na sexta-feira"
   ]
  },
  {
   "cell_type": "code",
   "execution_count": 30,
   "id": "7efe9a2a",
   "metadata": {
    "ExecuteTime": {
     "end_time": "2022-08-01T23:36:18.613005Z",
     "start_time": "2022-08-01T23:36:18.420176Z"
    },
    "hidden": true
   },
   "outputs": [
    {
     "data": {
      "image/png": "[encoded data removed]",
      "text/plain": [
       "<Figure size 864x432 with 1 Axes>"
      ]
     },
     "metadata": {},
     "output_type": "display_data"
    }
   ],
   "source": [
    "#######################################\n",
    "# H1 - H&M\n",
    "#######################################\n",
    "\n",
    "data_1_1 = data_hm.loc[data_hm['product_price_new']>0, :]\n",
    "data_aux1 = data_1_1[['data_day_name', 'product_price_new']].groupby('data_day_name').count().reset_index()\n",
    "\n",
    "# Criando a ordem do dia da semana\n",
    "data_aux1['data_day_name'] =  pd.Categorical(data_aux1['data_day_name'],\n",
    "                                            categories = ['Sunday', 'Monday', 'Tuesday', 'Wednesday', 'Thursday', 'Friday', 'Saturday'],\n",
    "                                            ordered=True)\n",
    "\n",
    "sns.set_theme()\n",
    "fig, ax = plt.subplots(figsize=(12,6))\n",
    "sns.lineplot(data=data_aux1, x='data_day_name', y='product_price_new', ax=ax)\n",
    "plt.title('Evolução da quantidade de descontos - H&M')\n",
    "plt.show()"
   ]
  },
  {
   "cell_type": "code",
   "execution_count": 31,
   "id": "aa46fcef",
   "metadata": {
    "ExecuteTime": {
     "end_time": "2022-08-01T23:36:29.944863Z",
     "start_time": "2022-08-01T23:36:29.801836Z"
    },
    "hidden": true,
    "scrolled": false
   },
   "outputs": [
    {
     "data": {
      "image/png": "[encoded data removed]",
      "text/plain": [
       "<Figure size 864x432 with 1 Axes>"
      ]
     },
     "metadata": {},
     "output_type": "display_data"
    }
   ],
   "source": [
    "#######################################\n",
    "# H3 - Macy's\n",
    "#######################################\n",
    "\n",
    "data_1_2 = data_macys.loc[data_macys['product_sale']>0, :]\n",
    "data_aux2 = data_1_2[['data_day_name', 'product_sale']].groupby('data_day_name').count().reset_index()\n",
    "\n",
    "data_aux2['data_day_name'] =  pd.Categorical(data_aux2['data_day_name'],\n",
    "                                            categories = ['Sunday', 'Monday', 'Tuesday', 'Wednesday', 'Thursday', 'Friday', 'Saturday'],\n",
    "                                            ordered=True)\n",
    "\n",
    "sns.set_theme()\n",
    "fig, ax = plt.subplots(figsize=(12,6))\n",
    "sns.lineplot(data=data_aux2, x='data_day_name', y='product_sale', ax=ax)\n",
    "plt.title(\"Evolução da quantidade de descontos - Macy's\")\n",
    "plt.show()"
   ]
  },
  {
   "cell_type": "markdown",
   "id": "be03a806",
   "metadata": {
    "hidden": true
   },
   "source": [
    "Os comportamentos da quantidade de descontos por dia da semana, são similares nas duas lojas. Segue algumas considerações:\n",
    "- Há uma grande queda de Domingo para Segunda, comportamento explicado pelo fato das pessoas voltarem para suas rotinas (trabalho, faculdade, etc) às Segundas, tendo menos tempo para acessar internet;\n",
    "- Os maiores valores podem ser encontrado na Sexta-feira na H&M, na Macy's observa-se a maior quantidade na Terça-feira, no entanto os valores na Sexta são bem próximos. Esse comportamento é explicado pelo oposto do que ocorre de Domingo para Segunda. Nessa situação, as pessoas estão entrando no \"final de semana\", tendo mais tempo para navegação na internet e dessa forma passar mais tempo escolhendo algum produto que deseje comprar."
   ]
  },
  {
   "cell_type": "markdown",
   "id": "52dfc2a5",
   "metadata": {
    "heading_collapsed": true,
    "hidden": true
   },
   "source": [
    "### 6.2.2 - H2: O máximo de desconto que pode ser encontrado é de 60%"
   ]
  },
  {
   "cell_type": "code",
   "execution_count": 29,
   "id": "cf94ecb6",
   "metadata": {
    "ExecuteTime": {
     "end_time": "2022-08-15T18:07:23.260730Z",
     "start_time": "2022-08-15T18:07:23.236685Z"
    },
    "hidden": true
   },
   "outputs": [
    {
     "name": "stdout",
     "output_type": "stream",
     "text": [
      "\n",
      "O produto Slim Tapered Jeans, teve um desconto de 66.67%.\n",
      "\n",
      "Esse produto custava U$89.99 e com o desconto passou a ser U$29.99.\n"
     ]
    }
   ],
   "source": [
    "#######################################\n",
    "# H2 - H&M\n",
    "#######################################\n",
    "\n",
    "#Removendo valores sem desconto\n",
    "data_2_1 = data_hm.loc[data_hm['product_price_new']>0, ['product_id', 'product_name', 'product_price', 'product_price_new', 'data_day_number', 'data_day_name']]\n",
    "\n",
    "#Qual a % de desconto aplicado\n",
    "data_2_1['%discount'] = data_2_1[['product_price', 'product_price_new']].apply(lambda x: 1-(x['product_price_new']/x['product_price']), axis=1)\n",
    "\n",
    "#Desconto máximo e produto\n",
    "discount_max = data_2_1['%discount'].max()\n",
    "data_2_1 = data_2_1.loc[data_2_1['%discount']==discount_max,:]\n",
    "dados_prod = dict(data_2_1.iloc[2,:])\n",
    "\n",
    "print('\\n'f\"O produto {dados_prod['product_name']}, teve um desconto de {dados_prod['%discount']*100:.2f}%.\")\n",
    "print('\\n'f\"Esse produto custava U${dados_prod['product_price']:.2f} e com o desconto passou a ser U${dados_prod['product_price_new']:.2f}.\")"
   ]
  },
  {
   "cell_type": "code",
   "execution_count": 63,
   "id": "eeeb3325",
   "metadata": {
    "ExecuteTime": {
     "end_time": "2022-08-04T22:50:27.504291Z",
     "start_time": "2022-08-04T22:50:27.469514Z"
    },
    "hidden": true
   },
   "outputs": [
    {
     "name": "stdout",
     "output_type": "stream",
     "text": [
      "\n",
      "O produto INC International Concepts, teve um desconto de 49.70%.\n",
      "\n",
      "Esse produto custava U$79.50 e com o desconto passou a ser U$39.99.\n"
     ]
    }
   ],
   "source": [
    "#######################################\n",
    "# H3 - Macy's\n",
    "#######################################\n",
    "\n",
    "#Removendo valores sem desconto\n",
    "data_2_2 = data_macys.loc[data_macys['product_sale']>0, ['product_id', 'product_name', 'product_price', 'product_sale', 'data_day_number', 'data_day_name']]\n",
    "\n",
    "#Qual a % de desconto aplicado\n",
    "data_2_2['%discount'] = data_2_2[['product_price', 'product_sale']].apply(lambda x: 1-(x['product_sale']/x['product_price']), axis=1)\n",
    "\n",
    "#Desconto máximo e produto\n",
    "discount_max = data_2_2['%discount'].max()\n",
    "data_2_2 = data_2_2.loc[data_2_2['%discount']==discount_max,:]\n",
    "dados_prod = dict(data_2_2.iloc[2,:])\n",
    "\n",
    "print('\\n'f\"O produto {dados_prod['product_name']}, teve um desconto de {dados_prod['%discount']*100:.2f}%.\")\n",
    "print('\\n'f\"Esse produto custava U${dados_prod['product_price']:.2f} e com o desconto passou a ser U${dados_prod['product_sale']:.2f}.\")"
   ]
  },
  {
   "cell_type": "markdown",
   "id": "0d316644",
   "metadata": {
    "heading_collapsed": true,
    "hidden": true
   },
   "source": [
    "### 6.2.3 - H3: Os 5 modelos com maiores quantidades de calças, são as que possuem o valor em torno da mediana total"
   ]
  },
  {
   "cell_type": "code",
   "execution_count": 34,
   "id": "28b84135",
   "metadata": {
    "ExecuteTime": {
     "end_time": "2022-08-01T23:37:33.926324Z",
     "start_time": "2022-08-01T23:37:33.904704Z"
    },
    "hidden": true
   },
   "outputs": [
    {
     "name": "stdout",
     "output_type": "stream",
     "text": [
      "          product_name  count_id  median_price  Rank\n",
      "16          Slim Jeans       407         29.99  1.00\n",
      "15        Skinny Jeans       361         19.99  2.00\n",
      "7        Regular Jeans       358         48.99  3.00\n",
      "19  Slim Tapered Jeans       253        119.99  4.00\n",
      "10       Relaxed Jeans       182         53.99  5.00\n",
      "\n",
      "\n",
      "\n",
      "A mediana dos total dos preços é de: 39.99\n"
     ]
    }
   ],
   "source": [
    "#######################################\n",
    "# H3 - H&M\n",
    "#######################################\n",
    "\n",
    "data_2_1 = data_hm[['product_name', 'product_id', 'product_price']].groupby('product_name').agg({'product_id':'count', 'product_price':'median'}).reset_index()\n",
    "data_2_1 = data_2_1.rename(columns = {'product_id':'count_id', 'product_price':'median_price'})\n",
    "data_2_1['Rank'] = data_2_1['count_id'].rank(ascending=False)\n",
    "data_2_1.sort_values('Rank', inplace=True)\n",
    "data_2_1 = data_2_1.loc[data_2_1['Rank']<6, :]\n",
    "print(data_2_1)\n",
    "print(\"\\n\\n\")\n",
    "print(f\"A mediana dos total dos preços é de: {data_hm['product_price'].median()}\")"
   ]
  },
  {
   "cell_type": "code",
   "execution_count": 58,
   "id": "e2c5f3e2",
   "metadata": {
    "ExecuteTime": {
     "end_time": "2022-08-04T22:24:47.033978Z",
     "start_time": "2022-08-04T22:24:46.938888Z"
    },
    "hidden": true
   },
   "outputs": [
    {
     "name": "stdout",
     "output_type": "stream",
     "text": [
      "   product_name  count_id  median_price  Rank\n",
      "22       Levi's      1089         69.50  1.00\n",
      "16    Hugo Boss       912        178.00  2.00\n",
      "30   RON TOMSON       504        180.00  3.00\n",
      "4     COTTON ON       499         49.99  4.00\n",
      "23  Lucky Brand       497         99.00  5.00\n",
      "\n",
      "\n",
      "\n",
      "A mediana dos total dos preços é de: 89.00\n"
     ]
    }
   ],
   "source": [
    "#######################################\n",
    "# H2 - Macy's\n",
    "#######################################\n",
    "\n",
    "data_2_2 = data_macys[['product_name', 'product_id', 'product_price']].groupby('product_name').agg({'product_id':'count', 'product_price':'median'}).reset_index()\n",
    "data_2_2 = data_2_2.rename(columns = {'product_id':'count_id', 'product_price':'median_price'})\n",
    "data_2_2['Rank'] = data_2_2['count_id'].rank(ascending=False)\n",
    "data_2_2.sort_values('Rank', inplace=True)\n",
    "data_2_2 = data_2_2.loc[data_2_2['Rank']<6, :]\n",
    "print(data_2_2)\n",
    "print(\"\\n\\n\")\n",
    "print(f\"A mediana dos total dos preços é de: {data_macys['product_price'].median():.2f}\")"
   ]
  },
  {
   "cell_type": "markdown",
   "id": "7a7e8e59",
   "metadata": {
    "heading_collapsed": true,
    "hidden": true
   },
   "source": [
    "### 6.2.4 - H4: Calças com composição de algodão acima de 90%, custam acima do preço mediano\n"
   ]
  },
  {
   "cell_type": "code",
   "execution_count": 25,
   "id": "3f370fd7",
   "metadata": {
    "ExecuteTime": {
     "end_time": "2022-08-15T18:01:06.214777Z",
     "start_time": "2022-08-15T18:01:06.190230Z"
    },
    "hidden": true,
    "scrolled": false
   },
   "outputs": [
    {
     "data": {
      "text/html": [
       "<div>\n",
       "<style scoped>\n",
       "    .dataframe tbody tr th:only-of-type {\n",
       "        vertical-align: middle;\n",
       "    }\n",
       "\n",
       "    .dataframe tbody tr th {\n",
       "        vertical-align: top;\n",
       "    }\n",
       "\n",
       "    .dataframe thead th {\n",
       "        text-align: right;\n",
       "    }\n",
       "</style>\n",
       "<table border=\"1\" class=\"dataframe\">\n",
       "  <thead>\n",
       "    <tr style=\"text-align: right;\">\n",
       "      <th></th>\n",
       "      <th>product_name</th>\n",
       "      <th>product_id</th>\n",
       "      <th>product_price</th>\n",
       "      <th>cotton</th>\n",
       "    </tr>\n",
       "  </thead>\n",
       "  <tbody>\n",
       "    <tr>\n",
       "      <th>13</th>\n",
       "      <td>Slim Jeans</td>\n",
       "      <td>407</td>\n",
       "      <td>29.99</td>\n",
       "      <td>0.99</td>\n",
       "    </tr>\n",
       "    <tr>\n",
       "      <th>12</th>\n",
       "      <td>Skinny Jeans</td>\n",
       "      <td>361</td>\n",
       "      <td>19.99</td>\n",
       "      <td>0.99</td>\n",
       "    </tr>\n",
       "    <tr>\n",
       "      <th>4</th>\n",
       "      <td>Regular Jeans</td>\n",
       "      <td>358</td>\n",
       "      <td>48.99</td>\n",
       "      <td>0.99</td>\n",
       "    </tr>\n",
       "    <tr>\n",
       "      <th>16</th>\n",
       "      <td>Slim Tapered Jeans</td>\n",
       "      <td>253</td>\n",
       "      <td>119.99</td>\n",
       "      <td>0.99</td>\n",
       "    </tr>\n",
       "    <tr>\n",
       "      <th>7</th>\n",
       "      <td>Relaxed Jeans</td>\n",
       "      <td>182</td>\n",
       "      <td>53.99</td>\n",
       "      <td>1.00</td>\n",
       "    </tr>\n",
       "    <tr>\n",
       "      <th>11</th>\n",
       "      <td>Skinny Cropped Jeans</td>\n",
       "      <td>150</td>\n",
       "      <td>29.99</td>\n",
       "      <td>0.99</td>\n",
       "    </tr>\n",
       "    <tr>\n",
       "      <th>1</th>\n",
       "      <td>Loose Jeans</td>\n",
       "      <td>94</td>\n",
       "      <td>39.99</td>\n",
       "      <td>1.00</td>\n",
       "    </tr>\n",
       "    <tr>\n",
       "      <th>5</th>\n",
       "      <td>Regular Tapered Crop Jeans</td>\n",
       "      <td>64</td>\n",
       "      <td>19.99</td>\n",
       "      <td>1.00</td>\n",
       "    </tr>\n",
       "    <tr>\n",
       "      <th>9</th>\n",
       "      <td>Relaxed Pull-on Jeans</td>\n",
       "      <td>56</td>\n",
       "      <td>24.99</td>\n",
       "      <td>1.00</td>\n",
       "    </tr>\n",
       "    <tr>\n",
       "      <th>10</th>\n",
       "      <td>Relaxed Tapered Pull-on Jeans</td>\n",
       "      <td>39</td>\n",
       "      <td>98.49</td>\n",
       "      <td>1.00</td>\n",
       "    </tr>\n",
       "    <tr>\n",
       "      <th>6</th>\n",
       "      <td>Relaxed Denim Joggers</td>\n",
       "      <td>31</td>\n",
       "      <td>29.99</td>\n",
       "      <td>1.00</td>\n",
       "    </tr>\n",
       "    <tr>\n",
       "      <th>3</th>\n",
       "      <td>Regular Denim Joggers</td>\n",
       "      <td>29</td>\n",
       "      <td>29.99</td>\n",
       "      <td>1.00</td>\n",
       "    </tr>\n",
       "    <tr>\n",
       "      <th>17</th>\n",
       "      <td>Trashed Skinny Jeans</td>\n",
       "      <td>13</td>\n",
       "      <td>39.99</td>\n",
       "      <td>0.93</td>\n",
       "    </tr>\n",
       "    <tr>\n",
       "      <th>2</th>\n",
       "      <td>Regular Bootcut Jeans</td>\n",
       "      <td>12</td>\n",
       "      <td>39.99</td>\n",
       "      <td>0.99</td>\n",
       "    </tr>\n",
       "    <tr>\n",
       "      <th>0</th>\n",
       "      <td>Loose Carpenter Jeans</td>\n",
       "      <td>11</td>\n",
       "      <td>39.99</td>\n",
       "      <td>1.00</td>\n",
       "    </tr>\n",
       "    <tr>\n",
       "      <th>14</th>\n",
       "      <td>Slim Straight Cropped Jeans</td>\n",
       "      <td>4</td>\n",
       "      <td>29.99</td>\n",
       "      <td>0.98</td>\n",
       "    </tr>\n",
       "    <tr>\n",
       "      <th>15</th>\n",
       "      <td>Slim Tapered Cropped Jeans</td>\n",
       "      <td>3</td>\n",
       "      <td>29.99</td>\n",
       "      <td>0.99</td>\n",
       "    </tr>\n",
       "    <tr>\n",
       "      <th>8</th>\n",
       "      <td>Relaxed Jeans with Embroidery Detail</td>\n",
       "      <td>2</td>\n",
       "      <td>49.99</td>\n",
       "      <td>1.00</td>\n",
       "    </tr>\n",
       "  </tbody>\n",
       "</table>\n",
       "</div>"
      ],
      "text/plain": [
       "                            product_name  product_id  product_price  cotton\n",
       "13                            Slim Jeans         407          29.99    0.99\n",
       "12                          Skinny Jeans         361          19.99    0.99\n",
       "4                          Regular Jeans         358          48.99    0.99\n",
       "16                    Slim Tapered Jeans         253         119.99    0.99\n",
       "7                          Relaxed Jeans         182          53.99    1.00\n",
       "11                  Skinny Cropped Jeans         150          29.99    0.99\n",
       "1                            Loose Jeans          94          39.99    1.00\n",
       "5             Regular Tapered Crop Jeans          64          19.99    1.00\n",
       "9                  Relaxed Pull-on Jeans          56          24.99    1.00\n",
       "10         Relaxed Tapered Pull-on Jeans          39          98.49    1.00\n",
       "6                  Relaxed Denim Joggers          31          29.99    1.00\n",
       "3                  Regular Denim Joggers          29          29.99    1.00\n",
       "17                  Trashed Skinny Jeans          13          39.99    0.93\n",
       "2                  Regular Bootcut Jeans          12          39.99    0.99\n",
       "0                  Loose Carpenter Jeans          11          39.99    1.00\n",
       "14           Slim Straight Cropped Jeans           4          29.99    0.98\n",
       "15            Slim Tapered Cropped Jeans           3          29.99    0.99\n",
       "8   Relaxed Jeans with Embroidery Detail           2          49.99    1.00"
      ]
     },
     "execution_count": 25,
     "metadata": {},
     "output_type": "execute_result"
    }
   ],
   "source": [
    "#######################################\n",
    "# H4 - H&M\n",
    "#######################################\n",
    "\n",
    "data_4_aux = data_hm.loc[data_hm['cotton']>0.9, :]\n",
    "data_4 = data_4_aux[['product_id', 'product_name', 'product_price', 'cotton']].groupby('product_name').agg({'product_id':'count', 'product_price':'median', 'cotton':'mean'}).reset_index()\n",
    "data_4.sort_values(ascending=False, by=['product_id'])"
   ]
  },
  {
   "cell_type": "markdown",
   "id": "82441665",
   "metadata": {
    "heading_collapsed": true,
    "hidden": true
   },
   "source": [
    "### 6.2.5 - H5: Items em promoção possuem cor clara"
   ]
  },
  {
   "cell_type": "code",
   "execution_count": 33,
   "id": "ed84e4da",
   "metadata": {
    "ExecuteTime": {
     "end_time": "2022-08-15T18:16:54.080129Z",
     "start_time": "2022-08-15T18:16:54.052399Z"
    },
    "hidden": true
   },
   "outputs": [
    {
     "data": {
      "text/html": [
       "<div>\n",
       "<style scoped>\n",
       "    .dataframe tbody tr th:only-of-type {\n",
       "        vertical-align: middle;\n",
       "    }\n",
       "\n",
       "    .dataframe tbody tr th {\n",
       "        vertical-align: top;\n",
       "    }\n",
       "\n",
       "    .dataframe thead th {\n",
       "        text-align: right;\n",
       "    }\n",
       "</style>\n",
       "<table border=\"1\" class=\"dataframe\">\n",
       "  <thead>\n",
       "    <tr style=\"text-align: right;\">\n",
       "      <th></th>\n",
       "      <th>product_id</th>\n",
       "      <th>product_price_new</th>\n",
       "    </tr>\n",
       "    <tr>\n",
       "      <th>product_color</th>\n",
       "      <th></th>\n",
       "      <th></th>\n",
       "    </tr>\n",
       "  </thead>\n",
       "  <tbody>\n",
       "    <tr>\n",
       "      <th>Denim blue</th>\n",
       "      <td>108</td>\n",
       "      <td>24.42</td>\n",
       "    </tr>\n",
       "    <tr>\n",
       "      <th>Black</th>\n",
       "      <td>80</td>\n",
       "      <td>23.83</td>\n",
       "    </tr>\n",
       "    <tr>\n",
       "      <th>Dark denim blue</th>\n",
       "      <td>33</td>\n",
       "      <td>21.75</td>\n",
       "    </tr>\n",
       "    <tr>\n",
       "      <th>Light denim blue</th>\n",
       "      <td>31</td>\n",
       "      <td>29.41</td>\n",
       "    </tr>\n",
       "    <tr>\n",
       "      <th>Dark blue denim</th>\n",
       "      <td>12</td>\n",
       "      <td>18.99</td>\n",
       "    </tr>\n",
       "    <tr>\n",
       "      <th>Light blue</th>\n",
       "      <td>12</td>\n",
       "      <td>16.24</td>\n",
       "    </tr>\n",
       "    <tr>\n",
       "      <th>Dark gray</th>\n",
       "      <td>4</td>\n",
       "      <td>15.99</td>\n",
       "    </tr>\n",
       "    <tr>\n",
       "      <th>Dark blue</th>\n",
       "      <td>2</td>\n",
       "      <td>20.99</td>\n",
       "    </tr>\n",
       "  </tbody>\n",
       "</table>\n",
       "</div>"
      ],
      "text/plain": [
       "                  product_id  product_price_new\n",
       "product_color                                  \n",
       "Denim blue               108              24.42\n",
       "Black                     80              23.83\n",
       "Dark denim blue           33              21.75\n",
       "Light denim blue          31              29.41\n",
       "Dark blue denim           12              18.99\n",
       "Light blue                12              16.24\n",
       "Dark gray                  4              15.99\n",
       "Dark blue                  2              20.99"
      ]
     },
     "execution_count": 33,
     "metadata": {},
     "output_type": "execute_result"
    }
   ],
   "source": [
    "#######################################\n",
    "# H5 - H&M\n",
    "#######################################\n",
    "\n",
    "data_5_aux = data_hm.loc[data_hm['product_price_new']>0, :]\n",
    "data_5 = data_5_aux[['product_id', 'product_color', 'product_price_new']].groupby('product_color').agg({'product_id':'count', 'product_price_new':'mean'})\n",
    "data_5.sort_values(ascending=False, by=['product_id'])"
   ]
  },
  {
   "cell_type": "markdown",
   "id": "24258b78",
   "metadata": {
    "heading_collapsed": true
   },
   "source": [
    "# 7 - Business case"
   ]
  },
  {
   "cell_type": "markdown",
   "id": "a8536ea8",
   "metadata": {
    "hidden": true
   },
   "source": [
    "O grande objetivo do projeto é responder as perguntas dos sócios da Star Jeans:\n",
    "- Qual o melhor preço de venda para as calças?\n",
    "- Quantos tipos de calças e suas cores para o produto inicial?\n",
    "- Quais as matérias-primas necessárias para confeccionar as calças?\n",
    "\n",
    "Além da resposta para esses questionamentos, qual seria o investimento inicial no negócio?\n",
    "Para entender melhor qual o investimento que será feito, a matéria-prima e os custos que há na confecção das roupas, é preciso analisar os processos de fabricação. Na confecção de roupas, é possível observar que há os seguintes custos:\n",
    "\n",
    "- Custos com matéria-prima:\n",
    "    - Tecido;\n",
    "    - Entretela;\n",
    "    - Botão;\n",
    "    - Zíper;\n",
    "    - Linha;\n",
    "    - Etiqueta;\n",
    "    - Tag;\n",
    "    - Embalagem.\n",
    "- Custos com mão de obra;\n",
    "- Custos com energia; e\n",
    "- Custos com impostos.\n",
    "\n",
    "Em cada um dos items acima, há uma forma de estimar os custos e serão descritos abaixo."
   ]
  },
  {
   "cell_type": "markdown",
   "id": "6fc23998",
   "metadata": {
    "heading_collapsed": true,
    "hidden": true
   },
   "source": [
    "## 7.1 Custos com matéria-prima"
   ]
  },
  {
   "cell_type": "markdown",
   "id": "53b6e729",
   "metadata": {
    "hidden": true
   },
   "source": [
    "Todos os preços que serão mencionados aqui, foram retirados de lojas online especializadas em vendas de produtos para confecção. O que isso significa? Que o valor final será uma estimativa, na realidade as matérias-primas são compradas em atacado, com preços bem menores, fazendo assim com que haja um custo inferior nessa etapa."
   ]
  },
  {
   "cell_type": "markdown",
   "id": "be98bb7a",
   "metadata": {
    "hidden": true
   },
   "source": [
    "Medidas de uma calça jeans masculina:\n",
    "\n",
    "<img src = \"https://static.homemecia.com.br/public/homemecia/imagens/produtos/tabela_tamanho/dac739c505a832fe637926c2498e3127.jpg\">"
   ]
  },
  {
   "cell_type": "markdown",
   "id": "2018b0f3",
   "metadata": {
    "heading_collapsed": true,
    "hidden": true
   },
   "source": [
    "### 7.1.1 Custo do tecido"
   ]
  },
  {
   "cell_type": "markdown",
   "id": "9e02fc28",
   "metadata": {
    "hidden": true
   },
   "source": [
    "Nessa etapa, será considerado uma calça jeans do tamanho 42 como exemplo de estimativa para os custos. O cálculo para o tecido que será utilizado, é baseado na área de uma calça, para isso é preciso pegar a altura e o tamanho do quadril (maior que a cintura).\n",
    "\n",
    "Alguns sites indicam que para haver uma quantidade extra de tecido para costuras e bainhas, é necessário adicionar cerca de 20 centímetros de tecido na altura da calça. A fórmula que será utilizada é básica: \n",
    "\n",
    "<b> Área = (altura + 20cm) * quadril</b>\n",
    "\n",
    "Substituindo os valores para uma calça de tamanho 42:\n",
    "\n",
    "<b> Área = (105 + 20cm) * 52</b>\n",
    "\n",
    "Dessa forma tem-se um valor de <b>6500cm²</b>, transformando em metros quadrados <b>0,65m²</b>."
   ]
  },
  {
   "cell_type": "markdown",
   "id": "e1b3cfda",
   "metadata": {
    "hidden": true
   },
   "source": [
    "Pesquisando em algumas lojas virtuais, foi possível obter um valor de tecido por volta de <b> R&#36; 21,76 por m²</b>. Isso sendo um tecido feito totalmente de algodão. Efetuando uma simples \"regra de 3\" pode-se obter o valor de 0,65m². O valor para cada calça seria de <b> R&#36; 14,14 </b>."
   ]
  },
  {
   "cell_type": "markdown",
   "id": "8125e443",
   "metadata": {
    "heading_collapsed": true,
    "hidden": true
   },
   "source": [
    "### 7.1.2 Entretela"
   ]
  },
  {
   "cell_type": "markdown",
   "id": "055c6b21",
   "metadata": {
    "hidden": true
   },
   "source": [
    "Entretela é usado para estabilizar, encorporar e estabilizar o tecido que será bordado. Em lojas virtuais, o valor da entretela é de R&#36; 13,33 por m². A recomendação é utilizar 0,07cm desse material, dessa forma precisamos determinar o valor do metro desse componente:\n",
    "\n",
    "m² = 40/3 --> <b> m = 3,65 </b>\n"
   ]
  },
  {
   "cell_type": "markdown",
   "id": "29db3cb7",
   "metadata": {
    "hidden": true
   },
   "source": [
    "Como é preciso cerca de 0,07cm de entretela, aplicando uma proporção obtemos um valor de <b> R&#36; 2,65.10⁻³</b>."
   ]
  },
  {
   "cell_type": "markdown",
   "id": "e7be49a4",
   "metadata": {
    "heading_collapsed": true,
    "hidden": true
   },
   "source": [
    "### 7.1.3 Custo do botão"
   ]
  },
  {
   "cell_type": "markdown",
   "id": "724e769e",
   "metadata": {
    "hidden": true
   },
   "source": [
    "Um pacote contendo 100 unidades de botão custa <b> R&#36; 52,00</b>, portanto um botão custa <b> R&#36; 0,52</b>."
   ]
  },
  {
   "cell_type": "markdown",
   "id": "c66028e3",
   "metadata": {
    "heading_collapsed": true,
    "hidden": true
   },
   "source": [
    "### 7.1.4 Custo do zíper"
   ]
  },
  {
   "cell_type": "markdown",
   "id": "b6a981a4",
   "metadata": {
    "hidden": true
   },
   "source": [
    "Dez unidades de zíper com tamanho padrão para calças jeans, custam <b> R&#36; 16,00</b>, portanto um zíper custa <b> R&#36; 1,60</b>."
   ]
  },
  {
   "cell_type": "markdown",
   "id": "fd817ec9",
   "metadata": {
    "heading_collapsed": true,
    "hidden": true
   },
   "source": [
    "### 7.1.5 Custo da linha"
   ]
  },
  {
   "cell_type": "markdown",
   "id": "b366b507",
   "metadata": {
    "ExecuteTime": {
     "end_time": "2022-08-29T23:46:56.615983Z",
     "start_time": "2022-08-29T23:46:56.608006Z"
    },
    "hidden": true
   },
   "source": [
    "Com um tubo com 1000 metros, é possível produzir cerca de 9 calças, e cada tubo custa <b> R&#36; 13,21</b>, portanto uma calça terá o valor de <b> R&#36; 1,46</b>."
   ]
  },
  {
   "cell_type": "markdown",
   "id": "8be66140",
   "metadata": {
    "heading_collapsed": true,
    "hidden": true
   },
   "source": [
    "### 7.1.6 Custo da etiqueta"
   ]
  },
  {
   "cell_type": "markdown",
   "id": "41375984",
   "metadata": {
    "hidden": true
   },
   "source": [
    "Cerca de 2000 unidades de etiqueta custam <b> R&#36; 1000,00</b>, dessa forma uma etiqueta tem o valor de <b> R&#36; 2,00</b>."
   ]
  },
  {
   "cell_type": "markdown",
   "id": "37a4556c",
   "metadata": {
    "heading_collapsed": true,
    "hidden": true
   },
   "source": [
    "### 7.1.7 Custo da etiqueta de composição"
   ]
  },
  {
   "cell_type": "markdown",
   "id": "25d24331",
   "metadata": {
    "hidden": true
   },
   "source": [
    "Um pacote com <b>100 unidades</b> de etiqueta específica para informações de composição da peça, custa em média <b>R&#36; 57,95</b>, ou seja, uma unidade tem o valor de <b>R&#36; 0,58</b>."
   ]
  },
  {
   "cell_type": "markdown",
   "id": "adf08d3c",
   "metadata": {
    "heading_collapsed": true,
    "hidden": true
   },
   "source": [
    "### 7.1.8 Custo da embalagem"
   ]
  },
  {
   "cell_type": "markdown",
   "id": "f28fe35d",
   "metadata": {
    "hidden": true
   },
   "source": [
    "As embalagens encontradas na pesquisa, foram contendo 100 unidades no pacote, tendo um valor de <b>R&#36; 57,55</b>, dessa forma uma embalagem terá o valor de <b>R&#36; 0,58</b>."
   ]
  },
  {
   "cell_type": "markdown",
   "id": "754908d6",
   "metadata": {
    "heading_collapsed": true,
    "hidden": true
   },
   "source": [
    "### 7.1.9 Total"
   ]
  },
  {
   "cell_type": "markdown",
   "id": "d09d8046",
   "metadata": {
    "hidden": true
   },
   "source": [
    "Desse modo, temos um custo com matéria-prima de aproximadamente <b>R$ 20,89</b> por calça."
   ]
  },
  {
   "cell_type": "markdown",
   "id": "ec20959e",
   "metadata": {
    "heading_collapsed": true,
    "hidden": true
   },
   "source": [
    "## 7.2 Custo da mão-de-obra"
   ]
  },
  {
   "cell_type": "markdown",
   "id": "f5a388d6",
   "metadata": {
    "hidden": true
   },
   "source": [
    "Os custos com mão-de-obra, começa no mapeamento da peça até a embalagem. Os processos e o tempo estimado são:\n",
    "\n",
    "- Mapear e cortar: 5min;\n",
    "- Costurar: 30min;\n",
    "- Passar e embalar: 5min.\n",
    "\n",
    "Dessa forma temos que o tempo estimado para a confeção de uma calça e o tempo de embalo, é de aproximadamente <b>40 minutos</b>. Considerando o salário mínimo atual (ano de 2022), um colaborador recebe <b>R$ 1.212,00</b>. A partir desse valor teremos a estimativa de quanto será aplicado na mão-de-obra de uma calça."
   ]
  },
  {
   "cell_type": "markdown",
   "id": "71a9073a",
   "metadata": {
    "hidden": true
   },
   "source": [
    "Abaixo temos uma tabela contendo os dias úteis de cada mês para o ano de 2022 no Brasil. Totalizando ao todo 253 dias úteis. Efetuando um cálculo simples para termos uma quantidade de dias úteis média, basta dividir o total por 12, obtendo assim: <b>21 dias úteis</b>."
   ]
  },
  {
   "cell_type": "code",
   "execution_count": 11,
   "id": "d337eac1",
   "metadata": {
    "ExecuteTime": {
     "end_time": "2022-08-31T13:10:55.164086Z",
     "start_time": "2022-08-31T13:10:55.151083Z"
    },
    "code_folding": [
     0
    ],
    "hidden": true
   },
   "outputs": [
    {
     "name": "stdout",
     "output_type": "stream",
     "text": [
      "  Jan    Fev    Mar    Abr    Mai    Jun    Jul    Ago    Set    Out    Nov    Dez    All\n",
      "-----  -----  -----  -----  -----  -----  -----  -----  -----  -----  -----  -----  -----\n",
      "   21     20     22     19     22     22     21     23     21     20     20     22    253\n"
     ]
    }
   ],
   "source": [
    "table = [\n",
    "         ['Jan', 'Fev', 'Mar', 'Abr', 'Mai', 'Jun', 'Jul', 'Ago', 'Set', 'Out', 'Nov', 'Dez', 'All'],\n",
    "         [21, 20, 22, 19, 22, 22, 21, 23, 21, 20, 20, 22, 253]        \n",
    "        ]\n",
    "\n",
    "print(tabulate(table, headers='firstrow'))"
   ]
  },
  {
   "cell_type": "markdown",
   "id": "7a7de5c9",
   "metadata": {
    "hidden": true
   },
   "source": [
    "Como o nosso objetivo é estimar o valor gasto para confecção de uma calça, transformaremos os 21 dias em minutos. Considerando uma jornada de trabalho de 8h por dia, temos que ao final de 21 dias a pessoa trabalhou <b>168h</b>. \n",
    "\n",
    "Dentro de 1h temos 60min, então dentro de 168h temos <b>10.080 minutos</b>. Considerando nosso salário de <b>R&#36; 1.212,00</b>, o funcionário ganha aproximadamente <b>R&#36; 0,12</b> por minuto trabalhado.\n",
    "\n",
    "Como há aproximadamente 40min para fazer uma peça e embalar, o valor final com mão-de-obra fica <b>R&#36; 4,80</b>."
   ]
  },
  {
   "cell_type": "markdown",
   "id": "b29b679d",
   "metadata": {
    "heading_collapsed": true,
    "hidden": true
   },
   "source": [
    "## 7.3 Custo com energia"
   ]
  },
  {
   "cell_type": "markdown",
   "id": "49100793",
   "metadata": {
    "hidden": true
   },
   "source": [
    "No custo com energia elétrica, temos que ter os valores para 1 kwh (kilo-watt hora). O valor utilizado, será baseado nos valores aplicados na cidade de Fortaleza/CE. A última atualização mostra que são <b>R&#36; 73,00</b> para cada 100kwh, o que nos leva a <b>R&#36; 0,73 / kwh</b>.\n",
    "\n",
    "Alguns equipamentos são necessários para a confecção das roupas, como lâmpadas, máquinas de costura e ferros de passar. Cada um possui uma determinada potência. Abaixo há uma breve descrição de cada um:\n",
    "\n",
    "- Lâmpada LED: 8W\n",
    "- Máquina de costura industrial: 550W\n",
    "- Ferro de passar: 1200W\n",
    "\n",
    "Para estimarmos o valor de kwh gasto durante um mês de cada um, iremos utilzar uma fórmula básica:\n",
    "\n",
    "\\begin{equation*}\n",
    "kwh = (W * H * D) / 1000\n",
    "\\end{equation*}\n",
    "\n",
    "Onde:\n",
    "\n",
    "- W: Potência do equipamento em Watts\n",
    "- H: Número de horas utilizadas em um dia\n",
    "- D: Número de dias de uso no mês\n",
    "\n",
    "Será considerado nesse caso um ambiente contendo 10 lâmpadas e para cada lâmpada uma máquina de costura, totalizando dessa forma 10 máquinas. Como há a etapa de passar a roupa, cada máquina terá seu ferro de passar, ficando dessa forma 10 ferros."
   ]
  },
  {
   "cell_type": "markdown",
   "id": "fc36f7fa",
   "metadata": {
    "heading_collapsed": true,
    "hidden": true
   },
   "source": [
    "### 7.3.1 Custo lâmpada"
   ]
  },
  {
   "cell_type": "markdown",
   "id": "ee103702",
   "metadata": {
    "hidden": true
   },
   "source": [
    "Considerando o ambiente acima, temos que para uma lâmpada que será utilizada o dia inteiro de trabalho (no caso serão 8h/dia):\n",
    "\n",
    "\\begin{equation*}\n",
    "kwh = (8 * 8 * 21) / 1000\n",
    "\\end{equation*}\n",
    "\n",
    "Totalizando cerca de <b>1,34 kwh</b> no mês. Como temos 10 lâmpadas, o consumo total será de <b> 13,40 kwh </b>."
   ]
  },
  {
   "cell_type": "markdown",
   "id": "6265b32d",
   "metadata": {
    "heading_collapsed": true,
    "hidden": true
   },
   "source": [
    "### 7.3.2 Custo das máquinas de costura"
   ]
  },
  {
   "cell_type": "markdown",
   "id": "12793816",
   "metadata": {
    "hidden": true
   },
   "source": [
    "Nessa etapa da estimativa de consumo de energia das máquinas de costura, precisamos calcular o tempo que elas serão realmente utilizadas durante as 8h de trabalho. O tempo de confecção de uma calça leva em média 40 min. Considerando as 8h trabalhadas totalmente (sem pausas), há cerca de 12 calças sendo feitas por máquina de costura.\n",
    "\n",
    "Como o tempo de costura leva em média 30 min, aplicando esse tempo em 12 calças temos que o tempo real de trabalho da máquina de costura é de: <b>360 min</b>, o que nos leva a <b>6h</b>.\n",
    "\n",
    "Aplicando a equação para o kwh, obtemos <b>69,3 kwh</b> por máquina de costura, totalizando para as 10 máquinas <b>693 kwh</b>."
   ]
  },
  {
   "cell_type": "markdown",
   "id": "78797504",
   "metadata": {
    "heading_collapsed": true,
    "hidden": true
   },
   "source": [
    "### 7.3.3 Custo do ferro de passar"
   ]
  },
  {
   "cell_type": "markdown",
   "id": "f0f2fd04",
   "metadata": {
    "hidden": true
   },
   "source": [
    "O processo será similar ao aplicado nas máquinas de costura. Como o ferro de passar é usado durante 5 min por calça, considerando que haja 12 calças sendo feitas, o tempo total é de <b>1h</b>. Dessa forma, em um ferro de passar temos <b>25,2 kwh</b> e para 10 ferros <b>252 kwh</b>."
   ]
  },
  {
   "cell_type": "markdown",
   "id": "56cf3900",
   "metadata": {
    "heading_collapsed": true,
    "hidden": true
   },
   "source": [
    "### 7.3.4 Custo total"
   ]
  },
  {
   "cell_type": "markdown",
   "id": "5886e3bc",
   "metadata": {
    "hidden": true
   },
   "source": [
    "Com o somatório dos 3 principais custos com energia, temos o valor total de <b>958,4 kwh</b>. Aplicando o valor de 1 kwh adotado para esse problema, tem-se o custo de energia aproximadamente de <b>R&#36; 699,63</b>.\n",
    "\n",
    "Esse valor é uma estimativa, considerando que as <b>lâmpadas</b> trabalharam 8h/dia, as <b>máquinas de costura</b> funcionaram somente 30 min por calça e os <b>ferros de passar</b> sendo utilizados durante 5 min por calça. \n",
    "\n",
    "Em alguns locais há taxas extras de consumo, podendo variar o valor da energia em determinados períodos do ano. NO entanto, para efeitos didáticos, esse valor final será considerado."
   ]
  },
  {
   "cell_type": "markdown",
   "id": "df37dab3",
   "metadata": {
    "heading_collapsed": true,
    "hidden": true
   },
   "source": [
    "## 7.4 Custo com impostos"
   ]
  },
  {
   "cell_type": "markdown",
   "id": "1184c4cc",
   "metadata": {
    "hidden": true
   },
   "source": [
    "Os impostos de uma empresa de roupas, é baseado no faturamento bruto dela anualmente. Dessa forma, não há um padrão a ser seguido, somente a tabela de referência abaixo:\n",
    "\n",
    "<img src = \"https://conube.com.br/blog/wp-content/uploads/2021/06/anexo-I.jpg\">"
   ]
  },
  {
   "cell_type": "markdown",
   "id": "4ea90004",
   "metadata": {
    "heading_collapsed": true,
    "hidden": true
   },
   "source": [
    "## 7.5 Total do investimento inicial"
   ]
  },
  {
   "cell_type": "markdown",
   "id": "89e4f9de",
   "metadata": {
    "hidden": true
   },
   "source": [
    "Nessa última etapa faremos a estimativa de investimento inicial para a entrada no mercado de calças jeans masculinas e o preço que deverá ser praticado."
   ]
  },
  {
   "cell_type": "markdown",
   "id": "477e2464",
   "metadata": {
    "heading_collapsed": true,
    "hidden": true
   },
   "source": [
    "### 7.5.1 Investimento"
   ]
  },
  {
   "cell_type": "markdown",
   "id": "2406b7ba",
   "metadata": {
    "hidden": true
   },
   "source": [
    "Será considerado uma situação em que há somente um turno de trabalho, ou seja, há somente <b>8h</b> sendo trabalhadas por dia. A quantidade de <b>funcionários</b> é de 10 e os <b>dias úteis</b> serão 21.\n",
    "\n",
    "Primeiro faremos o cálculo do salário do colaborador. O salário mínimo em 2022 é de <b>R&#36; 1.212,00</b> para os 10 colaboradores, há um investimento mensal de <b>R&#36; 12.120,00</b>.\n",
    "\n",
    "Segundo, os custo com energia elétrica ficou aproximadamente <b>R&#36; 699,63</b>.\n",
    "\n",
    "Terceiro, considerando que em um dia haja a confecção de 120 calças, no final de 21 dias serão <b>2520</b> calças no total. Como o custo com matéria-prima para uma calça é de <b>R&#36; 20,89</b>, o investimento final será de <b>R&#36; 52.642,80</b>.\n",
    "\n",
    "Dessa forma temos que em um mês, o valor mínimo a ser investido é de <b>R&#36; 65.642,43</b> para que haja o pagamento dos custos básicos com matéria-prime, colaboradores e energia elétrica."
   ]
  },
  {
   "cell_type": "markdown",
   "id": "19b55c01",
   "metadata": {
    "heading_collapsed": true,
    "hidden": true
   },
   "source": [
    "### 7.5.2 Preço praticado"
   ]
  },
  {
   "cell_type": "markdown",
   "id": "20cda6bd",
   "metadata": {
    "hidden": true
   },
   "source": [
    "Considerando o valor acima, para o pagamentos dos custos básicos, qual seria o preço de uma calça capaz de suprir ao menos esses custos?\n",
    "\n",
    "Para isso faremos o valor total inicial, dividido pela estimativa de calças no mês que é de 2520. O valor de uma calça ficaria de <b>R&#36; 26,04</b>. Esse é o valor que deve ser vendido uma calça caso haja apenas a pretensão de pagar os custos básicos.\n",
    "\n",
    "Como esse não é o objetivo, mas sim lucrar e dessa forma crescer mais o patrimônio, o valor praticado será maior e correspondente ao mercado. Esse valor de <b>R&#36; 26,04</b> acrescentado de 10% é de <b>R&#36; 28,64</b> e ficará como o limite inferior para o preço, ou seja, caso haja desconto esse deve ser o valor mínimo para o produto. Permitindo assim que haja uma pequena margem de lucro.\n",
    "\n",
    "Pegando como referência os dados coletados da H&M, temos que para uma calça 100% de algodão, o preço praticado é de <b>US&#36; 39,99</b>, convertendo para reais usando a cotação de <b>R&#36; 5,15</b>, o preço final é de <b>R&#36; 205,94</b>."
   ]
  },
  {
   "cell_type": "code",
   "execution_count": 13,
   "id": "b0d94899",
   "metadata": {
    "ExecuteTime": {
     "end_time": "2022-09-07T23:19:11.136078Z",
     "start_time": "2022-09-07T23:19:11.126295Z"
    },
    "hidden": true
   },
   "outputs": [
    {
     "data": {
      "text/plain": [
       "39.99"
      ]
     },
     "execution_count": 13,
     "metadata": {},
     "output_type": "execute_result"
    }
   ],
   "source": [
    "################################################\n",
    "# Preço mediano de calças com 100% de algodão\n",
    "################################################\n",
    "\n",
    "data_med = data_hm.loc[data_hm['cotton']==1, :]\n",
    "np.median(data_med['product_price'])"
   ]
  },
  {
   "cell_type": "markdown",
   "id": "fd9b3c3c",
   "metadata": {
    "hidden": true
   },
   "source": [
    "Com o objetivo de seguir o mercado americano, com os preços dos players, o valor inicial será de <b>R&#36; 189,99</b>, o que em dólar seria de <b>US&#36; 36,89</b>."
   ]
  },
  {
   "cell_type": "markdown",
   "id": "02a982a1",
   "metadata": {
    "heading_collapsed": true,
    "hidden": true
   },
   "source": [
    "### 7.5.3 Faturamento bruto"
   ]
  },
  {
   "cell_type": "markdown",
   "id": "81e844d6",
   "metadata": {
    "hidden": true
   },
   "source": [
    "Considerando a situação de produção mensal de 2520 calças, sendo vendidas cada uma por <b>R&#36; 189,99</b>, o faturamento da empresa será de <b>R&#36; 478.774,80</b> no mês, considerando o ano o valor acumulado seria de <b>R&#36; 5.745.297,60</b>. A quantidade de impostos que iria incidir seria de <b>19%</b>."
   ]
  },
  {
   "cell_type": "markdown",
   "id": "34e8f241",
   "metadata": {
    "heading_collapsed": true
   },
   "source": [
    "# 8 - Conclusion and Next Steps"
   ]
  },
  {
   "cell_type": "markdown",
   "id": "070009be",
   "metadata": {
    "hidden": true
   },
   "source": [
    "Dessa forma o preço praticado será de <b>US&#36; 36,89</b>. Com um investimento inicial de <b>US&#36; 12.746,10</b>.\n",
    "\n",
    "<b>OBS.:</b> É válido ressaltar que todos os valores aqui abordados, além de terem sido considerados como preços de varejo, os valores analisados refletem a realidade do mercado brasileiro, enquanto toda a extração de dados foi realizada com um player americano. Tendo em vista isso, é proposto alguns passos para que haja uma melhor acurácia nas estimativas de preços:\n",
    "\n",
    "- Analisar períodos maiores para identificar sazonalidades e comportamentos do mercado de calças;\n",
    "- Buscas outros players para extração de dados;\n",
    "- Construção de um mapa com a localização dos players;\n",
    "- Extrair dados de composição das roupas para avaliar a venda de produtos mais variados;\n",
    "- A partir dos dados \"históricos\", criar um algoritmo de previsão de preços;\n",
    "- Analisar os preços praticados no mercado americano para energia, mão-de-obra e matéria-prima, para que haja uma estimativa de preço mais condizente com a realidade."
   ]
  }
 ],
 "metadata": {
  "kernelspec": {
   "display_name": "Python 3 (ipykernel)",
   "language": "python",
   "name": "python3"
  },
  "language_info": {
   "codemirror_mode": {
    "name": "ipython",
    "version": 3
   },
   "file_extension": ".py",
   "mimetype": "text/x-python",
   "name": "python",
   "nbconvert_exporter": "python",
   "pygments_lexer": "ipython3",
   "version": "3.9.12"
  },
  "latex_envs": {
   "LaTeX_envs_menu_present": true,
   "autoclose": false,
   "autocomplete": true,
   "bibliofile": "biblio.bib",
   "cite_by": "apalike",
   "current_citInitial": 1,
   "eqLabelWithNumbers": true,
   "eqNumInitial": 1,
   "hotkeys": {
    "equation": "Ctrl-E",
    "itemize": "Ctrl-I"
   },
   "labels_anchors": false,
   "latex_user_defs": false,
   "report_style_numbering": false,
   "user_envs_cfg": false
  }
 },
 "nbformat": 4,
 "nbformat_minor": 5
}
