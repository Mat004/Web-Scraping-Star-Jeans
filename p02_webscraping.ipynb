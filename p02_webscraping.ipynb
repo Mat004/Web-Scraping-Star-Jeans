{
 "cells": [
  {
   "cell_type": "markdown",
   "id": "4f4ee630",
   "metadata": {
    "heading_collapsed": true
   },
   "source": [
    "# 1 - Imports"
   ]
  },
  {
   "cell_type": "code",
   "execution_count": 1,
   "id": "e3c58d71",
   "metadata": {
    "ExecuteTime": {
     "end_time": "2022-05-28T18:37:12.661215Z",
     "start_time": "2022-05-28T18:37:10.560708Z"
    },
    "hidden": true
   },
   "outputs": [],
   "source": [
    "from bs4 import BeautifulSoup as bts\n",
    "from datetime import datetime\n",
    "\n",
    "import requests\n",
    "import pandas as pd\n",
    "import numpy as np\n",
    "import re\n",
    "import seaborn as sns\n",
    "import sweetviz as sv\n",
    "import matplotlib.pyplot as plt\n",
    "\n",
    "pd.set_option('display.float_format', '{:.2f}'.format)"
   ]
  },
  {
   "cell_type": "markdown",
   "id": "1cd5457e",
   "metadata": {},
   "source": [
    "# 2 - Helper Functions"
   ]
  },
  {
   "cell_type": "markdown",
   "id": "e46ba658",
   "metadata": {
    "heading_collapsed": true
   },
   "source": [
    "## 2.1 - Data processing"
   ]
  },
  {
   "cell_type": "code",
   "execution_count": 2,
   "id": "edf6a8ec",
   "metadata": {
    "ExecuteTime": {
     "end_time": "2022-05-28T18:37:19.218882Z",
     "start_time": "2022-05-28T18:37:19.206487Z"
    },
    "code_folding": [],
    "hidden": true
   },
   "outputs": [],
   "source": [
    "def describe(data):\n",
    "    \n",
    "    num_attributes = data.select_dtypes( include=['int64', 'float64'] )\n",
    "    media = pd.DataFrame( num_attributes.apply( np.mean ) )\n",
    "    mediana = pd.DataFrame( num_attributes.apply( np.median ) )\n",
    "    std = pd.DataFrame( num_attributes.apply( np.std ) )\n",
    "\n",
    "    max_ = pd.DataFrame( num_attributes.apply( np.max ) ) \n",
    "    min_ = pd.DataFrame( num_attributes.apply( np.min ) ) \n",
    "\n",
    "    df_sc = pd.concat([max_, min_, media, mediana, std], axis=1 ).reset_index()\n",
    "    df_sc.columns = ['attributes', 'max', 'min', 'mean', 'median', 'std']\n",
    "    \n",
    "    return df_sc\n",
    "\n",
    "\n",
    "\n",
    "\n",
    "\n",
    "###################################################################\n",
    "#                     Data Processing H&M\n",
    "###################################################################\n",
    "\n",
    "def dp_hm (path):\n",
    "    \n",
    "    data = pd.read_csv(path, sep=';')\n",
    "    \n",
    "    \n",
    "    # Removendo dados duplicados\n",
    "    \n",
    "    data = data.drop_duplicates()\n",
    "    \n",
    "    \n",
    "    # Removendo dados nulos/faltantes das principais colunas\n",
    "    \n",
    "    data = data.dropna(subset=['product_id', 'product_name', 'product_price', 'product_composition', 'product_fit'])\n",
    "        \n",
    "    \n",
    "    # Removendo dados fora de contexto das principais colunas\n",
    "    \n",
    "    data = data.loc[~((data['product_fit'] == \"\"\"The model is 189cm/6'2\" and wears a size 31/32\"\"\") |\n",
    "                     (data['product_fit'] == \"\"\"The model is 187cm/6'2\" and wears a size 31/32\"\"\")),:]\n",
    "    \n",
    "    data = data.reset_index(drop=True)\n",
    "    \n",
    "    return data\n",
    "\n",
    "\n",
    "\n",
    "def column_hm(data):\n",
    "\n",
    "    data['product_id'] = data['product_id'].astype('int64').astype('str')\n",
    "    \n",
    "    data['data_scrapy'] = data['data_scrapy'].apply(lambda x: datetime.strptime(x, \"%d/%m/%Y %H:%M\"))\n",
    "    data['data_year'] = data['data_scrapy'].apply(lambda x: x.year)\n",
    "    data['data_month'] = data['data_scrapy'].apply(lambda x: datetime.strptime(str(x.month), '%m').strftime('%b'))\n",
    "    data['data_day_name'] = data['data_scrapy'].apply(lambda x: datetime.strptime(str(x.day), '%d').strftime('%A'))\n",
    "    data['data_day_number'] = data['data_scrapy'].apply(lambda x: x.day)\n",
    "    \n",
    "    data['product_price'] = data['product_price'].astype('float64')\n",
    "    data['product_price_new'] = data['product_price_new'].astype('float64')\n",
    "    \n",
    "    return data\n",
    "\n",
    "\n",
    "###################################################################\n",
    "#                     Data Processing Macy's\n",
    "###################################################################\n",
    "\n",
    "def dp_macys (path2):\n",
    "    \n",
    "    data = pd.read_csv(path2)\n",
    "    \n",
    "    # Removendo dados duplicados\n",
    "    \n",
    "    data = data.drop_duplicates()\n",
    "    \n",
    "        \n",
    "    # Extraindo o estilo da calça de 'product_ref'\n",
    "    \n",
    "    data['product_fit'] = data['product_ref'].apply(lambda x: 'Straight Jeans' if 'Straight' in x  else\n",
    "                                                              'Straight Jeans' if 'Regular'  in x  else\n",
    "                                                              'Bootcut Jeans'  if 'Bootcut'  in x  else\n",
    "                                                              'Relaxed Jeans'  if 'Relaxed'  in x  else\n",
    "                                                              'Skinny Jeans'   if 'Skinny'   in x  else\n",
    "                                                              'Slim Jeans'     if 'Slim'     in x  else\n",
    "                                                              'Baggy Jeans'    if 'Baggy'    in x  else\n",
    "                                                              'Athletic Jeans' if 'Athletic' in x  else \n",
    "                                                              'Modern Jeans')\n",
    "    \n",
    "    return data\n",
    "\n",
    "\n",
    "\n",
    "def column_macys(data):\n",
    "\n",
    "    data['product_id'] = data['product_id'].astype('str')\n",
    "    \n",
    "    data['data_scrapy'] = data['data_scrapy'].apply(lambda x: datetime.strptime(x, \"%Y-%m-%d %H:%M:%S\"))\n",
    "    data['data_year'] = data['data_scrapy'].apply(lambda x: x.year)\n",
    "    data['data_month'] = data['data_scrapy'].apply(lambda x: datetime.strptime(str(x.month), '%m').strftime('%b'))\n",
    "    data['data_day_name'] = data['data_scrapy'].apply(lambda x: datetime.strptime(str(x.day), '%d').strftime('%A'))\n",
    "    data['data_day_number'] = data['data_scrapy'].apply(lambda x: x.day)\n",
    "    \n",
    "    data['product_price'] = data['product_price'].astype('float64')\n",
    "    data['product_sale'] = data['product_sale'].astype('float64')\n",
    "    \n",
    "    return data"
   ]
  },
  {
   "cell_type": "markdown",
   "id": "adad356d",
   "metadata": {
    "heading_collapsed": true
   },
   "source": [
    "## 2.2 - Regular expression"
   ]
  },
  {
   "cell_type": "code",
   "execution_count": 3,
   "id": "b45ddf81",
   "metadata": {
    "ExecuteTime": {
     "end_time": "2022-05-28T18:37:20.771437Z",
     "start_time": "2022-05-28T18:37:20.736515Z"
    },
    "code_folding": [],
    "hidden": true
   },
   "outputs": [],
   "source": [
    "###################################################################\n",
    "#                         Regex H&M\n",
    "###################################################################\n",
    "\n",
    "def regex_hm(data):\n",
    "    \n",
    "    # Extraindo informações da coluna 'product_composition'\n",
    "    \n",
    "    y = []\n",
    "    \n",
    "    regex = 'Shell:\\s(.+%)[A-Z]|Shell:\\s(.+%)'\n",
    "    regex2 = 'Composition([Cotton].+%)[A-Z]|%([Cotton].+%)'\n",
    "    regex3 = 'Composition([Cotton].+%)|%([Cotton].+%)'\n",
    "        \n",
    "    for i in range(len(data)):\n",
    "        \n",
    "        if \"Shell\" in data.loc[i, 'product_composition']:\n",
    "            if re.search(regex, data.loc[i, 'product_composition']).group(2) == None:\n",
    "                y.append(re.search(regex, data.loc[i, 'product_composition']).group(1))\n",
    "\n",
    "            else:\n",
    "                y.append(re.search(regex, data.loc[i, 'product_composition']).group(2))\n",
    "\n",
    "        elif \"Pocket\" in data.loc[i, 'product_composition']:\n",
    "            if re.search(regex2, data.loc[i, 'product_composition']).group(2) == None:\n",
    "                y.append(re.search(regex2, data.loc[i, 'product_composition']).group(1))\n",
    "\n",
    "            else:\n",
    "                y.append(re.search(regex2, data.loc[i, 'product_composition']).group(2))\n",
    "        \n",
    "        elif \"Lining\" in data.loc[i, 'product_composition']:\n",
    "            if re.search(regex2, data.loc[i, 'product_composition']).group(2) == None:\n",
    "                y.append(re.search(regex2, data.loc[i, 'product_composition']).group(1))\n",
    "\n",
    "            else:\n",
    "                y.append(re.search(regex2, data.loc[i, 'product_composition']).group(2))\n",
    "                \n",
    "        else:\n",
    "            if re.search(regex3, data.loc[i, 'product_composition']).group(2) == None:\n",
    "                y.append(re.search(regex3, data.loc[i, 'product_composition']).group(1))\n",
    "\n",
    "            else:\n",
    "                y.append(re.search(regex3, data.loc[i, 'product_composition']).group(2))\n",
    "        \n",
    "    data1 = pd.DataFrame([y]).T\n",
    "    data1.columns = ['product_composition']\n",
    "    data1 = data1['product_composition'].str.split(',', expand=True)\n",
    "    \n",
    "    data_ref = pd.DataFrame(index=np.arange(len(data)) ,columns=['cotton', 'spandex', 'polyester', 'elastomultiester'])\n",
    "    \n",
    "    df_cotton = data1[0]\n",
    "    df_cotton.name = 'cotton'\n",
    "    data_ref = pd.concat([data_ref, df_cotton], axis=1)\n",
    "    data_ref = data_ref.iloc[:, ~data_ref.columns.duplicated(keep='last')]\n",
    "    \n",
    "    \n",
    "    df_spandex = data1.loc[data1[1].str.contains('Spandex', na=True),1]\n",
    "    df_spandex.name = 'spandex'\n",
    "    df_spandex = df_spandex.combine_first(data1[2])\n",
    "    data_ref = pd.concat([data_ref, df_spandex], axis=1)\n",
    "    data_ref = data_ref.iloc[:, ~data_ref.columns.duplicated(keep='last')] \n",
    "    data_ref['spandex'] = data_ref['spandex'].fillna('Spandex 0%')\n",
    "\n",
    "    \n",
    "    df_polyester = data1.loc[data1[1].str.contains('Polyester', na=True),1]\n",
    "    df_polyester.name = 'polyester'\n",
    "    data_ref = pd.concat([data_ref, df_polyester], axis=1)\n",
    "    data_ref = data_ref.iloc[:, ~data_ref.columns.duplicated(keep='last')] \n",
    "    data_ref['polyester'] = data_ref['polyester'].fillna('Polyester 0%')\n",
    "\n",
    "    \n",
    "    df_elasto = data1.loc[data1[1].str.contains('Elastomultiester', na=True), 1]\n",
    "    df_elasto.name = 'elastomultiester'\n",
    "\n",
    "    data_ref = pd.concat([data_ref, df_elasto], axis=1)\n",
    "    data_ref = data_ref.iloc[:, ~data_ref.columns.duplicated(keep='last')] \n",
    "    data_ref['elastomultiester'] = data_ref['elastomultiester'].fillna('Elastomultiester 0%')\n",
    "    \n",
    "    \n",
    "    data = pd.concat([data, data_ref], axis=1)\n",
    "\n",
    "    data['cotton'] = data['cotton'].apply(lambda x: int(re.search('\\d+', x).group(0))/100)\n",
    "    data['spandex'] = data['spandex'].apply(lambda x: int(re.search('\\d+', x).group(0))/100)\n",
    "    data['polyester'] = data['polyester'].apply(lambda x: int(re.search('\\d+', x).group(0))/100)\n",
    "    data['elastomultiester'] = data['elastomultiester'].apply(lambda x: int(re.search('\\d+', x).group(0))/100)\n",
    "\n",
    "    \n",
    "    # Extraindo o preço das colunas 'product_price' e 'product_price_new'\n",
    "    \n",
    "    data['product_price'] = data['product_price'].apply(lambda x: re.search('\\w.+', x).group(0))\n",
    "    data['product_price_new'] = data['product_price_new'].apply(lambda x: re.search('\\w.+', x).group(0) if pd.notnull(x) else x)\n",
    "    data['product_price_new'] = data['product_price_new'].fillna(0)\n",
    "    \n",
    "    return data\n",
    "\n",
    "\n",
    "\n",
    "\n",
    "###################################################################\n",
    "#                         Regex Macy's\n",
    "###################################################################\n",
    "\n",
    "def regex_macys(data):\n",
    "    \n",
    "    # Extraindo os preços de venda e de promoção de 'product_price'\n",
    "    \n",
    "    regex = '.(\\d+\\.\\d+)'\n",
    "    regex2 = 'Sale..(\\d+\\.\\d+)'\n",
    "    \n",
    "    \n",
    "    data['product_sale'] = data['product_price'].apply(lambda x: re.search(regex2, x).group(1) if \"Sale\" in x else 0)\n",
    "    data['product_price'] = data['product_price'].apply(lambda x: re.search(regex, x).group(1))\n",
    "    \n",
    "    data['product_sale'] = data['product_sale'].fillna(0)\n",
    "    \n",
    "    \n",
    "    return data\n"
   ]
  },
  {
   "cell_type": "markdown",
   "id": "f658b030",
   "metadata": {},
   "source": [
    "## 2.3 - Plotting"
   ]
  },
  {
   "cell_type": "code",
   "execution_count": 4,
   "id": "8e88b0b7",
   "metadata": {
    "ExecuteTime": {
     "end_time": "2022-05-28T18:37:22.223825Z",
     "start_time": "2022-05-28T18:37:22.219425Z"
    }
   },
   "outputs": [],
   "source": [
    "def data_hist(data, x):\n",
    "    \n",
    "    sns.set_theme()\n",
    "    fig, ax = plt.subplots(figsize=(8,6))\n",
    "    sns.histplot(data=data, x=x, ax=ax)\n",
    "    \n",
    "    return None\n"
   ]
  },
  {
   "cell_type": "code",
   "execution_count": null,
   "id": "20d00a14",
   "metadata": {},
   "outputs": [],
   "source": []
  },
  {
   "cell_type": "code",
   "execution_count": null,
   "id": "89f800fa",
   "metadata": {},
   "outputs": [],
   "source": []
  },
  {
   "cell_type": "markdown",
   "id": "a0db0e1f",
   "metadata": {
    "heading_collapsed": true
   },
   "source": [
    "# 3 - Web Scraping"
   ]
  },
  {
   "cell_type": "markdown",
   "id": "5c85db99",
   "metadata": {
    "hidden": true
   },
   "source": [
    "Todas as extrações foram realizadas durante o mesmo período de doze dias."
   ]
  },
  {
   "cell_type": "markdown",
   "id": "53ace2c0",
   "metadata": {
    "heading_collapsed": true,
    "hidden": true
   },
   "source": [
    "## 3.1 - Web scraping H&M"
   ]
  },
  {
   "cell_type": "markdown",
   "id": "2fb7304e",
   "metadata": {
    "code_folding": [],
    "hidden": true
   },
   "source": [
    "A extração dos dados do site da H&M foi realizado com a biblioteca Selenium, sendo executado na IDE PyCharm. O arquivo \".py\" pode ser encontrado no repositório."
   ]
  },
  {
   "cell_type": "markdown",
   "id": "57c748aa",
   "metadata": {
    "heading_collapsed": true,
    "hidden": true
   },
   "source": [
    "## 3.2 - Web scraping Macy's"
   ]
  },
  {
   "cell_type": "code",
   "execution_count": null,
   "id": "c3fb46d3",
   "metadata": {
    "hidden": true
   },
   "outputs": [],
   "source": [
    "url = 'https://www.macys.com/shop/mens-clothing/mens-jeans/Productsperpage/120?id=11221'\n",
    "\n",
    "headers = {'User-Agent':'Mozilla/5.0 (X11; Linux x86_64) AppleWebKit/537.36 (KHTML, like Gecko) Chrome/97.0.4692.99 Safari/537.36'}\n",
    "\n",
    "page = requests.get(url, headers=headers)\n",
    "\n",
    "soup = bts(page.text, 'html.parser')\n",
    "\n",
    "# Passo 1: Items da primeira página\n",
    "\n",
    "    ##################################\n",
    "    # Product id\n",
    "    ##################################\n",
    "\n",
    "    vitrine = soup.find('ul', class_='items grid-x small-up-2 medium-up-3 large-up-3')\n",
    "    vitrine_items = vitrine.find_all('div', class_='productThumbnail redesignEnabled')\n",
    "    product_id = [i.get('id') for i in vitrine_items]\n",
    "\n",
    "\n",
    "    ##################################\n",
    "    # Product name\n",
    "    ##################################\n",
    "\n",
    "    vitrine_name = vitrine.find_all('div', class_='productBrand')\n",
    "    product_name = [i.get_text().strip() for i in vitrine_name]\n",
    "\n",
    "\n",
    "    ##################################\n",
    "    # Product reference\n",
    "    ##################################\n",
    "\n",
    "    vitrine_ref = vitrine.find_all('a', class_='productDescLink')\n",
    "    product_ref = []\n",
    "\n",
    "    for i in range(0, len(vitrine_ref), 2):\n",
    "\n",
    "        product_ref.append(vitrine_ref[i].get('title'))\n",
    "\n",
    "\n",
    "    ##################################\n",
    "    # Product price\n",
    "    ##################################\n",
    "\n",
    "    vitrine_price = vitrine.find_all('div', class_='prices')\n",
    "    product_price = [i.get_text().strip() for i in vitrine_price]\n",
    "\n",
    "\n",
    "    \n",
    "# Passo 2: Extraindo os dados de todas as páginas\n",
    "\n",
    "    ##################################\n",
    "    # Pagination\n",
    "    ##################################\n",
    "\n",
    "    j = soup.find('div', class_='cell small-12')\n",
    "    k = j.find_all('option')\n",
    "\n",
    "\n",
    "    for i in range(2, (len(k)+1)):\n",
    "\n",
    "        url2 = 'https://www.macys.com/shop/mens-clothing/mens-jeans/Pageindex,Productsperpage/' + str(i) + ',120?id=11221'\n",
    "\n",
    "        page2 = requests.get(url2, headers=headers)\n",
    "\n",
    "        soup2 = bts(page2.text, 'html.parser')\n",
    "\n",
    "        ##################################\n",
    "        # Product id\n",
    "        ##################################\n",
    "\n",
    "        vitrine2 = soup2.find('ul', class_='items grid-x small-up-2 medium-up-3 large-up-3')\n",
    "        vitrine_items2 = vitrine2.find_all('div', class_='productThumbnail redesignEnabled')\n",
    "        product_id2 = [i.get('id') for i in vitrine_items2]\n",
    "\n",
    "        product_id = [*product_id, *product_id2]\n",
    "\n",
    "\n",
    "        ##################################\n",
    "        # Product name\n",
    "        ##################################\n",
    "\n",
    "        vitrine_name2 = vitrine2.find_all('div', class_='productBrand')\n",
    "        product_name2 = [i.get_text().strip() for i in vitrine_name2]\n",
    "\n",
    "        product_name = [*product_name, *product_name2]\n",
    "\n",
    "\n",
    "        ##################################\n",
    "        # Product reference\n",
    "        ##################################\n",
    "\n",
    "        vitrine_ref2 = vitrine2.find_all('a', class_='productDescLink')\n",
    "        product_ref2 = []\n",
    "\n",
    "        for j in range(0, len(vitrine_ref2), 2):\n",
    "\n",
    "            product_ref2.append(vitrine_ref2[j].get('title'))\n",
    "\n",
    "        product_ref = [*product_ref, *product_ref2]\n",
    "\n",
    "        ##################################\n",
    "        # Product price\n",
    "        ##################################\n",
    "\n",
    "        vitrine_price2 = vitrine2.find_all('div', class_='prices')\n",
    "        product_price2 = [i.get_text().strip() for i in vitrine_price2]\n",
    "\n",
    "        product_price = [*product_price, *product_price2]\n",
    "\n",
    "    \n",
    "\n",
    "# Passo 3: Salvando os dados\n",
    "\n",
    "data1 = pd.DataFrame([product_id, product_name, product_ref, product_price]).T\n",
    "data1.columns = ['product_id', 'product_name', 'product_ref', 'product_price']\n",
    "data1['data_scrapy'] = datetime.now().strftime('%Y-%m-%d %H:%M:%S')\n",
    "\n",
    "data = pd.read_csv('data.csv')\n",
    "\n",
    "data_macys = pd.concat([data1, data], axis=0, ignore_index=True)\n",
    "\n",
    "data_macys.to_csv('data.csv', index=False)"
   ]
  },
  {
   "cell_type": "markdown",
   "id": "4394789d",
   "metadata": {},
   "source": [
    "# 4 - Data Processing"
   ]
  },
  {
   "cell_type": "markdown",
   "id": "b88ee2db",
   "metadata": {
    "heading_collapsed": true
   },
   "source": [
    "## 4.1 - Processing H&M"
   ]
  },
  {
   "cell_type": "markdown",
   "id": "32ac8618",
   "metadata": {
    "heading_collapsed": true,
    "hidden": true
   },
   "source": [
    "### 4.1.1 - Dataframe"
   ]
  },
  {
   "cell_type": "code",
   "execution_count": 5,
   "id": "084b2498",
   "metadata": {
    "ExecuteTime": {
     "end_time": "2022-05-28T18:37:33.856727Z",
     "start_time": "2022-05-28T18:37:33.560642Z"
    },
    "hidden": true
   },
   "outputs": [
    {
     "data": {
      "text/html": [
       "<div>\n",
       "<style scoped>\n",
       "    .dataframe tbody tr th:only-of-type {\n",
       "        vertical-align: middle;\n",
       "    }\n",
       "\n",
       "    .dataframe tbody tr th {\n",
       "        vertical-align: top;\n",
       "    }\n",
       "\n",
       "    .dataframe thead th {\n",
       "        text-align: right;\n",
       "    }\n",
       "</style>\n",
       "<table border=\"1\" class=\"dataframe\">\n",
       "  <thead>\n",
       "    <tr style=\"text-align: right;\">\n",
       "      <th></th>\n",
       "      <th>product_id</th>\n",
       "      <th>product_name</th>\n",
       "      <th>product_price</th>\n",
       "      <th>product_price_new</th>\n",
       "      <th>product_color</th>\n",
       "      <th>product_fit</th>\n",
       "      <th>product_size</th>\n",
       "      <th>product_materials</th>\n",
       "      <th>product_composition</th>\n",
       "      <th>data_scrapy</th>\n",
       "      <th>cotton</th>\n",
       "      <th>spandex</th>\n",
       "      <th>polyester</th>\n",
       "      <th>elastomultiester</th>\n",
       "      <th>data_year</th>\n",
       "      <th>data_month</th>\n",
       "      <th>data_day_name</th>\n",
       "      <th>data_day_number</th>\n",
       "    </tr>\n",
       "  </thead>\n",
       "  <tbody>\n",
       "    <tr>\n",
       "      <th>0</th>\n",
       "      <td>1024256001</td>\n",
       "      <td>Slim Jeans</td>\n",
       "      <td>29.99</td>\n",
       "      <td>0.00</td>\n",
       "      <td>Black</td>\n",
       "      <td>Slim fit</td>\n",
       "      <td>The model is 185cm/6'1\" and wears a size 31/32</td>\n",
       "      <td>Lining: Recycled cotton 20%</td>\n",
       "      <td>CompositionPocket lining: Polyester 65%, Cotto...</td>\n",
       "      <td>2022-04-12 13:40:00</td>\n",
       "      <td>0.99</td>\n",
       "      <td>0.01</td>\n",
       "      <td>0.00</td>\n",
       "      <td>0.00</td>\n",
       "      <td>2022</td>\n",
       "      <td>Apr</td>\n",
       "      <td>Friday</td>\n",
       "      <td>12</td>\n",
       "    </tr>\n",
       "    <tr>\n",
       "      <th>1</th>\n",
       "      <td>1024256002</td>\n",
       "      <td>Slim Jeans</td>\n",
       "      <td>29.99</td>\n",
       "      <td>0.00</td>\n",
       "      <td>Light denim blue</td>\n",
       "      <td>Slim fit</td>\n",
       "      <td>The model is 189cm/6'2\" and wears a size 31/32</td>\n",
       "      <td>Lining: Recycled polyester 65%, Recycled cotto...</td>\n",
       "      <td>CompositionShell: Cotton 99%, Spandex 1%Pocket...</td>\n",
       "      <td>2022-04-12 13:40:00</td>\n",
       "      <td>0.99</td>\n",
       "      <td>0.01</td>\n",
       "      <td>0.00</td>\n",
       "      <td>0.00</td>\n",
       "      <td>2022</td>\n",
       "      <td>Apr</td>\n",
       "      <td>Friday</td>\n",
       "      <td>12</td>\n",
       "    </tr>\n",
       "    <tr>\n",
       "      <th>2</th>\n",
       "      <td>1024256003</td>\n",
       "      <td>Slim Jeans</td>\n",
       "      <td>29.99</td>\n",
       "      <td>0.00</td>\n",
       "      <td>Light denim blue</td>\n",
       "      <td>Slim fit</td>\n",
       "      <td>The model is 189cm/6'2\" and wears a size 31/32</td>\n",
       "      <td>Shell: Recycled cotton 20%</td>\n",
       "      <td>CompositionShell: Cotton 99%, Spandex 1%Pocket...</td>\n",
       "      <td>2022-04-12 13:40:00</td>\n",
       "      <td>0.99</td>\n",
       "      <td>0.01</td>\n",
       "      <td>0.00</td>\n",
       "      <td>0.00</td>\n",
       "      <td>2022</td>\n",
       "      <td>Apr</td>\n",
       "      <td>Friday</td>\n",
       "      <td>12</td>\n",
       "    </tr>\n",
       "    <tr>\n",
       "      <th>3</th>\n",
       "      <td>1024256004</td>\n",
       "      <td>Slim Jeans</td>\n",
       "      <td>29.99</td>\n",
       "      <td>0.00</td>\n",
       "      <td>Denim blue</td>\n",
       "      <td>Slim fit</td>\n",
       "      <td>NaN</td>\n",
       "      <td>Lining: Recycled polyester 65%, Recycled cotto...</td>\n",
       "      <td>CompositionShell: Cotton 99%, Spandex 1%Pocket...</td>\n",
       "      <td>2022-04-12 13:40:00</td>\n",
       "      <td>0.99</td>\n",
       "      <td>0.01</td>\n",
       "      <td>0.00</td>\n",
       "      <td>0.00</td>\n",
       "      <td>2022</td>\n",
       "      <td>Apr</td>\n",
       "      <td>Friday</td>\n",
       "      <td>12</td>\n",
       "    </tr>\n",
       "    <tr>\n",
       "      <th>4</th>\n",
       "      <td>1024256005</td>\n",
       "      <td>Slim Jeans</td>\n",
       "      <td>29.99</td>\n",
       "      <td>0.00</td>\n",
       "      <td>Dark blue</td>\n",
       "      <td>Slim fit</td>\n",
       "      <td>The model is 180cm/5'11\" and wears a size 31/32</td>\n",
       "      <td>Shell: Recycled cotton 20%</td>\n",
       "      <td>CompositionPocket lining: Polyester 65%, Cotto...</td>\n",
       "      <td>2022-04-12 13:40:00</td>\n",
       "      <td>0.99</td>\n",
       "      <td>0.01</td>\n",
       "      <td>0.00</td>\n",
       "      <td>0.00</td>\n",
       "      <td>2022</td>\n",
       "      <td>Apr</td>\n",
       "      <td>Friday</td>\n",
       "      <td>12</td>\n",
       "    </tr>\n",
       "  </tbody>\n",
       "</table>\n",
       "</div>"
      ],
      "text/plain": [
       "   product_id product_name  product_price  product_price_new  \\\n",
       "0  1024256001   Slim Jeans          29.99               0.00   \n",
       "1  1024256002   Slim Jeans          29.99               0.00   \n",
       "2  1024256003   Slim Jeans          29.99               0.00   \n",
       "3  1024256004   Slim Jeans          29.99               0.00   \n",
       "4  1024256005   Slim Jeans          29.99               0.00   \n",
       "\n",
       "      product_color product_fit  \\\n",
       "0             Black    Slim fit   \n",
       "1  Light denim blue    Slim fit   \n",
       "2  Light denim blue    Slim fit   \n",
       "3        Denim blue    Slim fit   \n",
       "4         Dark blue    Slim fit   \n",
       "\n",
       "                                      product_size  \\\n",
       "0   The model is 185cm/6'1\" and wears a size 31/32   \n",
       "1   The model is 189cm/6'2\" and wears a size 31/32   \n",
       "2   The model is 189cm/6'2\" and wears a size 31/32   \n",
       "3                                              NaN   \n",
       "4  The model is 180cm/5'11\" and wears a size 31/32   \n",
       "\n",
       "                                   product_materials  \\\n",
       "0                        Lining: Recycled cotton 20%   \n",
       "1  Lining: Recycled polyester 65%, Recycled cotto...   \n",
       "2                         Shell: Recycled cotton 20%   \n",
       "3  Lining: Recycled polyester 65%, Recycled cotto...   \n",
       "4                         Shell: Recycled cotton 20%   \n",
       "\n",
       "                                 product_composition         data_scrapy  \\\n",
       "0  CompositionPocket lining: Polyester 65%, Cotto... 2022-04-12 13:40:00   \n",
       "1  CompositionShell: Cotton 99%, Spandex 1%Pocket... 2022-04-12 13:40:00   \n",
       "2  CompositionShell: Cotton 99%, Spandex 1%Pocket... 2022-04-12 13:40:00   \n",
       "3  CompositionShell: Cotton 99%, Spandex 1%Pocket... 2022-04-12 13:40:00   \n",
       "4  CompositionPocket lining: Polyester 65%, Cotto... 2022-04-12 13:40:00   \n",
       "\n",
       "   cotton  spandex  polyester  elastomultiester  data_year data_month  \\\n",
       "0    0.99     0.01       0.00              0.00       2022        Apr   \n",
       "1    0.99     0.01       0.00              0.00       2022        Apr   \n",
       "2    0.99     0.01       0.00              0.00       2022        Apr   \n",
       "3    0.99     0.01       0.00              0.00       2022        Apr   \n",
       "4    0.99     0.01       0.00              0.00       2022        Apr   \n",
       "\n",
       "  data_day_name  data_day_number  \n",
       "0        Friday               12  \n",
       "1        Friday               12  \n",
       "2        Friday               12  \n",
       "3        Friday               12  \n",
       "4        Friday               12  "
      ]
     },
     "execution_count": 5,
     "metadata": {},
     "output_type": "execute_result"
    }
   ],
   "source": [
    "# Passo 1: Carregando os dados\n",
    "data_hm = dp_hm('data_h&m.csv')\n",
    "\n",
    "\n",
    "# Passo 2: Aplicando regex para tratar os dados\n",
    "data_hm = regex_hm(data_hm)\n",
    "\n",
    "\n",
    "# Passo 3: Modificando o tipo dos dados\n",
    "data_hm = column_hm(data_hm)\n",
    "\n",
    "data_hm.head()"
   ]
  },
  {
   "cell_type": "markdown",
   "id": "a266650d",
   "metadata": {
    "heading_collapsed": true,
    "hidden": true
   },
   "source": [
    "### 4.1.2 - Columns"
   ]
  },
  {
   "cell_type": "code",
   "execution_count": 58,
   "id": "ddaed0b6",
   "metadata": {
    "ExecuteTime": {
     "end_time": "2022-05-03T23:53:22.131682Z",
     "start_time": "2022-05-03T23:53:22.126770Z"
    },
    "hidden": true
   },
   "outputs": [
    {
     "data": {
      "text/plain": [
       "Index(['product_id', 'product_name', 'product_price', 'product_price_new',\n",
       "       'product_color', 'product_fit', 'product_size', 'product_materials',\n",
       "       'product_composition', 'data_scrapy', 'cotton', 'spandex', 'polyester',\n",
       "       'elastomultiester', 'data_year', 'data_month', 'data_day_name',\n",
       "       'data_day_number'],\n",
       "      dtype='object')"
      ]
     },
     "execution_count": 58,
     "metadata": {},
     "output_type": "execute_result"
    }
   ],
   "source": [
    "data_hm.columns"
   ]
  },
  {
   "cell_type": "markdown",
   "id": "961a4cc9",
   "metadata": {
    "hidden": true
   },
   "source": [
    "Descrição:\n",
    "\n",
    "- product_id: Código de cada item para venda\n",
    "- product_name: Nome do produto\n",
    "- product_price: Preço do produto\n",
    "- product_price_new: Preço de promoção do produto \n",
    "- product_color: Cor da calça\n",
    "- product_fit: Estilo da calça jeans\n",
    "- product_size: Tamanho do produto\n",
    "- product_materials: Tipo de material que compõe o produto\n",
    "- product_composition: Composição do produto\n",
    "- data_scrapy: Data da extração de dados\n",
    "- cotton: Porcentagem de algodão no produto\n",
    "- spandex: Porcentagem de spandex no produto\n",
    "- polyester: Porcentagem de polyester no produto\n",
    "- elastomultiester: Porcentagem de elastomultiester no produto\n",
    "- data_year: Ano da extração de dados\n",
    "- data_month: Mês da extração de dados\n",
    "- data_day_name: Dia da semana em que foi extraido os dados\n",
    "- data_day_number: Dia da extração extração de dados"
   ]
  },
  {
   "cell_type": "markdown",
   "id": "ce6d6b66",
   "metadata": {
    "heading_collapsed": true,
    "hidden": true
   },
   "source": [
    "### 4.1.3 - Data dimension"
   ]
  },
  {
   "cell_type": "code",
   "execution_count": 59,
   "id": "11d80e81",
   "metadata": {
    "ExecuteTime": {
     "end_time": "2022-05-03T23:54:14.485760Z",
     "start_time": "2022-05-03T23:54:14.482767Z"
    },
    "hidden": true
   },
   "outputs": [
    {
     "name": "stdout",
     "output_type": "stream",
     "text": [
      "A quantidade de linhas do dataframe é: 2380\n",
      "A quantidade de colunas do dataframe é: 18\n"
     ]
    }
   ],
   "source": [
    "print(f'A quantidade de linhas do dataframe é: {data_hm.shape[0]}')\n",
    "print(f'A quantidade de colunas do dataframe é: {data_hm.shape[1]}')"
   ]
  },
  {
   "cell_type": "markdown",
   "id": "9afaa787",
   "metadata": {
    "heading_collapsed": true,
    "hidden": true
   },
   "source": [
    "### 4.1.4 - Data types"
   ]
  },
  {
   "cell_type": "code",
   "execution_count": 20,
   "id": "bb89d0eb",
   "metadata": {
    "ExecuteTime": {
     "end_time": "2022-05-15T20:21:52.129608Z",
     "start_time": "2022-05-15T20:21:52.122570Z"
    },
    "hidden": true
   },
   "outputs": [
    {
     "data": {
      "text/plain": [
       "product_id                     object\n",
       "product_name                   object\n",
       "product_price                 float64\n",
       "product_price_new             float64\n",
       "product_color                  object\n",
       "product_fit                    object\n",
       "product_size                   object\n",
       "product_materials              object\n",
       "product_composition            object\n",
       "data_scrapy            datetime64[ns]\n",
       "cotton                        float64\n",
       "spandex                       float64\n",
       "polyester                     float64\n",
       "elastomultiester              float64\n",
       "data_year                       int64\n",
       "data_month                     object\n",
       "data_day_name                  object\n",
       "data_day_number                 int64\n",
       "dtype: object"
      ]
     },
     "execution_count": 20,
     "metadata": {},
     "output_type": "execute_result"
    }
   ],
   "source": [
    "data_hm.dtypes"
   ]
  },
  {
   "cell_type": "markdown",
   "id": "690a9643",
   "metadata": {
    "heading_collapsed": true
   },
   "source": [
    "## 4.2 - Processing Macy's"
   ]
  },
  {
   "cell_type": "markdown",
   "id": "54a2ea51",
   "metadata": {
    "heading_collapsed": true,
    "hidden": true
   },
   "source": [
    "### 4.2.1 - Dataframe"
   ]
  },
  {
   "cell_type": "code",
   "execution_count": 6,
   "id": "5a85769f",
   "metadata": {
    "ExecuteTime": {
     "end_time": "2022-05-28T18:37:38.918199Z",
     "start_time": "2022-05-28T18:37:38.638914Z"
    },
    "hidden": true
   },
   "outputs": [
    {
     "data": {
      "text/html": [
       "<div>\n",
       "<style scoped>\n",
       "    .dataframe tbody tr th:only-of-type {\n",
       "        vertical-align: middle;\n",
       "    }\n",
       "\n",
       "    .dataframe tbody tr th {\n",
       "        vertical-align: top;\n",
       "    }\n",
       "\n",
       "    .dataframe thead th {\n",
       "        text-align: right;\n",
       "    }\n",
       "</style>\n",
       "<table border=\"1\" class=\"dataframe\">\n",
       "  <thead>\n",
       "    <tr style=\"text-align: right;\">\n",
       "      <th></th>\n",
       "      <th>product_id</th>\n",
       "      <th>product_name</th>\n",
       "      <th>product_ref</th>\n",
       "      <th>product_price</th>\n",
       "      <th>data_scrapy</th>\n",
       "      <th>product_fit</th>\n",
       "      <th>product_sale</th>\n",
       "      <th>data_year</th>\n",
       "      <th>data_month</th>\n",
       "      <th>data_day_name</th>\n",
       "      <th>data_day_number</th>\n",
       "    </tr>\n",
       "  </thead>\n",
       "  <tbody>\n",
       "    <tr>\n",
       "      <th>0</th>\n",
       "      <td>1654744</td>\n",
       "      <td>Polo Ralph Lauren</td>\n",
       "      <td>Men's Hampton Relaxed Straight Jeans</td>\n",
       "      <td>98.50</td>\n",
       "      <td>2022-04-16 18:13:16</td>\n",
       "      <td>Straight Jeans</td>\n",
       "      <td>0.00</td>\n",
       "      <td>2022</td>\n",
       "      <td>Apr</td>\n",
       "      <td>Tuesday</td>\n",
       "      <td>16</td>\n",
       "    </tr>\n",
       "    <tr>\n",
       "      <th>1</th>\n",
       "      <td>1103208</td>\n",
       "      <td>Levi's</td>\n",
       "      <td>Men's 511™ Slim Fit Jeans</td>\n",
       "      <td>69.50</td>\n",
       "      <td>2022-04-16 18:13:16</td>\n",
       "      <td>Slim Jeans</td>\n",
       "      <td>59.99</td>\n",
       "      <td>2022</td>\n",
       "      <td>Apr</td>\n",
       "      <td>Tuesday</td>\n",
       "      <td>16</td>\n",
       "    </tr>\n",
       "    <tr>\n",
       "      <th>2</th>\n",
       "      <td>9617175</td>\n",
       "      <td>Levi's</td>\n",
       "      <td>Levi’s® Flex Men's 514™ Straight-Fit Jeans</td>\n",
       "      <td>69.50</td>\n",
       "      <td>2022-04-16 18:13:16</td>\n",
       "      <td>Straight Jeans</td>\n",
       "      <td>59.99</td>\n",
       "      <td>2022</td>\n",
       "      <td>Apr</td>\n",
       "      <td>Tuesday</td>\n",
       "      <td>16</td>\n",
       "    </tr>\n",
       "    <tr>\n",
       "      <th>3</th>\n",
       "      <td>6545489</td>\n",
       "      <td>Calvin Klein</td>\n",
       "      <td>Men's Slim-Fit Jeans</td>\n",
       "      <td>79.50</td>\n",
       "      <td>2022-04-16 18:13:16</td>\n",
       "      <td>Slim Jeans</td>\n",
       "      <td>0.00</td>\n",
       "      <td>2022</td>\n",
       "      <td>Apr</td>\n",
       "      <td>Tuesday</td>\n",
       "      <td>16</td>\n",
       "    </tr>\n",
       "    <tr>\n",
       "      <th>4</th>\n",
       "      <td>2834394</td>\n",
       "      <td>Levi's</td>\n",
       "      <td>Men's 502™ Taper Jeans</td>\n",
       "      <td>69.50</td>\n",
       "      <td>2022-04-16 18:13:16</td>\n",
       "      <td>Modern Jeans</td>\n",
       "      <td>59.99</td>\n",
       "      <td>2022</td>\n",
       "      <td>Apr</td>\n",
       "      <td>Tuesday</td>\n",
       "      <td>16</td>\n",
       "    </tr>\n",
       "  </tbody>\n",
       "</table>\n",
       "</div>"
      ],
      "text/plain": [
       "  product_id       product_name                                  product_ref  \\\n",
       "0    1654744  Polo Ralph Lauren         Men's Hampton Relaxed Straight Jeans   \n",
       "1    1103208             Levi's                    Men's 511™ Slim Fit Jeans   \n",
       "2    9617175             Levi's   Levi’s® Flex Men's 514™ Straight-Fit Jeans   \n",
       "3    6545489       Calvin Klein                         Men's Slim-Fit Jeans   \n",
       "4    2834394             Levi's                       Men's 502™ Taper Jeans   \n",
       "\n",
       "   product_price         data_scrapy     product_fit  product_sale  data_year  \\\n",
       "0          98.50 2022-04-16 18:13:16  Straight Jeans          0.00       2022   \n",
       "1          69.50 2022-04-16 18:13:16      Slim Jeans         59.99       2022   \n",
       "2          69.50 2022-04-16 18:13:16  Straight Jeans         59.99       2022   \n",
       "3          79.50 2022-04-16 18:13:16      Slim Jeans          0.00       2022   \n",
       "4          69.50 2022-04-16 18:13:16    Modern Jeans         59.99       2022   \n",
       "\n",
       "  data_month data_day_name  data_day_number  \n",
       "0        Apr       Tuesday               16  \n",
       "1        Apr       Tuesday               16  \n",
       "2        Apr       Tuesday               16  \n",
       "3        Apr       Tuesday               16  \n",
       "4        Apr       Tuesday               16  "
      ]
     },
     "execution_count": 6,
     "metadata": {},
     "output_type": "execute_result"
    }
   ],
   "source": [
    "# Passo 1: Carregando os dados\n",
    "\n",
    "data_macys = dp_macys('data_macys.csv')\n",
    "\n",
    "\n",
    "# Passo 2: Aplicando regex para tratar os dados\n",
    "data_macys = regex_macys(data_macys)\n",
    "\n",
    "\n",
    "# Passo 3: Modificando o tipo dos dados\n",
    "data_macys = column_macys(data_macys)\n",
    "\n",
    "data_macys.head()"
   ]
  },
  {
   "cell_type": "markdown",
   "id": "12d129d4",
   "metadata": {
    "heading_collapsed": true,
    "hidden": true
   },
   "source": [
    "### 4.2.2 - Columns"
   ]
  },
  {
   "cell_type": "code",
   "execution_count": 75,
   "id": "37e137fd",
   "metadata": {
    "ExecuteTime": {
     "end_time": "2022-05-04T00:23:47.467987Z",
     "start_time": "2022-05-04T00:23:47.464601Z"
    },
    "hidden": true
   },
   "outputs": [
    {
     "data": {
      "text/plain": [
       "Index(['product_id', 'product_name', 'product_ref', 'product_price',\n",
       "       'data_scrapy', 'product_fit', 'product_sale', 'data_year', 'data_month',\n",
       "       'data_day_name', 'data_day_number'],\n",
       "      dtype='object')"
      ]
     },
     "execution_count": 75,
     "metadata": {},
     "output_type": "execute_result"
    }
   ],
   "source": [
    "data_macys.columns"
   ]
  },
  {
   "cell_type": "markdown",
   "id": "7cc0ea20",
   "metadata": {
    "hidden": true
   },
   "source": [
    "Descrição:\n",
    "\n",
    "- product_id: Código de cada item para venda\n",
    "- product_name: Nome do produto/marca\n",
    "- product_ref: Referência do produto\n",
    "- product_price: Preço do produto\n",
    "- data_scrapy: Data da extração de dados\n",
    "- product_fit: Estilo da calça jeans\n",
    "- product_sale: Preço de promoção do produto\n",
    "- data_year: Ano da extração de dados\n",
    "- data_month: Mês da extração de dados\n",
    "- data_day_name: Dia da semana em que foi extraido os dados\n",
    "- data_day_number: Dia da extração extração de dados"
   ]
  },
  {
   "cell_type": "markdown",
   "id": "2b5b1829",
   "metadata": {
    "heading_collapsed": true,
    "hidden": true
   },
   "source": [
    "### 4.2.3 - Data dimension"
   ]
  },
  {
   "cell_type": "code",
   "execution_count": 76,
   "id": "1acdc153",
   "metadata": {
    "ExecuteTime": {
     "end_time": "2022-05-04T00:26:56.239404Z",
     "start_time": "2022-05-04T00:26:56.234971Z"
    },
    "hidden": true
   },
   "outputs": [
    {
     "name": "stdout",
     "output_type": "stream",
     "text": [
      "A quantidade de linhas do dataframe é: 8942\n",
      "A quantidade de colunas do dataframe é: 11\n"
     ]
    }
   ],
   "source": [
    "print(f'A quantidade de linhas do dataframe é: {data_macys.shape[0]}')\n",
    "print(f'A quantidade de colunas do dataframe é: {data_macys.shape[1]}')"
   ]
  },
  {
   "cell_type": "markdown",
   "id": "ac6f8678",
   "metadata": {
    "heading_collapsed": true,
    "hidden": true
   },
   "source": [
    "### 4.2.4 - Data types"
   ]
  },
  {
   "cell_type": "code",
   "execution_count": 77,
   "id": "13be8a09",
   "metadata": {
    "ExecuteTime": {
     "end_time": "2022-05-04T00:27:16.076137Z",
     "start_time": "2022-05-04T00:27:16.068717Z"
    },
    "hidden": true
   },
   "outputs": [
    {
     "data": {
      "text/plain": [
       "product_id                 object\n",
       "product_name               object\n",
       "product_ref                object\n",
       "product_price             float64\n",
       "data_scrapy        datetime64[ns]\n",
       "product_fit                object\n",
       "product_sale              float64\n",
       "data_year                   int64\n",
       "data_month                 object\n",
       "data_day_name              object\n",
       "data_day_number             int64\n",
       "dtype: object"
      ]
     },
     "execution_count": 77,
     "metadata": {},
     "output_type": "execute_result"
    }
   ],
   "source": [
    "data_macys.dtypes"
   ]
  },
  {
   "cell_type": "markdown",
   "id": "08838a28",
   "metadata": {},
   "source": [
    "# 5 - Hypotheses"
   ]
  },
  {
   "cell_type": "markdown",
   "id": "7c3ca7dc",
   "metadata": {},
   "source": [
    "- H1: O dia com mais promoções é na sexta-feira\n",
    "- H2: Os 5 modelos com maiores quantidades de calças, são as que possuem o valor em torno da mediana total\n",
    "- H3: O máximo de desconto que pode ser encontrado é de 60%\n",
    "- H4: Calças com composição de algodão acima de 90%, custam acima do preço mediano\n",
    "- H5: Items em promoção costumam ser de cor clara"
   ]
  },
  {
   "cell_type": "markdown",
   "id": "d93ac2c1",
   "metadata": {},
   "source": [
    "# 6 - EDA"
   ]
  },
  {
   "cell_type": "markdown",
   "id": "232df359",
   "metadata": {
    "heading_collapsed": true
   },
   "source": [
    "## 6.1 - Describe"
   ]
  },
  {
   "cell_type": "markdown",
   "id": "da0f6a51",
   "metadata": {
    "heading_collapsed": true,
    "hidden": true
   },
   "source": [
    "### 6.1.1 - Describe H&M"
   ]
  },
  {
   "cell_type": "code",
   "execution_count": 8,
   "id": "0da60057",
   "metadata": {
    "ExecuteTime": {
     "end_time": "2022-05-16T23:13:25.504555Z",
     "start_time": "2022-05-16T23:13:25.491318Z"
    },
    "hidden": true
   },
   "outputs": [
    {
     "data": {
      "text/html": [
       "<div>\n",
       "<style scoped>\n",
       "    .dataframe tbody tr th:only-of-type {\n",
       "        vertical-align: middle;\n",
       "    }\n",
       "\n",
       "    .dataframe tbody tr th {\n",
       "        vertical-align: top;\n",
       "    }\n",
       "\n",
       "    .dataframe thead th {\n",
       "        text-align: right;\n",
       "    }\n",
       "</style>\n",
       "<table border=\"1\" class=\"dataframe\">\n",
       "  <thead>\n",
       "    <tr style=\"text-align: right;\">\n",
       "      <th></th>\n",
       "      <th>attributes</th>\n",
       "      <th>max</th>\n",
       "      <th>min</th>\n",
       "      <th>mean</th>\n",
       "      <th>median</th>\n",
       "      <th>std</th>\n",
       "    </tr>\n",
       "  </thead>\n",
       "  <tbody>\n",
       "    <tr>\n",
       "      <th>0</th>\n",
       "      <td>product_price</td>\n",
       "      <td>119.99</td>\n",
       "      <td>11.99</td>\n",
       "      <td>44.62</td>\n",
       "      <td>39.99</td>\n",
       "      <td>25.62</td>\n",
       "    </tr>\n",
       "    <tr>\n",
       "      <th>1</th>\n",
       "      <td>product_price_new</td>\n",
       "      <td>39.99</td>\n",
       "      <td>0.00</td>\n",
       "      <td>2.82</td>\n",
       "      <td>0.00</td>\n",
       "      <td>7.96</td>\n",
       "    </tr>\n",
       "    <tr>\n",
       "      <th>2</th>\n",
       "      <td>cotton</td>\n",
       "      <td>1.00</td>\n",
       "      <td>0.77</td>\n",
       "      <td>0.97</td>\n",
       "      <td>0.99</td>\n",
       "      <td>0.06</td>\n",
       "    </tr>\n",
       "    <tr>\n",
       "      <th>3</th>\n",
       "      <td>spandex</td>\n",
       "      <td>0.02</td>\n",
       "      <td>0.00</td>\n",
       "      <td>0.01</td>\n",
       "      <td>0.01</td>\n",
       "      <td>0.01</td>\n",
       "    </tr>\n",
       "    <tr>\n",
       "      <th>4</th>\n",
       "      <td>polyester</td>\n",
       "      <td>0.21</td>\n",
       "      <td>0.00</td>\n",
       "      <td>0.02</td>\n",
       "      <td>0.00</td>\n",
       "      <td>0.06</td>\n",
       "    </tr>\n",
       "    <tr>\n",
       "      <th>5</th>\n",
       "      <td>elastomultiester</td>\n",
       "      <td>0.09</td>\n",
       "      <td>0.00</td>\n",
       "      <td>0.00</td>\n",
       "      <td>0.00</td>\n",
       "      <td>0.02</td>\n",
       "    </tr>\n",
       "    <tr>\n",
       "      <th>6</th>\n",
       "      <td>data_year</td>\n",
       "      <td>2022.00</td>\n",
       "      <td>2022.00</td>\n",
       "      <td>2022.00</td>\n",
       "      <td>2022.00</td>\n",
       "      <td>0.00</td>\n",
       "    </tr>\n",
       "    <tr>\n",
       "      <th>7</th>\n",
       "      <td>data_day_number</td>\n",
       "      <td>13.00</td>\n",
       "      <td>2.00</td>\n",
       "      <td>8.38</td>\n",
       "      <td>9.00</td>\n",
       "      <td>3.07</td>\n",
       "    </tr>\n",
       "  </tbody>\n",
       "</table>\n",
       "</div>"
      ],
      "text/plain": [
       "          attributes     max     min    mean  median   std\n",
       "0      product_price  119.99   11.99   44.62   39.99 25.62\n",
       "1  product_price_new   39.99    0.00    2.82    0.00  7.96\n",
       "2             cotton    1.00    0.77    0.97    0.99  0.06\n",
       "3            spandex    0.02    0.00    0.01    0.01  0.01\n",
       "4          polyester    0.21    0.00    0.02    0.00  0.06\n",
       "5   elastomultiester    0.09    0.00    0.00    0.00  0.02\n",
       "6          data_year 2022.00 2022.00 2022.00 2022.00  0.00\n",
       "7    data_day_number   13.00    2.00    8.38    9.00  3.07"
      ]
     },
     "execution_count": 8,
     "metadata": {},
     "output_type": "execute_result"
    }
   ],
   "source": [
    "describe(data_hm)"
   ]
  },
  {
   "cell_type": "code",
   "execution_count": 7,
   "id": "4db5f87d",
   "metadata": {
    "ExecuteTime": {
     "end_time": "2022-05-16T23:13:21.873864Z",
     "start_time": "2022-05-16T23:13:21.542274Z"
    },
    "hidden": true
   },
   "outputs": [
    {
     "data": {
      "image/png": "[encoded data removed]",
      "text/plain": [
       "<Figure size 576x432 with 1 Axes>"
      ]
     },
     "metadata": {},
     "output_type": "display_data"
    }
   ],
   "source": [
    "data_hist(data_hm, 'product_price')"
   ]
  },
  {
   "cell_type": "markdown",
   "id": "587272f4",
   "metadata": {
    "hidden": true
   },
   "source": [
    "Algumas considerações:\n",
    "\n",
    "- O atributo 'product_price' representa o preço de venda normal dos items; é possível observar que o maior preço encontrado é de 119,99 dólares e o menor valor sendo 11,99 dólares;\n",
    "- A média dos preços está em torno de 44,62 dólares, fazendo inferir que grande parte dos produtos possuem valores menores que o valor máximo;\n",
    "- A mediana é a forma mais fiel para expressar a distribuição dos preços nessa situação em que não há uma distribuição normal, como observado no histograma acima. O valor mediano dos preços é de 39,99 dólares;\n",
    "- No atributo 'product_price_new' representa os preços de promoção das calças. Os produtos com valor zero nesse atributo, significa que não teve preço de promoção. O maior valor encontrado foi de 39,99 dólares;\n",
    "- As composições das calças estão representadas desde 'cotton' até 'elastomultiester'."
   ]
  },
  {
   "cell_type": "markdown",
   "id": "4405c532",
   "metadata": {
    "heading_collapsed": true,
    "hidden": true
   },
   "source": [
    "### 6.1.2 - Describe Macy's"
   ]
  },
  {
   "cell_type": "code",
   "execution_count": 9,
   "id": "195577b6",
   "metadata": {
    "ExecuteTime": {
     "end_time": "2022-05-16T23:14:52.981111Z",
     "start_time": "2022-05-16T23:14:52.970043Z"
    },
    "hidden": true,
    "scrolled": false
   },
   "outputs": [
    {
     "data": {
      "text/html": [
       "<div>\n",
       "<style scoped>\n",
       "    .dataframe tbody tr th:only-of-type {\n",
       "        vertical-align: middle;\n",
       "    }\n",
       "\n",
       "    .dataframe tbody tr th {\n",
       "        vertical-align: top;\n",
       "    }\n",
       "\n",
       "    .dataframe thead th {\n",
       "        text-align: right;\n",
       "    }\n",
       "</style>\n",
       "<table border=\"1\" class=\"dataframe\">\n",
       "  <thead>\n",
       "    <tr style=\"text-align: right;\">\n",
       "      <th></th>\n",
       "      <th>attributes</th>\n",
       "      <th>max</th>\n",
       "      <th>min</th>\n",
       "      <th>mean</th>\n",
       "      <th>median</th>\n",
       "      <th>std</th>\n",
       "    </tr>\n",
       "  </thead>\n",
       "  <tbody>\n",
       "    <tr>\n",
       "      <th>0</th>\n",
       "      <td>product_price</td>\n",
       "      <td>348.00</td>\n",
       "      <td>29.50</td>\n",
       "      <td>102.63</td>\n",
       "      <td>89.00</td>\n",
       "      <td>49.31</td>\n",
       "    </tr>\n",
       "    <tr>\n",
       "      <th>1</th>\n",
       "      <td>product_sale</td>\n",
       "      <td>167.30</td>\n",
       "      <td>0.00</td>\n",
       "      <td>15.84</td>\n",
       "      <td>0.00</td>\n",
       "      <td>29.28</td>\n",
       "    </tr>\n",
       "    <tr>\n",
       "      <th>2</th>\n",
       "      <td>data_year</td>\n",
       "      <td>2022.00</td>\n",
       "      <td>2022.00</td>\n",
       "      <td>2022.00</td>\n",
       "      <td>2022.00</td>\n",
       "      <td>0.00</td>\n",
       "    </tr>\n",
       "    <tr>\n",
       "      <th>3</th>\n",
       "      <td>data_day_number</td>\n",
       "      <td>16.00</td>\n",
       "      <td>2.00</td>\n",
       "      <td>8.92</td>\n",
       "      <td>9.00</td>\n",
       "      <td>4.34</td>\n",
       "    </tr>\n",
       "  </tbody>\n",
       "</table>\n",
       "</div>"
      ],
      "text/plain": [
       "        attributes     max     min    mean  median   std\n",
       "0    product_price  348.00   29.50  102.63   89.00 49.31\n",
       "1     product_sale  167.30    0.00   15.84    0.00 29.28\n",
       "2        data_year 2022.00 2022.00 2022.00 2022.00  0.00\n",
       "3  data_day_number   16.00    2.00    8.92    9.00  4.34"
      ]
     },
     "execution_count": 9,
     "metadata": {},
     "output_type": "execute_result"
    }
   ],
   "source": [
    "describe(data_macys)"
   ]
  },
  {
   "cell_type": "code",
   "execution_count": 10,
   "id": "acbd7c48",
   "metadata": {
    "ExecuteTime": {
     "end_time": "2022-05-16T23:20:17.211044Z",
     "start_time": "2022-05-16T23:20:17.007288Z"
    },
    "hidden": true
   },
   "outputs": [
    {
     "data": {
      "image/png": "[encoded data removed]",
      "text/plain": [
       "<Figure size 576x432 with 1 Axes>"
      ]
     },
     "metadata": {},
     "output_type": "display_data"
    }
   ],
   "source": [
    "data_hist(data_macys, 'product_price')"
   ]
  },
  {
   "cell_type": "markdown",
   "id": "e7d0b206",
   "metadata": {
    "hidden": true
   },
   "source": [
    "Algumas considerações:\n",
    "\n",
    "- O atributo 'product_price' representa o preço de venda normal dos items; é possível observar que o maior preço encontrado é de 119,99 dólares e o menor valor sendo 11,99 dólares;\n",
    "- A média dos preços está em torno de 44,62 dólares, fazendo inferir que grande parte dos produtos possuem valores menores que o valor máximo;\n",
    "- A mediana é a forma mais fiel para expressar a distribuição dos preços nessa situação em que não há uma distribuição normal, como observado no histograma acima. O valor mediano dos preços é de 39,99 dólares;\n",
    "- No atributo 'product_price_new' representa os preços de promoção das calças. Os produtos com valor zero nesse atributo, significa que não teve preço de promoção. O maior valor encontrado foi de 39,99 dólares;\n",
    "- As composições das calças estão representadas desde 'cotton' até 'elastomultiester'."
   ]
  },
  {
   "cell_type": "markdown",
   "id": "2c5ce4f5",
   "metadata": {
    "heading_collapsed": true,
    "hidden": true
   },
   "source": [
    "### 6.1.3 - Comparation"
   ]
  },
  {
   "cell_type": "markdown",
   "id": "528f15b2",
   "metadata": {
    "ExecuteTime": {
     "end_time": "2022-05-16T23:54:51.893155Z",
     "start_time": "2022-05-16T23:54:51.747984Z"
    },
    "hidden": true
   },
   "source": [
    "A principal diferença entre os dados das duas concorrentes é na informação de composição do que compõe as calças. Na H&M há os valores das porcentagens de cada componente, enquanto na Macy's as informações que são fornecidas sobre composição são somente quais componentes estão presentes. Porém, a informação mais crucial está nos preços de vendas. É notório a grande diferença entre os valores dos produtos vendidos entre as duas empresas, na H&M temos produtos mais baratos enquanto na Macy's mais caros, o que nos leva a inferir que a segunda fornece produtos de grife e consequentemente a primeira com produtos mais acessíveis.\n",
    "\n",
    "Esse fator não descredibiliza e descarta o que foi extraído da Macy's. Podendo ser usado para melhor compreensão do comportamento dos preços e dessa forma analisar, de forma adequada, o mercado de calças e seus fenômenos."
   ]
  },
  {
   "cell_type": "markdown",
   "id": "c24866d8",
   "metadata": {},
   "source": [
    "## 6.2 - Answering the hypothesis"
   ]
  },
  {
   "cell_type": "markdown",
   "id": "99d769d5",
   "metadata": {
    "heading_collapsed": true
   },
   "source": [
    "### 6.2.1 - H1: O dia com mais promoções é na sexta-feira"
   ]
  },
  {
   "cell_type": "code",
   "execution_count": 12,
   "id": "7efe9a2a",
   "metadata": {
    "ExecuteTime": {
     "end_time": "2022-05-28T18:56:55.427576Z",
     "start_time": "2022-05-28T18:56:55.302201Z"
    },
    "hidden": true
   },
   "outputs": [
    {
     "data": {
      "image/png": "[encoded data removed]",
      "text/plain": [
       "<Figure size 864x432 with 1 Axes>"
      ]
     },
     "metadata": {},
     "output_type": "display_data"
    }
   ],
   "source": [
    "#######################################\n",
    "# H1 - H&M\n",
    "#######################################\n",
    "\n",
    "data_1 = data_hm.loc[data_hm['product_price_new']>0, :]\n",
    "data_aux1 = data_1[['data_day_name', 'product_price_new']].groupby('data_day_name').count().reset_index()\n",
    "\n",
    "# Criando a ordem do dia da semana\n",
    "data_aux1['data_day_name'] =  pd.Categorical(data_aux1['data_day_name'],\n",
    "                                            categories = ['Sunday', 'Monday', 'Tuesday', 'Wednesday', 'Thursday', 'Friday', 'Saturday'],\n",
    "                                            ordered=True)\n",
    "\n",
    "sns.set_theme()\n",
    "fig, ax = plt.subplots(figsize=(12,6))\n",
    "sns.lineplot(data=data_aux1, x='data_day_name', y='product_price_new', ax=ax)\n",
    "plt.title('Evolução da quantidade de descontos - H&M')\n",
    "plt.show()"
   ]
  },
  {
   "cell_type": "code",
   "execution_count": 13,
   "id": "aa46fcef",
   "metadata": {
    "ExecuteTime": {
     "end_time": "2022-05-28T18:56:56.244841Z",
     "start_time": "2022-05-28T18:56:56.094112Z"
    },
    "hidden": true
   },
   "outputs": [
    {
     "data": {
      "image/png": "[encoded data removed]",
      "text/plain": [
       "<Figure size 864x432 with 1 Axes>"
      ]
     },
     "metadata": {},
     "output_type": "display_data"
    }
   ],
   "source": [
    "#######################################\n",
    "# H1 - Macy's\n",
    "#######################################\n",
    "\n",
    "data_2 = data_macys.loc[data_macys['product_sale']>0, :]\n",
    "data_aux2 = data_2[['data_day_name', 'product_sale']].groupby('data_day_name').count().reset_index()\n",
    "\n",
    "data_aux2['data_day_name'] =  pd.Categorical(data_aux2['data_day_name'],\n",
    "                                            categories = ['Sunday', 'Monday', 'Tuesday', 'Wednesday', 'Thursday', 'Friday', 'Saturday'],\n",
    "                                            ordered=True)\n",
    "\n",
    "sns.set_theme()\n",
    "fig, ax = plt.subplots(figsize=(12,6))\n",
    "sns.lineplot(data=data_aux2, x='data_day_name', y='product_sale', ax=ax)\n",
    "plt.title(\"Evolução da quantidade de descontos - Macy's\")\n",
    "plt.show()"
   ]
  },
  {
   "cell_type": "markdown",
   "id": "be03a806",
   "metadata": {
    "hidden": true
   },
   "source": [
    "Os comportamentos da quantidade de descontos por dia da semana, são similares nas duas lojas. Segue algumas considerações:\n",
    "- Há uma grande queda de Domingo para Segunda, comportamento explicado pelo fato das pessoas voltarem para suas rotinas (trabalho, faculdade, etc) às Segundas, tendo menos tempo para acessar internet;\n",
    "- Os maiores valores podem ser encontrado na Sexta-feira na H&M, na Macy's observa-se a maior quantidade na Terça-feira, no entanto os valores na Sexta são bem próximos. Esse comportamento é explicado pelo oposto do que ocorre de Domingo para Segunda. Nessa situação, as pessoas estão entrando no \"final de semana\", tendo mais tempo para navegação na internet e dessa forma passar mais tempo escolhendo algum produto que deseje comprar."
   ]
  },
  {
   "cell_type": "markdown",
   "id": "0d316644",
   "metadata": {},
   "source": [
    "### 6.2.2 - H2: Os 5 modelos com maiores quantidades de calças, são as que possuem o valor em torno da mediana total"
   ]
  },
  {
   "cell_type": "code",
   "execution_count": 84,
   "id": "28b84135",
   "metadata": {
    "ExecuteTime": {
     "end_time": "2022-05-28T23:23:35.872419Z",
     "start_time": "2022-05-28T23:23:35.861476Z"
    }
   },
   "outputs": [
    {
     "name": "stdout",
     "output_type": "stream",
     "text": [
      "          product_name  count_id  median_price  Rank\n",
      "16          Slim Jeans       407         29.99  1.00\n",
      "15        Skinny Jeans       361         19.99  2.00\n",
      "7        Regular Jeans       358         48.99  3.00\n",
      "19  Slim Tapered Jeans       253        119.99  4.00\n",
      "10       Relaxed Jeans       182         53.99  5.00\n",
      "\n",
      "\n",
      "\n",
      "A mediana dos total dos preços é de: 39.99\n"
     ]
    }
   ],
   "source": [
    "data_3 = data_hm[['product_name', 'product_id', 'product_price']].groupby('product_name').agg({'product_id':'count', 'product_price':'median'}).reset_index()\n",
    "data_3 = data_3.rename(columns = {'product_id':'count_id', 'product_price':'median_price'})\n",
    "data_3['Rank'] = data_3['count_id'].rank(ascending=False)\n",
    "data_3.sort_values('Rank', inplace=True)\n",
    "data_3 = data_3.loc[data_3['Rank']<6, :]\n",
    "print(data_3)\n",
    "print(\"\\n\\n\")\n",
    "print(f\"A mediana dos total dos preços é de: {data_hm['product_price'].median()}\")"
   ]
  },
  {
   "cell_type": "code",
   "execution_count": 17,
   "id": "e2c5f3e2",
   "metadata": {
    "ExecuteTime": {
     "end_time": "2022-05-28T20:08:24.232156Z",
     "start_time": "2022-05-28T20:08:24.228487Z"
    }
   },
   "outputs": [
    {
     "data": {
      "text/plain": [
       "array(['Slim fit', 'Regular fit', 'Loose fit', 'Skinny fit',\n",
       "       'Relaxed fit'], dtype=object)"
      ]
     },
     "execution_count": 17,
     "metadata": {},
     "output_type": "execute_result"
    }
   ],
   "source": [
    "data_hm['product_fit'].unique()"
   ]
  },
  {
   "cell_type": "code",
   "execution_count": null,
   "id": "cefb6c87",
   "metadata": {},
   "outputs": [],
   "source": []
  },
  {
   "cell_type": "code",
   "execution_count": null,
   "id": "cf94ecb6",
   "metadata": {},
   "outputs": [],
   "source": []
  },
  {
   "cell_type": "code",
   "execution_count": null,
   "id": "fdcbf8de",
   "metadata": {},
   "outputs": [],
   "source": []
  },
  {
   "cell_type": "code",
   "execution_count": null,
   "id": "bedff5fd",
   "metadata": {},
   "outputs": [],
   "source": []
  },
  {
   "cell_type": "markdown",
   "id": "24258b78",
   "metadata": {},
   "source": [
    "# 7 - Business case"
   ]
  },
  {
   "cell_type": "code",
   "execution_count": null,
   "id": "8f97a164",
   "metadata": {},
   "outputs": [],
   "source": []
  },
  {
   "cell_type": "code",
   "execution_count": null,
   "id": "d1ad30f0",
   "metadata": {},
   "outputs": [],
   "source": []
  },
  {
   "cell_type": "markdown",
   "id": "34e8f241",
   "metadata": {},
   "source": [
    "# 8 - Conclusion and Next Steps"
   ]
  },
  {
   "cell_type": "code",
   "execution_count": null,
   "id": "01f76700",
   "metadata": {},
   "outputs": [],
   "source": []
  },
  {
   "cell_type": "code",
   "execution_count": null,
   "id": "ebcc0c59",
   "metadata": {},
   "outputs": [],
   "source": []
  }
 ],
 "metadata": {
  "kernelspec": {
   "display_name": "Python 3 (ipykernel)",
   "language": "python",
   "name": "python3"
  },
  "language_info": {
   "codemirror_mode": {
    "name": "ipython",
    "version": 3
   },
   "file_extension": ".py",
   "mimetype": "text/x-python",
   "name": "python",
   "nbconvert_exporter": "python",
   "pygments_lexer": "ipython3",
   "version": "3.9.12"
  }
 },
 "nbformat": 4,
 "nbformat_minor": 5
}
